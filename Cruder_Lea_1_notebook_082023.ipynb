{
 "cells": [
  {
   "cell_type": "markdown",
   "id": "f23227d2",
   "metadata": {},
   "source": [
    "<div style=\" background-color: RGB(173,40,59);\" >\n",
    "<h1 style=\"margin: auto; padding: 20px 0; color:#fff; text-align: center\">PROJET 5 CRUDER LEA</h1>\n",
    "<h2 style=\"margin: auto; padding: 20px 0; color:#fff; text-align: center\">Optimisez la gestion des données d'une boutique avec R ou Python\n",
    "</h2>"
   ]
  },
  {
   "cell_type": "markdown",
   "id": "b0918b38",
   "metadata": {},
   "source": [
    "<div style=\"background-color: RGB(173,40,59);\" >\n",
    "<h2 style=\"margin: auto; padding: 20px; color:#fff; \">Etape 1 - Importation des librairies, chargement des fichiers et détection des anomalies</h2>"
   ]
  },
  {
   "cell_type": "markdown",
   "id": "b3b3c2a2",
   "metadata": {},
   "source": [
    "<div style=\"border: 1px solid RGB(173,40,59);\" >\n",
    "<h3 style=\"margin: auto; padding: 20px; color: RGB(173,40,59); \">1.1 - Importation des librairies</h3>"
   ]
  },
  {
   "cell_type": "code",
   "execution_count": 1,
   "id": "6b32253e",
   "metadata": {},
   "outputs": [],
   "source": [
    "# Importation des librairies \n",
    "\n",
    "import pandas as pd\n",
    "import warnings\n",
    "import numpy as np\n",
    "import seaborn as sns\n",
    "import matplotlib.pyplot as plt"
   ]
  },
  {
   "cell_type": "markdown",
   "id": "03f42493",
   "metadata": {},
   "source": [
    "<div style=\"border: 1px solid RGB(173,40,59);\" >\n",
    "<h3 style=\"margin: auto; padding: 20px; color: RGB(173,40,59); \">1.2 - Chargement des fichiers Excel</h3>"
   ]
  },
  {
   "cell_type": "code",
   "execution_count": 2,
   "id": "9f7625ba",
   "metadata": {
    "scrolled": false
   },
   "outputs": [],
   "source": [
    "# Importation du fichier ERP\n",
    "\n",
    "with warnings.catch_warnings():\n",
    "    warnings.filterwarnings('ignore', category=UserWarning)\n",
    "    fichierERP = pd.read_excel('./Fichier_ERP.xlsx')"
   ]
  },
  {
   "cell_type": "code",
   "execution_count": 3,
   "id": "a2237de3",
   "metadata": {
    "scrolled": true
   },
   "outputs": [
    {
     "data": {
      "text/html": [
       "<div>\n",
       "<style scoped>\n",
       "    .dataframe tbody tr th:only-of-type {\n",
       "        vertical-align: middle;\n",
       "    }\n",
       "\n",
       "    .dataframe tbody tr th {\n",
       "        vertical-align: top;\n",
       "    }\n",
       "\n",
       "    .dataframe thead th {\n",
       "        text-align: right;\n",
       "    }\n",
       "</style>\n",
       "<table border=\"1\" class=\"dataframe\">\n",
       "  <thead>\n",
       "    <tr style=\"text-align: right;\">\n",
       "      <th></th>\n",
       "      <th>product_id</th>\n",
       "      <th>onsale_web</th>\n",
       "      <th>price</th>\n",
       "      <th>stock_quantity</th>\n",
       "      <th>stock_status</th>\n",
       "    </tr>\n",
       "  </thead>\n",
       "  <tbody>\n",
       "    <tr>\n",
       "      <th>0</th>\n",
       "      <td>3847</td>\n",
       "      <td>1</td>\n",
       "      <td>24.2</td>\n",
       "      <td>0</td>\n",
       "      <td>outofstock</td>\n",
       "    </tr>\n",
       "    <tr>\n",
       "      <th>1</th>\n",
       "      <td>3849</td>\n",
       "      <td>1</td>\n",
       "      <td>34.3</td>\n",
       "      <td>0</td>\n",
       "      <td>outofstock</td>\n",
       "    </tr>\n",
       "    <tr>\n",
       "      <th>2</th>\n",
       "      <td>3850</td>\n",
       "      <td>1</td>\n",
       "      <td>20.8</td>\n",
       "      <td>0</td>\n",
       "      <td>outofstock</td>\n",
       "    </tr>\n",
       "    <tr>\n",
       "      <th>3</th>\n",
       "      <td>4032</td>\n",
       "      <td>1</td>\n",
       "      <td>14.1</td>\n",
       "      <td>0</td>\n",
       "      <td>outofstock</td>\n",
       "    </tr>\n",
       "    <tr>\n",
       "      <th>4</th>\n",
       "      <td>4039</td>\n",
       "      <td>1</td>\n",
       "      <td>46.0</td>\n",
       "      <td>0</td>\n",
       "      <td>outofstock</td>\n",
       "    </tr>\n",
       "  </tbody>\n",
       "</table>\n",
       "</div>"
      ],
      "text/plain": [
       "   product_id  onsale_web  price  stock_quantity stock_status\n",
       "0        3847           1   24.2               0   outofstock\n",
       "1        3849           1   34.3               0   outofstock\n",
       "2        3850           1   20.8               0   outofstock\n",
       "3        4032           1   14.1               0   outofstock\n",
       "4        4039           1   46.0               0   outofstock"
      ]
     },
     "execution_count": 3,
     "metadata": {},
     "output_type": "execute_result"
    }
   ],
   "source": [
    "fichierERP.head()"
   ]
  },
  {
   "cell_type": "code",
   "execution_count": 4,
   "id": "9da4b118",
   "metadata": {
    "scrolled": true
   },
   "outputs": [],
   "source": [
    "# Importation du fichier web\n",
    "\n",
    "with warnings.catch_warnings():\n",
    "    warnings.filterwarnings('ignore', category=UserWarning)\n",
    "    fichierWeb = pd.read_excel('./Fichier_Web.xlsx')"
   ]
  },
  {
   "cell_type": "code",
   "execution_count": 5,
   "id": "f0f4385c",
   "metadata": {},
   "outputs": [
    {
     "data": {
      "text/html": [
       "<div>\n",
       "<style scoped>\n",
       "    .dataframe tbody tr th:only-of-type {\n",
       "        vertical-align: middle;\n",
       "    }\n",
       "\n",
       "    .dataframe tbody tr th {\n",
       "        vertical-align: top;\n",
       "    }\n",
       "\n",
       "    .dataframe thead th {\n",
       "        text-align: right;\n",
       "    }\n",
       "</style>\n",
       "<table border=\"1\" class=\"dataframe\">\n",
       "  <thead>\n",
       "    <tr style=\"text-align: right;\">\n",
       "      <th></th>\n",
       "      <th>sku</th>\n",
       "      <th>virtual</th>\n",
       "      <th>downloadable</th>\n",
       "      <th>rating_count</th>\n",
       "      <th>average_rating</th>\n",
       "      <th>total_sales</th>\n",
       "      <th>tax_status</th>\n",
       "      <th>tax_class</th>\n",
       "      <th>post_author</th>\n",
       "      <th>post_date</th>\n",
       "      <th>...</th>\n",
       "      <th>post_name</th>\n",
       "      <th>post_modified</th>\n",
       "      <th>post_modified_gmt</th>\n",
       "      <th>post_content_filtered</th>\n",
       "      <th>post_parent</th>\n",
       "      <th>guid</th>\n",
       "      <th>menu_order</th>\n",
       "      <th>post_type</th>\n",
       "      <th>post_mime_type</th>\n",
       "      <th>comment_count</th>\n",
       "    </tr>\n",
       "  </thead>\n",
       "  <tbody>\n",
       "    <tr>\n",
       "      <th>0</th>\n",
       "      <td>16004</td>\n",
       "      <td>0</td>\n",
       "      <td>0</td>\n",
       "      <td>0</td>\n",
       "      <td>0.0</td>\n",
       "      <td>5.0</td>\n",
       "      <td>NaN</td>\n",
       "      <td>NaN</td>\n",
       "      <td>2.0</td>\n",
       "      <td>2018-06-07 16:27:25</td>\n",
       "      <td>...</td>\n",
       "      <td>chateau-du-couvent-pomerol-2017</td>\n",
       "      <td>2020-08-25 18:35:02</td>\n",
       "      <td>2020-08-25 16:35:02</td>\n",
       "      <td>NaN</td>\n",
       "      <td>0.0</td>\n",
       "      <td>https://www.bottle-neck.fr/wp-content/uploads/...</td>\n",
       "      <td>0.0</td>\n",
       "      <td>attachment</td>\n",
       "      <td>image/jpeg</td>\n",
       "      <td>0.0</td>\n",
       "    </tr>\n",
       "    <tr>\n",
       "      <th>1</th>\n",
       "      <td>NaN</td>\n",
       "      <td>0</td>\n",
       "      <td>0</td>\n",
       "      <td>0</td>\n",
       "      <td>NaN</td>\n",
       "      <td>NaN</td>\n",
       "      <td>NaN</td>\n",
       "      <td>NaN</td>\n",
       "      <td>NaN</td>\n",
       "      <td>NaT</td>\n",
       "      <td>...</td>\n",
       "      <td>NaN</td>\n",
       "      <td>NaT</td>\n",
       "      <td>NaT</td>\n",
       "      <td>NaN</td>\n",
       "      <td>NaN</td>\n",
       "      <td>NaN</td>\n",
       "      <td>NaN</td>\n",
       "      <td>NaN</td>\n",
       "      <td>NaN</td>\n",
       "      <td>NaN</td>\n",
       "    </tr>\n",
       "    <tr>\n",
       "      <th>2</th>\n",
       "      <td>15075</td>\n",
       "      <td>0</td>\n",
       "      <td>0</td>\n",
       "      <td>0</td>\n",
       "      <td>0.0</td>\n",
       "      <td>3.0</td>\n",
       "      <td>taxable</td>\n",
       "      <td>NaN</td>\n",
       "      <td>2.0</td>\n",
       "      <td>2018-02-14 15:39:43</td>\n",
       "      <td>...</td>\n",
       "      <td>pares-balta-penedes-indigena-2017</td>\n",
       "      <td>2020-08-20 15:35:02</td>\n",
       "      <td>2020-08-20 13:35:02</td>\n",
       "      <td>NaN</td>\n",
       "      <td>0.0</td>\n",
       "      <td>https://www.bottle-neck.fr/?post_type=product&amp;...</td>\n",
       "      <td>0.0</td>\n",
       "      <td>product</td>\n",
       "      <td>NaN</td>\n",
       "      <td>0.0</td>\n",
       "    </tr>\n",
       "    <tr>\n",
       "      <th>3</th>\n",
       "      <td>16209</td>\n",
       "      <td>0</td>\n",
       "      <td>0</td>\n",
       "      <td>0</td>\n",
       "      <td>0.0</td>\n",
       "      <td>6.0</td>\n",
       "      <td>taxable</td>\n",
       "      <td>NaN</td>\n",
       "      <td>2.0</td>\n",
       "      <td>2018-02-14 17:15:31</td>\n",
       "      <td>...</td>\n",
       "      <td>maurel-cabardes-tradition-2017</td>\n",
       "      <td>2020-08-05 18:05:03</td>\n",
       "      <td>2020-08-05 16:05:03</td>\n",
       "      <td>NaN</td>\n",
       "      <td>0.0</td>\n",
       "      <td>https://www.bottle-neck.fr/?post_type=product&amp;...</td>\n",
       "      <td>0.0</td>\n",
       "      <td>product</td>\n",
       "      <td>NaN</td>\n",
       "      <td>0.0</td>\n",
       "    </tr>\n",
       "    <tr>\n",
       "      <th>4</th>\n",
       "      <td>15763</td>\n",
       "      <td>0</td>\n",
       "      <td>0</td>\n",
       "      <td>0</td>\n",
       "      <td>0.0</td>\n",
       "      <td>1.0</td>\n",
       "      <td>NaN</td>\n",
       "      <td>NaN</td>\n",
       "      <td>2.0</td>\n",
       "      <td>2020-01-25 14:08:16</td>\n",
       "      <td>...</td>\n",
       "      <td>domaine-de-la-monardiere-vacqueyras-les-vieill...</td>\n",
       "      <td>2020-08-21 11:35:02</td>\n",
       "      <td>2020-08-21 09:35:02</td>\n",
       "      <td>NaN</td>\n",
       "      <td>0.0</td>\n",
       "      <td>https://www.bottle-neck.fr/wp-content/uploads/...</td>\n",
       "      <td>0.0</td>\n",
       "      <td>attachment</td>\n",
       "      <td>image/jpeg</td>\n",
       "      <td>0.0</td>\n",
       "    </tr>\n",
       "  </tbody>\n",
       "</table>\n",
       "<p>5 rows × 28 columns</p>\n",
       "</div>"
      ],
      "text/plain": [
       "     sku  virtual  downloadable  rating_count  average_rating  total_sales  \\\n",
       "0  16004        0             0             0             0.0          5.0   \n",
       "1    NaN        0             0             0             NaN          NaN   \n",
       "2  15075        0             0             0             0.0          3.0   \n",
       "3  16209        0             0             0             0.0          6.0   \n",
       "4  15763        0             0             0             0.0          1.0   \n",
       "\n",
       "  tax_status  tax_class  post_author           post_date  ...  \\\n",
       "0        NaN        NaN          2.0 2018-06-07 16:27:25  ...   \n",
       "1        NaN        NaN          NaN                 NaT  ...   \n",
       "2    taxable        NaN          2.0 2018-02-14 15:39:43  ...   \n",
       "3    taxable        NaN          2.0 2018-02-14 17:15:31  ...   \n",
       "4        NaN        NaN          2.0 2020-01-25 14:08:16  ...   \n",
       "\n",
       "                                           post_name       post_modified  \\\n",
       "0                    chateau-du-couvent-pomerol-2017 2020-08-25 18:35:02   \n",
       "1                                                NaN                 NaT   \n",
       "2                  pares-balta-penedes-indigena-2017 2020-08-20 15:35:02   \n",
       "3                     maurel-cabardes-tradition-2017 2020-08-05 18:05:03   \n",
       "4  domaine-de-la-monardiere-vacqueyras-les-vieill... 2020-08-21 11:35:02   \n",
       "\n",
       "    post_modified_gmt post_content_filtered post_parent  \\\n",
       "0 2020-08-25 16:35:02                   NaN         0.0   \n",
       "1                 NaT                   NaN         NaN   \n",
       "2 2020-08-20 13:35:02                   NaN         0.0   \n",
       "3 2020-08-05 16:05:03                   NaN         0.0   \n",
       "4 2020-08-21 09:35:02                   NaN         0.0   \n",
       "\n",
       "                                                guid menu_order   post_type  \\\n",
       "0  https://www.bottle-neck.fr/wp-content/uploads/...        0.0  attachment   \n",
       "1                                                NaN        NaN         NaN   \n",
       "2  https://www.bottle-neck.fr/?post_type=product&...        0.0     product   \n",
       "3  https://www.bottle-neck.fr/?post_type=product&...        0.0     product   \n",
       "4  https://www.bottle-neck.fr/wp-content/uploads/...        0.0  attachment   \n",
       "\n",
       "  post_mime_type comment_count  \n",
       "0     image/jpeg           0.0  \n",
       "1            NaN           NaN  \n",
       "2            NaN           0.0  \n",
       "3            NaN           0.0  \n",
       "4     image/jpeg           0.0  \n",
       "\n",
       "[5 rows x 28 columns]"
      ]
     },
     "execution_count": 5,
     "metadata": {},
     "output_type": "execute_result"
    }
   ],
   "source": [
    "fichierWeb.head()"
   ]
  },
  {
   "cell_type": "code",
   "execution_count": 6,
   "id": "52a72ab4",
   "metadata": {},
   "outputs": [],
   "source": [
    "# Importation du fichier liaison\n",
    "\n",
    "with warnings.catch_warnings():\n",
    "    warnings.filterwarnings('ignore', category=UserWarning)\n",
    "    fichierLiaison = pd.read_excel('./Fichier_liaison.xlsx')"
   ]
  },
  {
   "cell_type": "code",
   "execution_count": 7,
   "id": "32095d63",
   "metadata": {
    "scrolled": true
   },
   "outputs": [
    {
     "data": {
      "text/html": [
       "<div>\n",
       "<style scoped>\n",
       "    .dataframe tbody tr th:only-of-type {\n",
       "        vertical-align: middle;\n",
       "    }\n",
       "\n",
       "    .dataframe tbody tr th {\n",
       "        vertical-align: top;\n",
       "    }\n",
       "\n",
       "    .dataframe thead th {\n",
       "        text-align: right;\n",
       "    }\n",
       "</style>\n",
       "<table border=\"1\" class=\"dataframe\">\n",
       "  <thead>\n",
       "    <tr style=\"text-align: right;\">\n",
       "      <th></th>\n",
       "      <th>product_id</th>\n",
       "      <th>id_web</th>\n",
       "    </tr>\n",
       "  </thead>\n",
       "  <tbody>\n",
       "    <tr>\n",
       "      <th>0</th>\n",
       "      <td>3847</td>\n",
       "      <td>15298</td>\n",
       "    </tr>\n",
       "    <tr>\n",
       "      <th>1</th>\n",
       "      <td>3849</td>\n",
       "      <td>15296</td>\n",
       "    </tr>\n",
       "    <tr>\n",
       "      <th>2</th>\n",
       "      <td>3850</td>\n",
       "      <td>15300</td>\n",
       "    </tr>\n",
       "    <tr>\n",
       "      <th>3</th>\n",
       "      <td>4032</td>\n",
       "      <td>19814</td>\n",
       "    </tr>\n",
       "    <tr>\n",
       "      <th>4</th>\n",
       "      <td>4039</td>\n",
       "      <td>19815</td>\n",
       "    </tr>\n",
       "  </tbody>\n",
       "</table>\n",
       "</div>"
      ],
      "text/plain": [
       "   product_id id_web\n",
       "0        3847  15298\n",
       "1        3849  15296\n",
       "2        3850  15300\n",
       "3        4032  19814\n",
       "4        4039  19815"
      ]
     },
     "execution_count": 7,
     "metadata": {},
     "output_type": "execute_result"
    }
   ],
   "source": [
    "fichierLiaison.head()"
   ]
  },
  {
   "cell_type": "markdown",
   "id": "23838c88",
   "metadata": {},
   "source": [
    "<div style=\"border: 1px solid RGB(173,40,59);\" >\n",
    "<h3 style=\"margin: auto; padding: 20px; color: RGB(173,40,59); \">1.3 - Incohérences détectées dans les données</h3>"
   ]
  },
  {
   "cell_type": "markdown",
   "id": "a717569b",
   "metadata": {},
   "source": [
    "<div style=\"border: 1px solid RGB(173,40,59);\" >\n",
    "<h3 style=\"margin: auto; padding: 14px; color: RGB(173,40,59); \">Dans le fichier ERP</h3>"
   ]
  },
  {
   "cell_type": "code",
   "execution_count": 8,
   "id": "e61b7864",
   "metadata": {
    "scrolled": false
   },
   "outputs": [
    {
     "data": {
      "text/html": [
       "<div>\n",
       "<style scoped>\n",
       "    .dataframe tbody tr th:only-of-type {\n",
       "        vertical-align: middle;\n",
       "    }\n",
       "\n",
       "    .dataframe tbody tr th {\n",
       "        vertical-align: top;\n",
       "    }\n",
       "\n",
       "    .dataframe thead th {\n",
       "        text-align: right;\n",
       "    }\n",
       "</style>\n",
       "<table border=\"1\" class=\"dataframe\">\n",
       "  <thead>\n",
       "    <tr style=\"text-align: right;\">\n",
       "      <th></th>\n",
       "      <th>product_id</th>\n",
       "      <th>price</th>\n",
       "    </tr>\n",
       "  </thead>\n",
       "  <tbody>\n",
       "    <tr>\n",
       "      <th>469</th>\n",
       "      <td>5017</td>\n",
       "      <td>-8.0</td>\n",
       "    </tr>\n",
       "    <tr>\n",
       "      <th>739</th>\n",
       "      <td>6594</td>\n",
       "      <td>-1.0</td>\n",
       "    </tr>\n",
       "  </tbody>\n",
       "</table>\n",
       "</div>"
      ],
      "text/plain": [
       "     product_id  price\n",
       "469        5017   -8.0\n",
       "739        6594   -1.0"
      ]
     },
     "execution_count": 8,
     "metadata": {},
     "output_type": "execute_result"
    }
   ],
   "source": [
    "#1 Des prix négatifs\n",
    "\n",
    "fichierERP.loc[fichierERP['price'] <= 0 ,('product_id', 'price')]"
   ]
  },
  {
   "cell_type": "code",
   "execution_count": 9,
   "id": "edc33bba",
   "metadata": {},
   "outputs": [
    {
     "data": {
      "text/html": [
       "<div>\n",
       "<style scoped>\n",
       "    .dataframe tbody tr th:only-of-type {\n",
       "        vertical-align: middle;\n",
       "    }\n",
       "\n",
       "    .dataframe tbody tr th {\n",
       "        vertical-align: top;\n",
       "    }\n",
       "\n",
       "    .dataframe thead th {\n",
       "        text-align: right;\n",
       "    }\n",
       "</style>\n",
       "<table border=\"1\" class=\"dataframe\">\n",
       "  <thead>\n",
       "    <tr style=\"text-align: right;\">\n",
       "      <th></th>\n",
       "      <th>product_id</th>\n",
       "      <th>onsale_web</th>\n",
       "      <th>price</th>\n",
       "      <th>stock_quantity</th>\n",
       "      <th>stock_status</th>\n",
       "    </tr>\n",
       "  </thead>\n",
       "  <tbody>\n",
       "    <tr>\n",
       "      <th>449</th>\n",
       "      <td>4973</td>\n",
       "      <td>0</td>\n",
       "      <td>10.0</td>\n",
       "      <td>-1</td>\n",
       "      <td>outofstock</td>\n",
       "    </tr>\n",
       "    <tr>\n",
       "      <th>573</th>\n",
       "      <td>5700</td>\n",
       "      <td>1</td>\n",
       "      <td>44.5</td>\n",
       "      <td>-1</td>\n",
       "      <td>outofstock</td>\n",
       "    </tr>\n",
       "  </tbody>\n",
       "</table>\n",
       "</div>"
      ],
      "text/plain": [
       "     product_id  onsale_web  price  stock_quantity stock_status\n",
       "449        4973           0   10.0              -1   outofstock\n",
       "573        5700           1   44.5              -1   outofstock"
      ]
     },
     "execution_count": 9,
     "metadata": {},
     "output_type": "execute_result"
    }
   ],
   "source": [
    "#2 Des stocks négatifs\n",
    "\n",
    "fichierERP.loc[fichierERP['stock_quantity'] < 0 ,:]"
   ]
  },
  {
   "cell_type": "markdown",
   "id": "16644b8b",
   "metadata": {},
   "source": [
    "<div style=\"border: 1px solid RGB(173,40,59);\" >\n",
    "<h3 style=\"margin: auto; padding: 14px; color: RGB(173,40,59); \">Dans le fichier Web</h3>"
   ]
  },
  {
   "cell_type": "code",
   "execution_count": 10,
   "id": "954a0104",
   "metadata": {},
   "outputs": [
    {
     "name": "stdout",
     "output_type": "stream",
     "text": [
      "Il y a 798 doublons sur la clé SKU et 82 lignes en double.\n"
     ]
    }
   ],
   "source": [
    "#3 Présence de doublons (aussi bien sur la clé SKU que sur des lignes entières) \n",
    "\n",
    "print(\"Il y a {} doublons sur la clé SKU\".format(fichierWeb['sku'].duplicated().sum()), \n",
    "      \"et {} lignes en double.\".format(fichierWeb.duplicated().sum()))"
   ]
  },
  {
   "cell_type": "code",
   "execution_count": 11,
   "id": "33355e45",
   "metadata": {},
   "outputs": [
    {
     "name": "stdout",
     "output_type": "stream",
     "text": [
      "sku                        85\n",
      "virtual                     0\n",
      "downloadable                0\n",
      "rating_count                0\n",
      "average_rating             83\n",
      "total_sales                83\n",
      "tax_status                797\n",
      "tax_class                1513\n",
      "post_author                83\n",
      "post_date                  83\n",
      "post_date_gmt              83\n",
      "post_content             1513\n",
      "post_title                 83\n",
      "post_excerpt              797\n",
      "post_status                83\n",
      "comment_status             83\n",
      "ping_status                83\n",
      "post_password            1513\n",
      "post_name                  83\n",
      "post_modified              83\n",
      "post_modified_gmt          83\n",
      "post_content_filtered    1513\n",
      "post_parent                83\n",
      "guid                       83\n",
      "menu_order                 83\n",
      "post_type                  83\n",
      "post_mime_type            799\n",
      "comment_count              83\n",
      "dtype: int64\n"
     ]
    }
   ],
   "source": [
    "#4 Présence de valeurs nulles \n",
    "\n",
    "print((fichierWeb.isna()).sum())"
   ]
  },
  {
   "cell_type": "markdown",
   "id": "e0a6aa0c",
   "metadata": {},
   "source": [
    "<div style=\"border: 1px solid RGB(173,40,59);\" >\n",
    "<h3 style=\"margin: auto; padding: 14px; color: RGB(173,40,59); \">Dans le fichier Liaison</h3>"
   ]
  },
  {
   "cell_type": "code",
   "execution_count": 12,
   "id": "76325e2f",
   "metadata": {},
   "outputs": [
    {
     "name": "stdout",
     "output_type": "stream",
     "text": [
      "product_id     0\n",
      "id_web        91\n",
      "dtype: int64\n"
     ]
    }
   ],
   "source": [
    "#5 Correspondances manquantes : 91 id_web en NaN (correspondant au SKU)\n",
    "\n",
    "print(fichierLiaison.isna().sum())"
   ]
  },
  {
   "cell_type": "markdown",
   "id": "8f5fa060",
   "metadata": {},
   "source": [
    "<div style=\"background-color: RGB(173,40,59);\" >\n",
    "<h2 style=\"margin: auto; padding: 20px; color:#fff; \">Etape 2 - Analyse exploratoire des fichiers</h2>"
   ]
  },
  {
   "cell_type": "markdown",
   "id": "3a3666ed",
   "metadata": {},
   "source": [
    "<div style=\"border: 1px solid RGB(173,40,59);\" >\n",
    "<h3 style=\"margin: auto; padding: 20px; color: RGB(173,40,59); \">2.1 - Analyse exploratoire du fichier ERP</h3>"
   ]
  },
  {
   "cell_type": "code",
   "execution_count": 13,
   "id": "7308f7e7",
   "metadata": {
    "scrolled": true
   },
   "outputs": [
    {
     "name": "stdout",
     "output_type": "stream",
     "text": [
      "Le tableau comporte 825 observation(s) ou article(s)\n",
      "Le tableau comporte 5 colonne(s)\n"
     ]
    }
   ],
   "source": [
    "# Afficher les dimensions du dataset\n",
    "\n",
    "print(\"Le tableau comporte {} observation(s) ou article(s)\".format(fichierERP.shape[0]))\n",
    "print(\"Le tableau comporte {} colonne(s)\".format(fichierERP.shape[1]))"
   ]
  },
  {
   "cell_type": "code",
   "execution_count": 14,
   "id": "8e950271",
   "metadata": {},
   "outputs": [
    {
     "name": "stdout",
     "output_type": "stream",
     "text": [
      "<class 'pandas.core.frame.DataFrame'>\n",
      "RangeIndex: 825 entries, 0 to 824\n",
      "Data columns (total 5 columns):\n",
      " #   Column          Non-Null Count  Dtype  \n",
      "---  ------          --------------  -----  \n",
      " 0   product_id      825 non-null    int64  \n",
      " 1   onsale_web      825 non-null    int64  \n",
      " 2   price           825 non-null    float64\n",
      " 3   stock_quantity  825 non-null    int64  \n",
      " 4   stock_status    825 non-null    object \n",
      "dtypes: float64(1), int64(3), object(1)\n",
      "memory usage: 32.4+ KB\n"
     ]
    }
   ],
   "source": [
    "# Affichage des infos du dataset\n",
    "\n",
    "fichierERP.info()"
   ]
  },
  {
   "cell_type": "code",
   "execution_count": 15,
   "id": "430b9bcd",
   "metadata": {
    "scrolled": true
   },
   "outputs": [
    {
     "data": {
      "text/html": [
       "<div>\n",
       "<style scoped>\n",
       "    .dataframe tbody tr th:only-of-type {\n",
       "        vertical-align: middle;\n",
       "    }\n",
       "\n",
       "    .dataframe tbody tr th {\n",
       "        vertical-align: top;\n",
       "    }\n",
       "\n",
       "    .dataframe thead th {\n",
       "        text-align: right;\n",
       "    }\n",
       "</style>\n",
       "<table border=\"1\" class=\"dataframe\">\n",
       "  <thead>\n",
       "    <tr style=\"text-align: right;\">\n",
       "      <th></th>\n",
       "      <th>product_id</th>\n",
       "      <th>onsale_web</th>\n",
       "      <th>price</th>\n",
       "      <th>stock_quantity</th>\n",
       "    </tr>\n",
       "  </thead>\n",
       "  <tbody>\n",
       "    <tr>\n",
       "      <th>count</th>\n",
       "      <td>825.000000</td>\n",
       "      <td>825.000000</td>\n",
       "      <td>825.000000</td>\n",
       "      <td>825.000000</td>\n",
       "    </tr>\n",
       "    <tr>\n",
       "      <th>mean</th>\n",
       "      <td>5162.597576</td>\n",
       "      <td>0.869091</td>\n",
       "      <td>32.384000</td>\n",
       "      <td>26.583030</td>\n",
       "    </tr>\n",
       "    <tr>\n",
       "      <th>std</th>\n",
       "      <td>902.644635</td>\n",
       "      <td>0.337506</td>\n",
       "      <td>26.832271</td>\n",
       "      <td>45.875948</td>\n",
       "    </tr>\n",
       "    <tr>\n",
       "      <th>min</th>\n",
       "      <td>3847.000000</td>\n",
       "      <td>0.000000</td>\n",
       "      <td>-8.000000</td>\n",
       "      <td>-1.000000</td>\n",
       "    </tr>\n",
       "    <tr>\n",
       "      <th>25%</th>\n",
       "      <td>4348.000000</td>\n",
       "      <td>1.000000</td>\n",
       "      <td>14.600000</td>\n",
       "      <td>1.000000</td>\n",
       "    </tr>\n",
       "    <tr>\n",
       "      <th>50%</th>\n",
       "      <td>4907.000000</td>\n",
       "      <td>1.000000</td>\n",
       "      <td>24.400000</td>\n",
       "      <td>11.000000</td>\n",
       "    </tr>\n",
       "    <tr>\n",
       "      <th>75%</th>\n",
       "      <td>5805.000000</td>\n",
       "      <td>1.000000</td>\n",
       "      <td>42.000000</td>\n",
       "      <td>34.000000</td>\n",
       "    </tr>\n",
       "    <tr>\n",
       "      <th>max</th>\n",
       "      <td>7338.000000</td>\n",
       "      <td>1.000000</td>\n",
       "      <td>225.000000</td>\n",
       "      <td>578.000000</td>\n",
       "    </tr>\n",
       "  </tbody>\n",
       "</table>\n",
       "</div>"
      ],
      "text/plain": [
       "        product_id  onsale_web       price  stock_quantity\n",
       "count   825.000000  825.000000  825.000000      825.000000\n",
       "mean   5162.597576    0.869091   32.384000       26.583030\n",
       "std     902.644635    0.337506   26.832271       45.875948\n",
       "min    3847.000000    0.000000   -8.000000       -1.000000\n",
       "25%    4348.000000    1.000000   14.600000        1.000000\n",
       "50%    4907.000000    1.000000   24.400000       11.000000\n",
       "75%    5805.000000    1.000000   42.000000       34.000000\n",
       "max    7338.000000    1.000000  225.000000      578.000000"
      ]
     },
     "execution_count": 15,
     "metadata": {},
     "output_type": "execute_result"
    }
   ],
   "source": [
    "# Recherche de valeurs aberrantes\n",
    "\n",
    "fichierERP.describe()"
   ]
  },
  {
   "cell_type": "code",
   "execution_count": 16,
   "id": "f74dd057",
   "metadata": {},
   "outputs": [],
   "source": [
    "# Changement de nom des colonnes\n",
    "\n",
    "fichierERP.rename(columns = {'product_id':'id_produit', 'onsale_web':'vente_en_ligne',\n",
    "                             'price':'prix','stock_quantity':'qte_en_stock','stock_status':'statut_stock'}, inplace=True)"
   ]
  },
  {
   "cell_type": "code",
   "execution_count": 17,
   "id": "ba83abb5",
   "metadata": {},
   "outputs": [
    {
     "data": {
      "text/plain": [
       "825"
      ]
     },
     "execution_count": 17,
     "metadata": {},
     "output_type": "execute_result"
    }
   ],
   "source": [
    "# Recherche de doublons\n",
    "\n",
    "fichierERP['id_produit'].unique().shape[0]"
   ]
  },
  {
   "cell_type": "code",
   "execution_count": 18,
   "id": "24af77f1",
   "metadata": {
    "scrolled": true
   },
   "outputs": [
    {
     "data": {
      "text/html": [
       "<div>\n",
       "<style scoped>\n",
       "    .dataframe tbody tr th:only-of-type {\n",
       "        vertical-align: middle;\n",
       "    }\n",
       "\n",
       "    .dataframe tbody tr th {\n",
       "        vertical-align: top;\n",
       "    }\n",
       "\n",
       "    .dataframe thead th {\n",
       "        text-align: right;\n",
       "    }\n",
       "</style>\n",
       "<table border=\"1\" class=\"dataframe\">\n",
       "  <thead>\n",
       "    <tr style=\"text-align: right;\">\n",
       "      <th></th>\n",
       "      <th>id_produit</th>\n",
       "      <th>vente_en_ligne</th>\n",
       "      <th>prix</th>\n",
       "      <th>qte_en_stock</th>\n",
       "      <th>statut_stock</th>\n",
       "    </tr>\n",
       "  </thead>\n",
       "  <tbody>\n",
       "    <tr>\n",
       "      <th>0</th>\n",
       "      <td>3847</td>\n",
       "      <td>1</td>\n",
       "      <td>24.2</td>\n",
       "      <td>0</td>\n",
       "      <td>outofstock</td>\n",
       "    </tr>\n",
       "    <tr>\n",
       "      <th>1</th>\n",
       "      <td>3849</td>\n",
       "      <td>1</td>\n",
       "      <td>34.3</td>\n",
       "      <td>0</td>\n",
       "      <td>outofstock</td>\n",
       "    </tr>\n",
       "    <tr>\n",
       "      <th>2</th>\n",
       "      <td>3850</td>\n",
       "      <td>1</td>\n",
       "      <td>20.8</td>\n",
       "      <td>0</td>\n",
       "      <td>outofstock</td>\n",
       "    </tr>\n",
       "    <tr>\n",
       "      <th>3</th>\n",
       "      <td>4032</td>\n",
       "      <td>1</td>\n",
       "      <td>14.1</td>\n",
       "      <td>0</td>\n",
       "      <td>outofstock</td>\n",
       "    </tr>\n",
       "    <tr>\n",
       "      <th>4</th>\n",
       "      <td>4039</td>\n",
       "      <td>1</td>\n",
       "      <td>46.0</td>\n",
       "      <td>0</td>\n",
       "      <td>outofstock</td>\n",
       "    </tr>\n",
       "  </tbody>\n",
       "</table>\n",
       "</div>"
      ],
      "text/plain": [
       "   id_produit  vente_en_ligne  prix  qte_en_stock statut_stock\n",
       "0        3847               1  24.2             0   outofstock\n",
       "1        3849               1  34.3             0   outofstock\n",
       "2        3850               1  20.8             0   outofstock\n",
       "3        4032               1  14.1             0   outofstock\n",
       "4        4039               1  46.0             0   outofstock"
      ]
     },
     "execution_count": 18,
     "metadata": {},
     "output_type": "execute_result"
    }
   ],
   "source": [
    "# Filtrage des valeurs positives dans une copie\n",
    "\n",
    "fichierERP2 = fichierERP[fichierERP['prix'] >= 0 ]\n",
    "fichierERP2.head()"
   ]
  },
  {
   "cell_type": "code",
   "execution_count": 19,
   "id": "b428b168",
   "metadata": {},
   "outputs": [
    {
     "data": {
      "text/plain": [
       "2"
      ]
     },
     "execution_count": 19,
     "metadata": {},
     "output_type": "execute_result"
    }
   ],
   "source": [
    "# Vérification de la nature de \"vente_en_ligne\"  -> booléen\n",
    "\n",
    "fichierERP2['vente_en_ligne'].unique().shape[0]"
   ]
  },
  {
   "cell_type": "code",
   "execution_count": 20,
   "id": "d2036e81",
   "metadata": {
    "scrolled": false
   },
   "outputs": [
    {
     "data": {
      "text/html": [
       "<div>\n",
       "<style scoped>\n",
       "    .dataframe tbody tr th:only-of-type {\n",
       "        vertical-align: middle;\n",
       "    }\n",
       "\n",
       "    .dataframe tbody tr th {\n",
       "        vertical-align: top;\n",
       "    }\n",
       "\n",
       "    .dataframe thead th {\n",
       "        text-align: right;\n",
       "    }\n",
       "</style>\n",
       "<table border=\"1\" class=\"dataframe\">\n",
       "  <thead>\n",
       "    <tr style=\"text-align: right;\">\n",
       "      <th></th>\n",
       "      <th>id_produit</th>\n",
       "      <th>vente_en_ligne</th>\n",
       "      <th>prix</th>\n",
       "      <th>qte_en_stock</th>\n",
       "      <th>statut_stock</th>\n",
       "    </tr>\n",
       "  </thead>\n",
       "  <tbody>\n",
       "    <tr>\n",
       "      <th>0</th>\n",
       "      <td>3847</td>\n",
       "      <td>1</td>\n",
       "      <td>24.2</td>\n",
       "      <td>0</td>\n",
       "      <td>outofstock</td>\n",
       "    </tr>\n",
       "    <tr>\n",
       "      <th>1</th>\n",
       "      <td>3849</td>\n",
       "      <td>1</td>\n",
       "      <td>34.3</td>\n",
       "      <td>0</td>\n",
       "      <td>outofstock</td>\n",
       "    </tr>\n",
       "    <tr>\n",
       "      <th>2</th>\n",
       "      <td>3850</td>\n",
       "      <td>1</td>\n",
       "      <td>20.8</td>\n",
       "      <td>0</td>\n",
       "      <td>outofstock</td>\n",
       "    </tr>\n",
       "    <tr>\n",
       "      <th>3</th>\n",
       "      <td>4032</td>\n",
       "      <td>1</td>\n",
       "      <td>14.1</td>\n",
       "      <td>0</td>\n",
       "      <td>outofstock</td>\n",
       "    </tr>\n",
       "    <tr>\n",
       "      <th>4</th>\n",
       "      <td>4039</td>\n",
       "      <td>1</td>\n",
       "      <td>46.0</td>\n",
       "      <td>0</td>\n",
       "      <td>outofstock</td>\n",
       "    </tr>\n",
       "  </tbody>\n",
       "</table>\n",
       "</div>"
      ],
      "text/plain": [
       "   id_produit  vente_en_ligne  prix  qte_en_stock statut_stock\n",
       "0        3847               1  24.2             0   outofstock\n",
       "1        3849               1  34.3             0   outofstock\n",
       "2        3850               1  20.8             0   outofstock\n",
       "3        4032               1  14.1             0   outofstock\n",
       "4        4039               1  46.0             0   outofstock"
      ]
     },
     "execution_count": 20,
     "metadata": {},
     "output_type": "execute_result"
    }
   ],
   "source": [
    "# Récupération des données qui ne concernent que les ventes sur le site\n",
    "\n",
    "fichierERPsite = fichierERP2[fichierERP2['vente_en_ligne']==1]\n",
    "fichierERPsite.head()"
   ]
  },
  {
   "cell_type": "code",
   "execution_count": 21,
   "id": "0041d10b",
   "metadata": {},
   "outputs": [
    {
     "data": {
      "text/plain": [
       "1"
      ]
     },
     "execution_count": 21,
     "metadata": {},
     "output_type": "execute_result"
    }
   ],
   "source": [
    "# Vérification\n",
    "\n",
    "fichierERPsite['vente_en_ligne'].unique().shape[0]"
   ]
  },
  {
   "cell_type": "code",
   "execution_count": 22,
   "id": "937e7454",
   "metadata": {},
   "outputs": [],
   "source": [
    "# Suppresion colonnes inutiles\n",
    "\n",
    "fichierERPsite = fichierERPsite.drop(columns={'statut_stock','qte_en_stock','vente_en_ligne'})"
   ]
  },
  {
   "cell_type": "code",
   "execution_count": 23,
   "id": "e438c8c6",
   "metadata": {
    "scrolled": false
   },
   "outputs": [
    {
     "data": {
      "text/html": [
       "<div>\n",
       "<style scoped>\n",
       "    .dataframe tbody tr th:only-of-type {\n",
       "        vertical-align: middle;\n",
       "    }\n",
       "\n",
       "    .dataframe tbody tr th {\n",
       "        vertical-align: top;\n",
       "    }\n",
       "\n",
       "    .dataframe thead th {\n",
       "        text-align: right;\n",
       "    }\n",
       "</style>\n",
       "<table border=\"1\" class=\"dataframe\">\n",
       "  <thead>\n",
       "    <tr style=\"text-align: right;\">\n",
       "      <th></th>\n",
       "      <th>id_produit</th>\n",
       "      <th>prix</th>\n",
       "    </tr>\n",
       "  </thead>\n",
       "  <tbody>\n",
       "    <tr>\n",
       "      <th>0</th>\n",
       "      <td>3847</td>\n",
       "      <td>24.2</td>\n",
       "    </tr>\n",
       "    <tr>\n",
       "      <th>1</th>\n",
       "      <td>3849</td>\n",
       "      <td>34.3</td>\n",
       "    </tr>\n",
       "    <tr>\n",
       "      <th>2</th>\n",
       "      <td>3850</td>\n",
       "      <td>20.8</td>\n",
       "    </tr>\n",
       "    <tr>\n",
       "      <th>3</th>\n",
       "      <td>4032</td>\n",
       "      <td>14.1</td>\n",
       "    </tr>\n",
       "    <tr>\n",
       "      <th>4</th>\n",
       "      <td>4039</td>\n",
       "      <td>46.0</td>\n",
       "    </tr>\n",
       "    <tr>\n",
       "      <th>...</th>\n",
       "      <td>...</td>\n",
       "      <td>...</td>\n",
       "    </tr>\n",
       "    <tr>\n",
       "      <th>787</th>\n",
       "      <td>6930</td>\n",
       "      <td>8.4</td>\n",
       "    </tr>\n",
       "    <tr>\n",
       "      <th>792</th>\n",
       "      <td>7023</td>\n",
       "      <td>27.5</td>\n",
       "    </tr>\n",
       "    <tr>\n",
       "      <th>793</th>\n",
       "      <td>7025</td>\n",
       "      <td>69.0</td>\n",
       "    </tr>\n",
       "    <tr>\n",
       "      <th>822</th>\n",
       "      <td>7247</td>\n",
       "      <td>54.8</td>\n",
       "    </tr>\n",
       "    <tr>\n",
       "      <th>824</th>\n",
       "      <td>7338</td>\n",
       "      <td>16.3</td>\n",
       "    </tr>\n",
       "  </tbody>\n",
       "</table>\n",
       "<p>717 rows × 2 columns</p>\n",
       "</div>"
      ],
      "text/plain": [
       "     id_produit  prix\n",
       "0          3847  24.2\n",
       "1          3849  34.3\n",
       "2          3850  20.8\n",
       "3          4032  14.1\n",
       "4          4039  46.0\n",
       "..          ...   ...\n",
       "787        6930   8.4\n",
       "792        7023  27.5\n",
       "793        7025  69.0\n",
       "822        7247  54.8\n",
       "824        7338  16.3\n",
       "\n",
       "[717 rows x 2 columns]"
      ]
     },
     "execution_count": 23,
     "metadata": {},
     "output_type": "execute_result"
    }
   ],
   "source": [
    "# Affichage \n",
    "\n",
    "fichierERPsite"
   ]
  },
  {
   "cell_type": "code",
   "execution_count": 24,
   "id": "f3249f32",
   "metadata": {
    "scrolled": true
   },
   "outputs": [
    {
     "data": {
      "text/plain": [
       "717"
      ]
     },
     "execution_count": 24,
     "metadata": {},
     "output_type": "execute_result"
    }
   ],
   "source": [
    "# Comptage des valeurs uniques\n",
    "\n",
    "fichierERPsite['id_produit'].unique().shape[0]"
   ]
  },
  {
   "cell_type": "code",
   "execution_count": 25,
   "id": "c91873bc",
   "metadata": {},
   "outputs": [
    {
     "name": "stdout",
     "output_type": "stream",
     "text": [
      "0\n"
     ]
    }
   ],
   "source": [
    "# Vérification de l'unicité de la clé id_produit\n",
    "\n",
    "print((fichierERPsite['id_produit'].duplicated()).sum())"
   ]
  },
  {
   "cell_type": "code",
   "execution_count": 26,
   "id": "e5940d8a",
   "metadata": {},
   "outputs": [
    {
     "data": {
      "text/plain": [
       "id_produit    0\n",
       "prix          0\n",
       "dtype: int64"
      ]
     },
     "execution_count": 26,
     "metadata": {},
     "output_type": "execute_result"
    }
   ],
   "source": [
    "# Vérification des valeurs nulles\n",
    "\n",
    "fichierERPsite.isna().sum()"
   ]
  },
  {
   "cell_type": "code",
   "execution_count": 27,
   "id": "acc1de9e",
   "metadata": {
    "scrolled": false
   },
   "outputs": [
    {
     "name": "stdout",
     "output_type": "stream",
     "text": [
      "<class 'pandas.core.frame.DataFrame'>\n",
      "Int64Index: 717 entries, 0 to 824\n",
      "Data columns (total 2 columns):\n",
      " #   Column      Non-Null Count  Dtype  \n",
      "---  ------      --------------  -----  \n",
      " 0   id_produit  717 non-null    int64  \n",
      " 1   prix        717 non-null    float64\n",
      "dtypes: float64(1), int64(1)\n",
      "memory usage: 16.8 KB\n"
     ]
    }
   ],
   "source": [
    "# Affichage des infos du dataset\n",
    "\n",
    "fichierERPsite.info()"
   ]
  },
  {
   "cell_type": "markdown",
   "id": "cae29b12",
   "metadata": {},
   "source": [
    "<div style=\"border: 1px solid RGB(173,40,59);\" >\n",
    "<h3 style=\"margin: auto; padding: 20px; color: RGB(173,40,59); \">2.1 - Analyse exploratoire du fichier web</h3>"
   ]
  },
  {
   "cell_type": "code",
   "execution_count": 28,
   "id": "639b7d6e",
   "metadata": {},
   "outputs": [
    {
     "name": "stdout",
     "output_type": "stream",
     "text": [
      "Le tableau comporte 1513 observation(s) ou article(s)\n",
      "Le tableau comporte 28 colonne(s)\n"
     ]
    }
   ],
   "source": [
    "# Afficher les dimensions du dataset\n",
    "\n",
    "print(\"Le tableau comporte {} observation(s) ou article(s)\".format(fichierWeb.shape[0]))\n",
    "print(\"Le tableau comporte {} colonne(s)\".format(fichierWeb.shape[1]))"
   ]
  },
  {
   "cell_type": "code",
   "execution_count": 29,
   "id": "0137363a",
   "metadata": {},
   "outputs": [
    {
     "name": "stdout",
     "output_type": "stream",
     "text": [
      "<class 'pandas.core.frame.DataFrame'>\n",
      "RangeIndex: 1513 entries, 0 to 1512\n",
      "Data columns (total 28 columns):\n",
      " #   Column                 Non-Null Count  Dtype         \n",
      "---  ------                 --------------  -----         \n",
      " 0   sku                    1428 non-null   object        \n",
      " 1   virtual                1513 non-null   int64         \n",
      " 2   downloadable           1513 non-null   int64         \n",
      " 3   rating_count           1513 non-null   int64         \n",
      " 4   average_rating         1430 non-null   float64       \n",
      " 5   total_sales            1430 non-null   float64       \n",
      " 6   tax_status             716 non-null    object        \n",
      " 7   tax_class              0 non-null      float64       \n",
      " 8   post_author            1430 non-null   float64       \n",
      " 9   post_date              1430 non-null   datetime64[ns]\n",
      " 10  post_date_gmt          1430 non-null   datetime64[ns]\n",
      " 11  post_content           0 non-null      float64       \n",
      " 12  post_title             1430 non-null   object        \n",
      " 13  post_excerpt           716 non-null    object        \n",
      " 14  post_status            1430 non-null   object        \n",
      " 15  comment_status         1430 non-null   object        \n",
      " 16  ping_status            1430 non-null   object        \n",
      " 17  post_password          0 non-null      float64       \n",
      " 18  post_name              1430 non-null   object        \n",
      " 19  post_modified          1430 non-null   datetime64[ns]\n",
      " 20  post_modified_gmt      1430 non-null   datetime64[ns]\n",
      " 21  post_content_filtered  0 non-null      float64       \n",
      " 22  post_parent            1430 non-null   float64       \n",
      " 23  guid                   1430 non-null   object        \n",
      " 24  menu_order             1430 non-null   float64       \n",
      " 25  post_type              1430 non-null   object        \n",
      " 26  post_mime_type         714 non-null    object        \n",
      " 27  comment_count          1430 non-null   float64       \n",
      "dtypes: datetime64[ns](4), float64(10), int64(3), object(11)\n",
      "memory usage: 331.1+ KB\n"
     ]
    }
   ],
   "source": [
    "# Affichage des infos du dataset\n",
    "\n",
    "fichierWeb.info()"
   ]
  },
  {
   "cell_type": "code",
   "execution_count": 30,
   "id": "6a5b2e95",
   "metadata": {},
   "outputs": [
    {
     "data": {
      "text/html": [
       "<div>\n",
       "<style scoped>\n",
       "    .dataframe tbody tr th:only-of-type {\n",
       "        vertical-align: middle;\n",
       "    }\n",
       "\n",
       "    .dataframe tbody tr th {\n",
       "        vertical-align: top;\n",
       "    }\n",
       "\n",
       "    .dataframe thead th {\n",
       "        text-align: right;\n",
       "    }\n",
       "</style>\n",
       "<table border=\"1\" class=\"dataframe\">\n",
       "  <thead>\n",
       "    <tr style=\"text-align: right;\">\n",
       "      <th></th>\n",
       "      <th>virtual</th>\n",
       "      <th>downloadable</th>\n",
       "      <th>rating_count</th>\n",
       "      <th>average_rating</th>\n",
       "      <th>total_sales</th>\n",
       "      <th>tax_class</th>\n",
       "      <th>post_author</th>\n",
       "      <th>post_content</th>\n",
       "      <th>post_password</th>\n",
       "      <th>post_content_filtered</th>\n",
       "      <th>post_parent</th>\n",
       "      <th>menu_order</th>\n",
       "      <th>comment_count</th>\n",
       "    </tr>\n",
       "  </thead>\n",
       "  <tbody>\n",
       "    <tr>\n",
       "      <th>count</th>\n",
       "      <td>1513.0</td>\n",
       "      <td>1513.0</td>\n",
       "      <td>1513.0</td>\n",
       "      <td>1430.0</td>\n",
       "      <td>1430.000000</td>\n",
       "      <td>0.0</td>\n",
       "      <td>1430.000000</td>\n",
       "      <td>0.0</td>\n",
       "      <td>0.0</td>\n",
       "      <td>0.0</td>\n",
       "      <td>1430.0</td>\n",
       "      <td>1430.0</td>\n",
       "      <td>1430.0</td>\n",
       "    </tr>\n",
       "    <tr>\n",
       "      <th>mean</th>\n",
       "      <td>0.0</td>\n",
       "      <td>0.0</td>\n",
       "      <td>0.0</td>\n",
       "      <td>0.0</td>\n",
       "      <td>3.855245</td>\n",
       "      <td>NaN</td>\n",
       "      <td>1.998601</td>\n",
       "      <td>NaN</td>\n",
       "      <td>NaN</td>\n",
       "      <td>NaN</td>\n",
       "      <td>0.0</td>\n",
       "      <td>0.0</td>\n",
       "      <td>0.0</td>\n",
       "    </tr>\n",
       "    <tr>\n",
       "      <th>std</th>\n",
       "      <td>0.0</td>\n",
       "      <td>0.0</td>\n",
       "      <td>0.0</td>\n",
       "      <td>0.0</td>\n",
       "      <td>7.702346</td>\n",
       "      <td>NaN</td>\n",
       "      <td>0.037385</td>\n",
       "      <td>NaN</td>\n",
       "      <td>NaN</td>\n",
       "      <td>NaN</td>\n",
       "      <td>0.0</td>\n",
       "      <td>0.0</td>\n",
       "      <td>0.0</td>\n",
       "    </tr>\n",
       "    <tr>\n",
       "      <th>min</th>\n",
       "      <td>0.0</td>\n",
       "      <td>0.0</td>\n",
       "      <td>0.0</td>\n",
       "      <td>0.0</td>\n",
       "      <td>0.000000</td>\n",
       "      <td>NaN</td>\n",
       "      <td>1.000000</td>\n",
       "      <td>NaN</td>\n",
       "      <td>NaN</td>\n",
       "      <td>NaN</td>\n",
       "      <td>0.0</td>\n",
       "      <td>0.0</td>\n",
       "      <td>0.0</td>\n",
       "    </tr>\n",
       "    <tr>\n",
       "      <th>25%</th>\n",
       "      <td>0.0</td>\n",
       "      <td>0.0</td>\n",
       "      <td>0.0</td>\n",
       "      <td>0.0</td>\n",
       "      <td>0.000000</td>\n",
       "      <td>NaN</td>\n",
       "      <td>2.000000</td>\n",
       "      <td>NaN</td>\n",
       "      <td>NaN</td>\n",
       "      <td>NaN</td>\n",
       "      <td>0.0</td>\n",
       "      <td>0.0</td>\n",
       "      <td>0.0</td>\n",
       "    </tr>\n",
       "    <tr>\n",
       "      <th>50%</th>\n",
       "      <td>0.0</td>\n",
       "      <td>0.0</td>\n",
       "      <td>0.0</td>\n",
       "      <td>0.0</td>\n",
       "      <td>1.000000</td>\n",
       "      <td>NaN</td>\n",
       "      <td>2.000000</td>\n",
       "      <td>NaN</td>\n",
       "      <td>NaN</td>\n",
       "      <td>NaN</td>\n",
       "      <td>0.0</td>\n",
       "      <td>0.0</td>\n",
       "      <td>0.0</td>\n",
       "    </tr>\n",
       "    <tr>\n",
       "      <th>75%</th>\n",
       "      <td>0.0</td>\n",
       "      <td>0.0</td>\n",
       "      <td>0.0</td>\n",
       "      <td>0.0</td>\n",
       "      <td>4.000000</td>\n",
       "      <td>NaN</td>\n",
       "      <td>2.000000</td>\n",
       "      <td>NaN</td>\n",
       "      <td>NaN</td>\n",
       "      <td>NaN</td>\n",
       "      <td>0.0</td>\n",
       "      <td>0.0</td>\n",
       "      <td>0.0</td>\n",
       "    </tr>\n",
       "    <tr>\n",
       "      <th>max</th>\n",
       "      <td>0.0</td>\n",
       "      <td>0.0</td>\n",
       "      <td>0.0</td>\n",
       "      <td>0.0</td>\n",
       "      <td>96.000000</td>\n",
       "      <td>NaN</td>\n",
       "      <td>2.000000</td>\n",
       "      <td>NaN</td>\n",
       "      <td>NaN</td>\n",
       "      <td>NaN</td>\n",
       "      <td>0.0</td>\n",
       "      <td>0.0</td>\n",
       "      <td>0.0</td>\n",
       "    </tr>\n",
       "  </tbody>\n",
       "</table>\n",
       "</div>"
      ],
      "text/plain": [
       "       virtual  downloadable  rating_count  average_rating  total_sales  \\\n",
       "count   1513.0        1513.0        1513.0          1430.0  1430.000000   \n",
       "mean       0.0           0.0           0.0             0.0     3.855245   \n",
       "std        0.0           0.0           0.0             0.0     7.702346   \n",
       "min        0.0           0.0           0.0             0.0     0.000000   \n",
       "25%        0.0           0.0           0.0             0.0     0.000000   \n",
       "50%        0.0           0.0           0.0             0.0     1.000000   \n",
       "75%        0.0           0.0           0.0             0.0     4.000000   \n",
       "max        0.0           0.0           0.0             0.0    96.000000   \n",
       "\n",
       "       tax_class  post_author  post_content  post_password  \\\n",
       "count        0.0  1430.000000           0.0            0.0   \n",
       "mean         NaN     1.998601           NaN            NaN   \n",
       "std          NaN     0.037385           NaN            NaN   \n",
       "min          NaN     1.000000           NaN            NaN   \n",
       "25%          NaN     2.000000           NaN            NaN   \n",
       "50%          NaN     2.000000           NaN            NaN   \n",
       "75%          NaN     2.000000           NaN            NaN   \n",
       "max          NaN     2.000000           NaN            NaN   \n",
       "\n",
       "       post_content_filtered  post_parent  menu_order  comment_count  \n",
       "count                    0.0       1430.0      1430.0         1430.0  \n",
       "mean                     NaN          0.0         0.0            0.0  \n",
       "std                      NaN          0.0         0.0            0.0  \n",
       "min                      NaN          0.0         0.0            0.0  \n",
       "25%                      NaN          0.0         0.0            0.0  \n",
       "50%                      NaN          0.0         0.0            0.0  \n",
       "75%                      NaN          0.0         0.0            0.0  \n",
       "max                      NaN          0.0         0.0            0.0  "
      ]
     },
     "execution_count": 30,
     "metadata": {},
     "output_type": "execute_result"
    }
   ],
   "source": [
    "# Recherche de valeurs aberrantes\n",
    "\n",
    "fichierWeb.describe()"
   ]
  },
  {
   "cell_type": "code",
   "execution_count": 31,
   "id": "ee51bb72",
   "metadata": {},
   "outputs": [
    {
     "data": {
      "text/plain": [
       "715"
      ]
     },
     "execution_count": 31,
     "metadata": {},
     "output_type": "execute_result"
    }
   ],
   "source": [
    "# Recherche de doublons\n",
    "\n",
    "fichierWeb['sku'].unique().shape[0]"
   ]
  },
  {
   "cell_type": "code",
   "execution_count": 32,
   "id": "81f74383",
   "metadata": {
    "scrolled": true
   },
   "outputs": [
    {
     "name": "stdout",
     "output_type": "stream",
     "text": [
      "82\n"
     ]
    }
   ],
   "source": [
    "# Affichage du nombre de doublons\n",
    "\n",
    "print((fichierWeb.duplicated()).sum())"
   ]
  },
  {
   "cell_type": "code",
   "execution_count": 33,
   "id": "317dd753",
   "metadata": {},
   "outputs": [
    {
     "data": {
      "text/html": [
       "<div>\n",
       "<style scoped>\n",
       "    .dataframe tbody tr th:only-of-type {\n",
       "        vertical-align: middle;\n",
       "    }\n",
       "\n",
       "    .dataframe tbody tr th {\n",
       "        vertical-align: top;\n",
       "    }\n",
       "\n",
       "    .dataframe thead th {\n",
       "        text-align: right;\n",
       "    }\n",
       "</style>\n",
       "<table border=\"1\" class=\"dataframe\">\n",
       "  <thead>\n",
       "    <tr style=\"text-align: right;\">\n",
       "      <th></th>\n",
       "      <th>sku</th>\n",
       "      <th>virtual</th>\n",
       "      <th>downloadable</th>\n",
       "      <th>rating_count</th>\n",
       "      <th>average_rating</th>\n",
       "      <th>total_sales</th>\n",
       "      <th>tax_status</th>\n",
       "      <th>tax_class</th>\n",
       "      <th>post_author</th>\n",
       "      <th>post_date</th>\n",
       "      <th>...</th>\n",
       "      <th>post_name</th>\n",
       "      <th>post_modified</th>\n",
       "      <th>post_modified_gmt</th>\n",
       "      <th>post_content_filtered</th>\n",
       "      <th>post_parent</th>\n",
       "      <th>guid</th>\n",
       "      <th>menu_order</th>\n",
       "      <th>post_type</th>\n",
       "      <th>post_mime_type</th>\n",
       "      <th>comment_count</th>\n",
       "    </tr>\n",
       "  </thead>\n",
       "  <tbody>\n",
       "    <tr>\n",
       "      <th>0</th>\n",
       "      <td>16004</td>\n",
       "      <td>0</td>\n",
       "      <td>0</td>\n",
       "      <td>0</td>\n",
       "      <td>0.0</td>\n",
       "      <td>5.0</td>\n",
       "      <td>NaN</td>\n",
       "      <td>NaN</td>\n",
       "      <td>2.0</td>\n",
       "      <td>2018-06-07 16:27:25</td>\n",
       "      <td>...</td>\n",
       "      <td>chateau-du-couvent-pomerol-2017</td>\n",
       "      <td>2020-08-25 18:35:02</td>\n",
       "      <td>2020-08-25 16:35:02</td>\n",
       "      <td>NaN</td>\n",
       "      <td>0.0</td>\n",
       "      <td>https://www.bottle-neck.fr/wp-content/uploads/...</td>\n",
       "      <td>0.0</td>\n",
       "      <td>attachment</td>\n",
       "      <td>image/jpeg</td>\n",
       "      <td>0.0</td>\n",
       "    </tr>\n",
       "    <tr>\n",
       "      <th>1</th>\n",
       "      <td>NaN</td>\n",
       "      <td>0</td>\n",
       "      <td>0</td>\n",
       "      <td>0</td>\n",
       "      <td>NaN</td>\n",
       "      <td>NaN</td>\n",
       "      <td>NaN</td>\n",
       "      <td>NaN</td>\n",
       "      <td>NaN</td>\n",
       "      <td>NaT</td>\n",
       "      <td>...</td>\n",
       "      <td>NaN</td>\n",
       "      <td>NaT</td>\n",
       "      <td>NaT</td>\n",
       "      <td>NaN</td>\n",
       "      <td>NaN</td>\n",
       "      <td>NaN</td>\n",
       "      <td>NaN</td>\n",
       "      <td>NaN</td>\n",
       "      <td>NaN</td>\n",
       "      <td>NaN</td>\n",
       "    </tr>\n",
       "    <tr>\n",
       "      <th>2</th>\n",
       "      <td>15075</td>\n",
       "      <td>0</td>\n",
       "      <td>0</td>\n",
       "      <td>0</td>\n",
       "      <td>0.0</td>\n",
       "      <td>3.0</td>\n",
       "      <td>taxable</td>\n",
       "      <td>NaN</td>\n",
       "      <td>2.0</td>\n",
       "      <td>2018-02-14 15:39:43</td>\n",
       "      <td>...</td>\n",
       "      <td>pares-balta-penedes-indigena-2017</td>\n",
       "      <td>2020-08-20 15:35:02</td>\n",
       "      <td>2020-08-20 13:35:02</td>\n",
       "      <td>NaN</td>\n",
       "      <td>0.0</td>\n",
       "      <td>https://www.bottle-neck.fr/?post_type=product&amp;...</td>\n",
       "      <td>0.0</td>\n",
       "      <td>product</td>\n",
       "      <td>NaN</td>\n",
       "      <td>0.0</td>\n",
       "    </tr>\n",
       "    <tr>\n",
       "      <th>3</th>\n",
       "      <td>16209</td>\n",
       "      <td>0</td>\n",
       "      <td>0</td>\n",
       "      <td>0</td>\n",
       "      <td>0.0</td>\n",
       "      <td>6.0</td>\n",
       "      <td>taxable</td>\n",
       "      <td>NaN</td>\n",
       "      <td>2.0</td>\n",
       "      <td>2018-02-14 17:15:31</td>\n",
       "      <td>...</td>\n",
       "      <td>maurel-cabardes-tradition-2017</td>\n",
       "      <td>2020-08-05 18:05:03</td>\n",
       "      <td>2020-08-05 16:05:03</td>\n",
       "      <td>NaN</td>\n",
       "      <td>0.0</td>\n",
       "      <td>https://www.bottle-neck.fr/?post_type=product&amp;...</td>\n",
       "      <td>0.0</td>\n",
       "      <td>product</td>\n",
       "      <td>NaN</td>\n",
       "      <td>0.0</td>\n",
       "    </tr>\n",
       "    <tr>\n",
       "      <th>4</th>\n",
       "      <td>15763</td>\n",
       "      <td>0</td>\n",
       "      <td>0</td>\n",
       "      <td>0</td>\n",
       "      <td>0.0</td>\n",
       "      <td>1.0</td>\n",
       "      <td>NaN</td>\n",
       "      <td>NaN</td>\n",
       "      <td>2.0</td>\n",
       "      <td>2020-01-25 14:08:16</td>\n",
       "      <td>...</td>\n",
       "      <td>domaine-de-la-monardiere-vacqueyras-les-vieill...</td>\n",
       "      <td>2020-08-21 11:35:02</td>\n",
       "      <td>2020-08-21 09:35:02</td>\n",
       "      <td>NaN</td>\n",
       "      <td>0.0</td>\n",
       "      <td>https://www.bottle-neck.fr/wp-content/uploads/...</td>\n",
       "      <td>0.0</td>\n",
       "      <td>attachment</td>\n",
       "      <td>image/jpeg</td>\n",
       "      <td>0.0</td>\n",
       "    </tr>\n",
       "    <tr>\n",
       "      <th>...</th>\n",
       "      <td>...</td>\n",
       "      <td>...</td>\n",
       "      <td>...</td>\n",
       "      <td>...</td>\n",
       "      <td>...</td>\n",
       "      <td>...</td>\n",
       "      <td>...</td>\n",
       "      <td>...</td>\n",
       "      <td>...</td>\n",
       "      <td>...</td>\n",
       "      <td>...</td>\n",
       "      <td>...</td>\n",
       "      <td>...</td>\n",
       "      <td>...</td>\n",
       "      <td>...</td>\n",
       "      <td>...</td>\n",
       "      <td>...</td>\n",
       "      <td>...</td>\n",
       "      <td>...</td>\n",
       "      <td>...</td>\n",
       "      <td>...</td>\n",
       "    </tr>\n",
       "    <tr>\n",
       "      <th>1508</th>\n",
       "      <td>12881</td>\n",
       "      <td>0</td>\n",
       "      <td>0</td>\n",
       "      <td>0</td>\n",
       "      <td>0.0</td>\n",
       "      <td>2.0</td>\n",
       "      <td>NaN</td>\n",
       "      <td>NaN</td>\n",
       "      <td>2.0</td>\n",
       "      <td>2019-03-28 15:25:14</td>\n",
       "      <td>...</td>\n",
       "      <td>montbourgeau-etoile-vin-jaune-2009</td>\n",
       "      <td>2019-12-30 10:30:01</td>\n",
       "      <td>2019-12-30 09:30:01</td>\n",
       "      <td>NaN</td>\n",
       "      <td>0.0</td>\n",
       "      <td>https://www.bottle-neck.fr/wp-content/uploads/...</td>\n",
       "      <td>0.0</td>\n",
       "      <td>attachment</td>\n",
       "      <td>image/jpeg</td>\n",
       "      <td>0.0</td>\n",
       "    </tr>\n",
       "    <tr>\n",
       "      <th>1509</th>\n",
       "      <td>15663</td>\n",
       "      <td>0</td>\n",
       "      <td>0</td>\n",
       "      <td>0</td>\n",
       "      <td>0.0</td>\n",
       "      <td>3.0</td>\n",
       "      <td>taxable</td>\n",
       "      <td>NaN</td>\n",
       "      <td>2.0</td>\n",
       "      <td>2018-02-27 10:27:01</td>\n",
       "      <td>...</td>\n",
       "      <td>chermette-domaine-du-vissoux-brouilly-pierreux...</td>\n",
       "      <td>2020-08-01 09:35:02</td>\n",
       "      <td>2020-08-01 07:35:02</td>\n",
       "      <td>NaN</td>\n",
       "      <td>0.0</td>\n",
       "      <td>https://www.bottle-neck.fr/?post_type=product&amp;...</td>\n",
       "      <td>0.0</td>\n",
       "      <td>product</td>\n",
       "      <td>NaN</td>\n",
       "      <td>0.0</td>\n",
       "    </tr>\n",
       "    <tr>\n",
       "      <th>1510</th>\n",
       "      <td>15910</td>\n",
       "      <td>0</td>\n",
       "      <td>0</td>\n",
       "      <td>0</td>\n",
       "      <td>0.0</td>\n",
       "      <td>0.0</td>\n",
       "      <td>taxable</td>\n",
       "      <td>NaN</td>\n",
       "      <td>2.0</td>\n",
       "      <td>2019-03-28 10:59:43</td>\n",
       "      <td>...</td>\n",
       "      <td>thevenet-quintaine-vire-clesse-la-bongran-2015</td>\n",
       "      <td>2020-08-14 10:45:02</td>\n",
       "      <td>2020-08-14 08:45:02</td>\n",
       "      <td>NaN</td>\n",
       "      <td>0.0</td>\n",
       "      <td>https://www.bottle-neck.fr/?post_type=product&amp;...</td>\n",
       "      <td>0.0</td>\n",
       "      <td>product</td>\n",
       "      <td>NaN</td>\n",
       "      <td>0.0</td>\n",
       "    </tr>\n",
       "    <tr>\n",
       "      <th>1511</th>\n",
       "      <td>38</td>\n",
       "      <td>0</td>\n",
       "      <td>0</td>\n",
       "      <td>0</td>\n",
       "      <td>0.0</td>\n",
       "      <td>38.0</td>\n",
       "      <td>NaN</td>\n",
       "      <td>NaN</td>\n",
       "      <td>2.0</td>\n",
       "      <td>2018-04-18 12:25:58</td>\n",
       "      <td>...</td>\n",
       "      <td>emile-boeckel-cremant-brut-blanc-de-blancs</td>\n",
       "      <td>2020-08-27 17:15:03</td>\n",
       "      <td>2020-08-27 15:15:03</td>\n",
       "      <td>NaN</td>\n",
       "      <td>0.0</td>\n",
       "      <td>https://www.bottle-neck.fr/wp-content/uploads/...</td>\n",
       "      <td>0.0</td>\n",
       "      <td>attachment</td>\n",
       "      <td>image/jpeg</td>\n",
       "      <td>0.0</td>\n",
       "    </tr>\n",
       "    <tr>\n",
       "      <th>1512</th>\n",
       "      <td>13599</td>\n",
       "      <td>0</td>\n",
       "      <td>0</td>\n",
       "      <td>0</td>\n",
       "      <td>0.0</td>\n",
       "      <td>1.0</td>\n",
       "      <td>NaN</td>\n",
       "      <td>NaN</td>\n",
       "      <td>2.0</td>\n",
       "      <td>2018-03-01 14:12:39</td>\n",
       "      <td>...</td>\n",
       "      <td>champagne-mailly-grand-cru-blanc-de-pinot-noir</td>\n",
       "      <td>2020-08-26 18:05:02</td>\n",
       "      <td>2020-08-26 16:05:02</td>\n",
       "      <td>NaN</td>\n",
       "      <td>0.0</td>\n",
       "      <td>https://www.bottle-neck.fr/wp-content/uploads/...</td>\n",
       "      <td>0.0</td>\n",
       "      <td>attachment</td>\n",
       "      <td>image/jpeg</td>\n",
       "      <td>0.0</td>\n",
       "    </tr>\n",
       "  </tbody>\n",
       "</table>\n",
       "<p>1505 rows × 28 columns</p>\n",
       "</div>"
      ],
      "text/plain": [
       "        sku  virtual  downloadable  rating_count  average_rating  total_sales  \\\n",
       "0     16004        0             0             0             0.0          5.0   \n",
       "1       NaN        0             0             0             NaN          NaN   \n",
       "2     15075        0             0             0             0.0          3.0   \n",
       "3     16209        0             0             0             0.0          6.0   \n",
       "4     15763        0             0             0             0.0          1.0   \n",
       "...     ...      ...           ...           ...             ...          ...   \n",
       "1508  12881        0             0             0             0.0          2.0   \n",
       "1509  15663        0             0             0             0.0          3.0   \n",
       "1510  15910        0             0             0             0.0          0.0   \n",
       "1511     38        0             0             0             0.0         38.0   \n",
       "1512  13599        0             0             0             0.0          1.0   \n",
       "\n",
       "     tax_status  tax_class  post_author           post_date  ...  \\\n",
       "0           NaN        NaN          2.0 2018-06-07 16:27:25  ...   \n",
       "1           NaN        NaN          NaN                 NaT  ...   \n",
       "2       taxable        NaN          2.0 2018-02-14 15:39:43  ...   \n",
       "3       taxable        NaN          2.0 2018-02-14 17:15:31  ...   \n",
       "4           NaN        NaN          2.0 2020-01-25 14:08:16  ...   \n",
       "...         ...        ...          ...                 ...  ...   \n",
       "1508        NaN        NaN          2.0 2019-03-28 15:25:14  ...   \n",
       "1509    taxable        NaN          2.0 2018-02-27 10:27:01  ...   \n",
       "1510    taxable        NaN          2.0 2019-03-28 10:59:43  ...   \n",
       "1511        NaN        NaN          2.0 2018-04-18 12:25:58  ...   \n",
       "1512        NaN        NaN          2.0 2018-03-01 14:12:39  ...   \n",
       "\n",
       "                                              post_name       post_modified  \\\n",
       "0                       chateau-du-couvent-pomerol-2017 2020-08-25 18:35:02   \n",
       "1                                                   NaN                 NaT   \n",
       "2                     pares-balta-penedes-indigena-2017 2020-08-20 15:35:02   \n",
       "3                        maurel-cabardes-tradition-2017 2020-08-05 18:05:03   \n",
       "4     domaine-de-la-monardiere-vacqueyras-les-vieill... 2020-08-21 11:35:02   \n",
       "...                                                 ...                 ...   \n",
       "1508                 montbourgeau-etoile-vin-jaune-2009 2019-12-30 10:30:01   \n",
       "1509  chermette-domaine-du-vissoux-brouilly-pierreux... 2020-08-01 09:35:02   \n",
       "1510     thevenet-quintaine-vire-clesse-la-bongran-2015 2020-08-14 10:45:02   \n",
       "1511         emile-boeckel-cremant-brut-blanc-de-blancs 2020-08-27 17:15:03   \n",
       "1512     champagne-mailly-grand-cru-blanc-de-pinot-noir 2020-08-26 18:05:02   \n",
       "\n",
       "       post_modified_gmt post_content_filtered post_parent  \\\n",
       "0    2020-08-25 16:35:02                   NaN         0.0   \n",
       "1                    NaT                   NaN         NaN   \n",
       "2    2020-08-20 13:35:02                   NaN         0.0   \n",
       "3    2020-08-05 16:05:03                   NaN         0.0   \n",
       "4    2020-08-21 09:35:02                   NaN         0.0   \n",
       "...                  ...                   ...         ...   \n",
       "1508 2019-12-30 09:30:01                   NaN         0.0   \n",
       "1509 2020-08-01 07:35:02                   NaN         0.0   \n",
       "1510 2020-08-14 08:45:02                   NaN         0.0   \n",
       "1511 2020-08-27 15:15:03                   NaN         0.0   \n",
       "1512 2020-08-26 16:05:02                   NaN         0.0   \n",
       "\n",
       "                                                   guid menu_order  \\\n",
       "0     https://www.bottle-neck.fr/wp-content/uploads/...        0.0   \n",
       "1                                                   NaN        NaN   \n",
       "2     https://www.bottle-neck.fr/?post_type=product&...        0.0   \n",
       "3     https://www.bottle-neck.fr/?post_type=product&...        0.0   \n",
       "4     https://www.bottle-neck.fr/wp-content/uploads/...        0.0   \n",
       "...                                                 ...        ...   \n",
       "1508  https://www.bottle-neck.fr/wp-content/uploads/...        0.0   \n",
       "1509  https://www.bottle-neck.fr/?post_type=product&...        0.0   \n",
       "1510  https://www.bottle-neck.fr/?post_type=product&...        0.0   \n",
       "1511  https://www.bottle-neck.fr/wp-content/uploads/...        0.0   \n",
       "1512  https://www.bottle-neck.fr/wp-content/uploads/...        0.0   \n",
       "\n",
       "       post_type post_mime_type comment_count  \n",
       "0     attachment     image/jpeg           0.0  \n",
       "1            NaN            NaN           NaN  \n",
       "2        product            NaN           0.0  \n",
       "3        product            NaN           0.0  \n",
       "4     attachment     image/jpeg           0.0  \n",
       "...          ...            ...           ...  \n",
       "1508  attachment     image/jpeg           0.0  \n",
       "1509     product            NaN           0.0  \n",
       "1510     product            NaN           0.0  \n",
       "1511  attachment     image/jpeg           0.0  \n",
       "1512  attachment     image/jpeg           0.0  \n",
       "\n",
       "[1505 rows x 28 columns]"
      ]
     },
     "execution_count": 33,
     "metadata": {},
     "output_type": "execute_result"
    }
   ],
   "source": [
    "# Exploration des doublons\n",
    "\n",
    "fichierWeb.loc[fichierWeb[['sku','total_sales','post_title','post_date_gmt']].duplicated(keep=False),:]"
   ]
  },
  {
   "cell_type": "code",
   "execution_count": 34,
   "id": "aac1f6db",
   "metadata": {},
   "outputs": [],
   "source": [
    "# Suppression des doublons \n",
    "\n",
    "fichierWeb.drop_duplicates(subset =['sku','total_sales','post_title','post_date_gmt'], inplace = True, ignore_index=True)"
   ]
  },
  {
   "cell_type": "code",
   "execution_count": 35,
   "id": "df7e12f5",
   "metadata": {
    "scrolled": true
   },
   "outputs": [
    {
     "name": "stdout",
     "output_type": "stream",
     "text": [
      "0\n"
     ]
    }
   ],
   "source": [
    "# Vérification\n",
    "\n",
    "print(fichierWeb.duplicated().sum())"
   ]
  },
  {
   "cell_type": "code",
   "execution_count": 36,
   "id": "9f38c6d7",
   "metadata": {},
   "outputs": [],
   "source": [
    "# Suppression des colonnes inutiles \n",
    "\n",
    "fichierWeb.drop(fichierWeb.columns.difference(['sku', 'total_sales', 'post_title']), axis = 1, inplace = True)\n"
   ]
  },
  {
   "cell_type": "code",
   "execution_count": 37,
   "id": "b64371f1",
   "metadata": {},
   "outputs": [
    {
     "data": {
      "text/html": [
       "<div>\n",
       "<style scoped>\n",
       "    .dataframe tbody tr th:only-of-type {\n",
       "        vertical-align: middle;\n",
       "    }\n",
       "\n",
       "    .dataframe tbody tr th {\n",
       "        vertical-align: top;\n",
       "    }\n",
       "\n",
       "    .dataframe thead th {\n",
       "        text-align: right;\n",
       "    }\n",
       "</style>\n",
       "<table border=\"1\" class=\"dataframe\">\n",
       "  <thead>\n",
       "    <tr style=\"text-align: right;\">\n",
       "      <th></th>\n",
       "      <th>sku</th>\n",
       "      <th>total_sales</th>\n",
       "      <th>post_title</th>\n",
       "    </tr>\n",
       "  </thead>\n",
       "  <tbody>\n",
       "    <tr>\n",
       "      <th>0</th>\n",
       "      <td>16004</td>\n",
       "      <td>5.0</td>\n",
       "      <td>Château du Couvent Pomerol 2017</td>\n",
       "    </tr>\n",
       "    <tr>\n",
       "      <th>1</th>\n",
       "      <td>NaN</td>\n",
       "      <td>NaN</td>\n",
       "      <td>NaN</td>\n",
       "    </tr>\n",
       "    <tr>\n",
       "      <th>2</th>\n",
       "      <td>15075</td>\n",
       "      <td>3.0</td>\n",
       "      <td>Parés Baltà Penedès Indigena 2017</td>\n",
       "    </tr>\n",
       "    <tr>\n",
       "      <th>3</th>\n",
       "      <td>16209</td>\n",
       "      <td>6.0</td>\n",
       "      <td>Maurel Cabardès Tradition 2017</td>\n",
       "    </tr>\n",
       "    <tr>\n",
       "      <th>4</th>\n",
       "      <td>15763</td>\n",
       "      <td>1.0</td>\n",
       "      <td>Domaine de la Monardière Vacqueyras Vieilles V...</td>\n",
       "    </tr>\n",
       "  </tbody>\n",
       "</table>\n",
       "</div>"
      ],
      "text/plain": [
       "     sku  total_sales                                         post_title\n",
       "0  16004          5.0                    Château du Couvent Pomerol 2017\n",
       "1    NaN          NaN                                                NaN\n",
       "2  15075          3.0                  Parés Baltà Penedès Indigena 2017\n",
       "3  16209          6.0                     Maurel Cabardès Tradition 2017\n",
       "4  15763          1.0  Domaine de la Monardière Vacqueyras Vieilles V..."
      ]
     },
     "execution_count": 37,
     "metadata": {},
     "output_type": "execute_result"
    }
   ],
   "source": [
    "# Affichage des 5 premières lignes\n",
    "\n",
    "fichierWeb.head()"
   ]
  },
  {
   "cell_type": "code",
   "execution_count": 38,
   "id": "f77cfd71",
   "metadata": {
    "scrolled": true
   },
   "outputs": [
    {
     "data": {
      "text/plain": [
       "<bound method DataFrame.info of        sku  total_sales                                         post_title\n",
       "0    16004          5.0                    Château du Couvent Pomerol 2017\n",
       "1      NaN          NaN                                                NaN\n",
       "2    15075          3.0                  Parés Baltà Penedès Indigena 2017\n",
       "3    16209          6.0                     Maurel Cabardès Tradition 2017\n",
       "4    15763          1.0  Domaine de la Monardière Vacqueyras Vieilles V...\n",
       "..     ...          ...                                                ...\n",
       "715  15575          6.0               Château Plaisance Fronton Rouge 2017\n",
       "716  15857          0.0    Domaine de Montbourgeau L'Etoile En Banode 2016\n",
       "717  16011          0.0  Nouvelle-Zélande Marlborough Momo Pinot Noir 2016\n",
       "718  15180          1.0                 Camille Giroud Santenay Rouge 2016\n",
       "719   1662         87.0                        Champagne Gosset Grand Rosé\n",
       "\n",
       "[720 rows x 3 columns]>"
      ]
     },
     "execution_count": 38,
     "metadata": {},
     "output_type": "execute_result"
    }
   ],
   "source": [
    "# Affichage des infos du dataset\n",
    "\n",
    "fichierWeb.info"
   ]
  },
  {
   "cell_type": "code",
   "execution_count": 39,
   "id": "f79d6637",
   "metadata": {
    "scrolled": true
   },
   "outputs": [
    {
     "data": {
      "text/plain": [
       "sku            3\n",
       "total_sales    1\n",
       "post_title     1\n",
       "dtype: int64"
      ]
     },
     "execution_count": 39,
     "metadata": {},
     "output_type": "execute_result"
    }
   ],
   "source": [
    "# Recherche des valeurs nulles\n",
    "\n",
    "fichierWeb.isna().sum()"
   ]
  },
  {
   "cell_type": "code",
   "execution_count": 40,
   "id": "3e0425e7",
   "metadata": {},
   "outputs": [],
   "source": [
    "# Suppression des valeurs nulles sur la colonne sku \n",
    "\n",
    "fichierWeb=fichierWeb.dropna(subset=['sku'])"
   ]
  },
  {
   "cell_type": "code",
   "execution_count": 41,
   "id": "1bdcb6fa",
   "metadata": {},
   "outputs": [],
   "source": [
    "# Suppression des valeurs nulles sur la colonne total_sales\n",
    "\n",
    "fichierWeb=fichierWeb.dropna(subset=['total_sales'])"
   ]
  },
  {
   "cell_type": "code",
   "execution_count": 42,
   "id": "13525386",
   "metadata": {
    "scrolled": false
   },
   "outputs": [
    {
     "data": {
      "text/html": [
       "<div>\n",
       "<style scoped>\n",
       "    .dataframe tbody tr th:only-of-type {\n",
       "        vertical-align: middle;\n",
       "    }\n",
       "\n",
       "    .dataframe tbody tr th {\n",
       "        vertical-align: top;\n",
       "    }\n",
       "\n",
       "    .dataframe thead th {\n",
       "        text-align: right;\n",
       "    }\n",
       "</style>\n",
       "<table border=\"1\" class=\"dataframe\">\n",
       "  <thead>\n",
       "    <tr style=\"text-align: right;\">\n",
       "      <th></th>\n",
       "      <th>sku</th>\n",
       "      <th>total_sales</th>\n",
       "      <th>post_title</th>\n",
       "    </tr>\n",
       "  </thead>\n",
       "  <tbody>\n",
       "    <tr>\n",
       "      <th>68</th>\n",
       "      <td>16416</td>\n",
       "      <td>2.0</td>\n",
       "      <td>Gilles Robin Crozes-Hermitage Rouge Papillon 2019</td>\n",
       "    </tr>\n",
       "    <tr>\n",
       "      <th>529</th>\n",
       "      <td>7818</td>\n",
       "      <td>96.0</td>\n",
       "      <td>Champagne Gosset Grand Blanc de Blancs</td>\n",
       "    </tr>\n",
       "    <tr>\n",
       "      <th>629</th>\n",
       "      <td>7818</td>\n",
       "      <td>6.0</td>\n",
       "      <td>Champagne Gosset Grand Blanc de Blancs</td>\n",
       "    </tr>\n",
       "    <tr>\n",
       "      <th>654</th>\n",
       "      <td>1662</td>\n",
       "      <td>7.0</td>\n",
       "      <td>Champagne Gosset Grand Rosé</td>\n",
       "    </tr>\n",
       "    <tr>\n",
       "      <th>664</th>\n",
       "      <td>16416</td>\n",
       "      <td>62.0</td>\n",
       "      <td>Gilles Robin Crozes-Hermitage Rouge Papillon 2019</td>\n",
       "    </tr>\n",
       "    <tr>\n",
       "      <th>719</th>\n",
       "      <td>1662</td>\n",
       "      <td>87.0</td>\n",
       "      <td>Champagne Gosset Grand Rosé</td>\n",
       "    </tr>\n",
       "  </tbody>\n",
       "</table>\n",
       "</div>"
      ],
      "text/plain": [
       "       sku  total_sales                                         post_title\n",
       "68   16416          2.0  Gilles Robin Crozes-Hermitage Rouge Papillon 2019\n",
       "529   7818         96.0             Champagne Gosset Grand Blanc de Blancs\n",
       "629   7818          6.0             Champagne Gosset Grand Blanc de Blancs\n",
       "654   1662          7.0                        Champagne Gosset Grand Rosé\n",
       "664  16416         62.0  Gilles Robin Crozes-Hermitage Rouge Papillon 2019\n",
       "719   1662         87.0                        Champagne Gosset Grand Rosé"
      ]
     },
     "execution_count": 42,
     "metadata": {},
     "output_type": "execute_result"
    }
   ],
   "source": [
    "# Vérification de la clé\n",
    "\n",
    "fichierWeb.loc[fichierWeb['sku'].duplicated(keep=False),:]"
   ]
  },
  {
   "cell_type": "code",
   "execution_count": 43,
   "id": "b8dec0cf",
   "metadata": {},
   "outputs": [],
   "source": [
    "# Suppression manuelle des doublons restants (puisqu'il s'agit de la somme des ventes, le plus logique est la plus grande)\n",
    "\n",
    "fichierWeb.drop([68,629,654], axis=0, inplace=True)\n"
   ]
  },
  {
   "cell_type": "code",
   "execution_count": 44,
   "id": "f6b34241",
   "metadata": {},
   "outputs": [],
   "source": [
    "# Changement de nom des colonnes\n",
    "\n",
    "fichierWeb.rename(columns = {'sku':'SKU', 'post_title':'nom_produit','total_sales':'total_ventes'}, inplace=True)"
   ]
  },
  {
   "cell_type": "code",
   "execution_count": 45,
   "id": "690e6077",
   "metadata": {
    "scrolled": true
   },
   "outputs": [
    {
     "data": {
      "text/html": [
       "<div>\n",
       "<style scoped>\n",
       "    .dataframe tbody tr th:only-of-type {\n",
       "        vertical-align: middle;\n",
       "    }\n",
       "\n",
       "    .dataframe tbody tr th {\n",
       "        vertical-align: top;\n",
       "    }\n",
       "\n",
       "    .dataframe thead th {\n",
       "        text-align: right;\n",
       "    }\n",
       "</style>\n",
       "<table border=\"1\" class=\"dataframe\">\n",
       "  <thead>\n",
       "    <tr style=\"text-align: right;\">\n",
       "      <th></th>\n",
       "      <th>SKU</th>\n",
       "      <th>total_ventes</th>\n",
       "      <th>nom_produit</th>\n",
       "    </tr>\n",
       "  </thead>\n",
       "  <tbody>\n",
       "    <tr>\n",
       "      <th>0</th>\n",
       "      <td>16004</td>\n",
       "      <td>5.0</td>\n",
       "      <td>Château du Couvent Pomerol 2017</td>\n",
       "    </tr>\n",
       "    <tr>\n",
       "      <th>2</th>\n",
       "      <td>15075</td>\n",
       "      <td>3.0</td>\n",
       "      <td>Parés Baltà Penedès Indigena 2017</td>\n",
       "    </tr>\n",
       "    <tr>\n",
       "      <th>3</th>\n",
       "      <td>16209</td>\n",
       "      <td>6.0</td>\n",
       "      <td>Maurel Cabardès Tradition 2017</td>\n",
       "    </tr>\n",
       "    <tr>\n",
       "      <th>4</th>\n",
       "      <td>15763</td>\n",
       "      <td>1.0</td>\n",
       "      <td>Domaine de la Monardière Vacqueyras Vieilles V...</td>\n",
       "    </tr>\n",
       "    <tr>\n",
       "      <th>5</th>\n",
       "      <td>13895</td>\n",
       "      <td>0.0</td>\n",
       "      <td>Château Saransot-Dupré Bordeaux Blanc 2016</td>\n",
       "    </tr>\n",
       "  </tbody>\n",
       "</table>\n",
       "</div>"
      ],
      "text/plain": [
       "     SKU  total_ventes                                        nom_produit\n",
       "0  16004           5.0                    Château du Couvent Pomerol 2017\n",
       "2  15075           3.0                  Parés Baltà Penedès Indigena 2017\n",
       "3  16209           6.0                     Maurel Cabardès Tradition 2017\n",
       "4  15763           1.0  Domaine de la Monardière Vacqueyras Vieilles V...\n",
       "5  13895           0.0         Château Saransot-Dupré Bordeaux Blanc 2016"
      ]
     },
     "execution_count": 45,
     "metadata": {},
     "output_type": "execute_result"
    }
   ],
   "source": [
    "# Affichage des 5 premières lignes\n",
    "\n",
    "fichierWeb.head()"
   ]
  },
  {
   "cell_type": "code",
   "execution_count": 46,
   "id": "107ee027",
   "metadata": {
    "scrolled": true
   },
   "outputs": [
    {
     "data": {
      "text/plain": [
       "714"
      ]
     },
     "execution_count": 46,
     "metadata": {},
     "output_type": "execute_result"
    }
   ],
   "source": [
    "# Vérification de la clé\n",
    "\n",
    "fichierWeb['SKU'].unique().shape[0]"
   ]
  },
  {
   "cell_type": "code",
   "execution_count": 47,
   "id": "6261a6a4",
   "metadata": {},
   "outputs": [
    {
     "name": "stdout",
     "output_type": "stream",
     "text": [
      "0\n"
     ]
    }
   ],
   "source": [
    "# Vérification de l'unicité de la clé SKU\n",
    "\n",
    "print((fichierWeb['SKU'].duplicated()).sum())"
   ]
  },
  {
   "cell_type": "code",
   "execution_count": 48,
   "id": "66cd4bfb",
   "metadata": {
    "scrolled": true
   },
   "outputs": [
    {
     "data": {
      "text/plain": [
       "<bound method DataFrame.info of        SKU  total_ventes                                        nom_produit\n",
       "0    16004           5.0                    Château du Couvent Pomerol 2017\n",
       "2    15075           3.0                  Parés Baltà Penedès Indigena 2017\n",
       "3    16209           6.0                     Maurel Cabardès Tradition 2017\n",
       "4    15763           1.0  Domaine de la Monardière Vacqueyras Vieilles V...\n",
       "5    13895           0.0         Château Saransot-Dupré Bordeaux Blanc 2016\n",
       "..     ...           ...                                                ...\n",
       "715  15575           6.0               Château Plaisance Fronton Rouge 2017\n",
       "716  15857           0.0    Domaine de Montbourgeau L'Etoile En Banode 2016\n",
       "717  16011           0.0  Nouvelle-Zélande Marlborough Momo Pinot Noir 2016\n",
       "718  15180           1.0                 Camille Giroud Santenay Rouge 2016\n",
       "719   1662          87.0                        Champagne Gosset Grand Rosé\n",
       "\n",
       "[714 rows x 3 columns]>"
      ]
     },
     "execution_count": 48,
     "metadata": {},
     "output_type": "execute_result"
    }
   ],
   "source": [
    "# Affichage des infos du dataset\n",
    "\n",
    "fichierWeb.info"
   ]
  },
  {
   "cell_type": "markdown",
   "id": "75818564",
   "metadata": {},
   "source": [
    "<div style=\"border: 1px solid RGB(173,40,59);\" >\n",
    "<h3 style=\"margin: auto; padding: 20px; color: RGB(173,40,59); \">2.3 - Analyse exploratoire du fichier liaison</h3>"
   ]
  },
  {
   "cell_type": "code",
   "execution_count": 49,
   "id": "3c777bb2",
   "metadata": {},
   "outputs": [
    {
     "name": "stdout",
     "output_type": "stream",
     "text": [
      "Le tableau comporte 825 observation(s) ou article(s)\n",
      "Le tableau comporte 2 colonne(s)\n"
     ]
    }
   ],
   "source": [
    "# Afficher les dimensions du dataset\n",
    "\n",
    "print(\"Le tableau comporte {} observation(s) ou article(s)\".format(fichierLiaison.shape[0]))\n",
    "print(\"Le tableau comporte {} colonne(s)\".format(fichierLiaison.shape[1]))"
   ]
  },
  {
   "cell_type": "code",
   "execution_count": 50,
   "id": "f37f2103",
   "metadata": {},
   "outputs": [
    {
     "name": "stdout",
     "output_type": "stream",
     "text": [
      "<class 'pandas.core.frame.DataFrame'>\n",
      "RangeIndex: 825 entries, 0 to 824\n",
      "Data columns (total 2 columns):\n",
      " #   Column      Non-Null Count  Dtype \n",
      "---  ------      --------------  ----- \n",
      " 0   product_id  825 non-null    int64 \n",
      " 1   id_web      734 non-null    object\n",
      "dtypes: int64(1), object(1)\n",
      "memory usage: 13.0+ KB\n"
     ]
    }
   ],
   "source": [
    "# Affichage des infos du dataset\n",
    "\n",
    "fichierLiaison.info()"
   ]
  },
  {
   "cell_type": "code",
   "execution_count": 51,
   "id": "9c3cf27c",
   "metadata": {},
   "outputs": [
    {
     "data": {
      "text/html": [
       "<div>\n",
       "<style scoped>\n",
       "    .dataframe tbody tr th:only-of-type {\n",
       "        vertical-align: middle;\n",
       "    }\n",
       "\n",
       "    .dataframe tbody tr th {\n",
       "        vertical-align: top;\n",
       "    }\n",
       "\n",
       "    .dataframe thead th {\n",
       "        text-align: right;\n",
       "    }\n",
       "</style>\n",
       "<table border=\"1\" class=\"dataframe\">\n",
       "  <thead>\n",
       "    <tr style=\"text-align: right;\">\n",
       "      <th></th>\n",
       "      <th>product_id</th>\n",
       "    </tr>\n",
       "  </thead>\n",
       "  <tbody>\n",
       "    <tr>\n",
       "      <th>count</th>\n",
       "      <td>825.000000</td>\n",
       "    </tr>\n",
       "    <tr>\n",
       "      <th>mean</th>\n",
       "      <td>5162.597576</td>\n",
       "    </tr>\n",
       "    <tr>\n",
       "      <th>std</th>\n",
       "      <td>902.644635</td>\n",
       "    </tr>\n",
       "    <tr>\n",
       "      <th>min</th>\n",
       "      <td>3847.000000</td>\n",
       "    </tr>\n",
       "    <tr>\n",
       "      <th>25%</th>\n",
       "      <td>4348.000000</td>\n",
       "    </tr>\n",
       "    <tr>\n",
       "      <th>50%</th>\n",
       "      <td>4907.000000</td>\n",
       "    </tr>\n",
       "    <tr>\n",
       "      <th>75%</th>\n",
       "      <td>5805.000000</td>\n",
       "    </tr>\n",
       "    <tr>\n",
       "      <th>max</th>\n",
       "      <td>7338.000000</td>\n",
       "    </tr>\n",
       "  </tbody>\n",
       "</table>\n",
       "</div>"
      ],
      "text/plain": [
       "        product_id\n",
       "count   825.000000\n",
       "mean   5162.597576\n",
       "std     902.644635\n",
       "min    3847.000000\n",
       "25%    4348.000000\n",
       "50%    4907.000000\n",
       "75%    5805.000000\n",
       "max    7338.000000"
      ]
     },
     "execution_count": 51,
     "metadata": {},
     "output_type": "execute_result"
    }
   ],
   "source": [
    "# Recherche de valeurs aberrantes\n",
    "\n",
    "fichierLiaison.describe()"
   ]
  },
  {
   "cell_type": "code",
   "execution_count": 52,
   "id": "4eb32075",
   "metadata": {
    "scrolled": true
   },
   "outputs": [
    {
     "data": {
      "text/plain": [
       "825"
      ]
     },
     "execution_count": 52,
     "metadata": {},
     "output_type": "execute_result"
    }
   ],
   "source": [
    "# Comptage des valeurs uniques\n",
    "\n",
    "fichierLiaison['product_id'].unique().shape[0]"
   ]
  },
  {
   "cell_type": "code",
   "execution_count": 53,
   "id": "f13fca12",
   "metadata": {},
   "outputs": [
    {
     "data": {
      "text/plain": [
       "735"
      ]
     },
     "execution_count": 53,
     "metadata": {},
     "output_type": "execute_result"
    }
   ],
   "source": [
    "# Comptage des valeurs uniques\n",
    "\n",
    "fichierLiaison['id_web'].unique().shape[0]"
   ]
  },
  {
   "cell_type": "code",
   "execution_count": 54,
   "id": "41cf9b8c",
   "metadata": {},
   "outputs": [],
   "source": [
    "# Changement de nom des colonnes\n",
    "\n",
    "fichierLiaison.rename(columns = {'id_web':'SKU','product_id':'id_produit'}, inplace=True)"
   ]
  },
  {
   "cell_type": "code",
   "execution_count": 55,
   "id": "03c4718e",
   "metadata": {},
   "outputs": [
    {
     "name": "stdout",
     "output_type": "stream",
     "text": [
      "0\n"
     ]
    }
   ],
   "source": [
    "# Vérification de l'unicité de la clé id_produit\n",
    "\n",
    "print((fichierLiaison['id_produit'].duplicated()).sum())"
   ]
  },
  {
   "cell_type": "code",
   "execution_count": 56,
   "id": "950b5472",
   "metadata": {
    "scrolled": true
   },
   "outputs": [
    {
     "name": "stdout",
     "output_type": "stream",
     "text": [
      "90\n"
     ]
    }
   ],
   "source": [
    "# Vérification de l'unicité de la clé SKU\n",
    "\n",
    "print((fichierLiaison['SKU'].duplicated()).sum())"
   ]
  },
  {
   "cell_type": "code",
   "execution_count": 57,
   "id": "e2dc367b",
   "metadata": {},
   "outputs": [
    {
     "data": {
      "text/html": [
       "<div>\n",
       "<style scoped>\n",
       "    .dataframe tbody tr th:only-of-type {\n",
       "        vertical-align: middle;\n",
       "    }\n",
       "\n",
       "    .dataframe tbody tr th {\n",
       "        vertical-align: top;\n",
       "    }\n",
       "\n",
       "    .dataframe thead th {\n",
       "        text-align: right;\n",
       "    }\n",
       "</style>\n",
       "<table border=\"1\" class=\"dataframe\">\n",
       "  <thead>\n",
       "    <tr style=\"text-align: right;\">\n",
       "      <th></th>\n",
       "      <th>id_produit</th>\n",
       "      <th>SKU</th>\n",
       "    </tr>\n",
       "  </thead>\n",
       "  <tbody>\n",
       "    <tr>\n",
       "      <th>19</th>\n",
       "      <td>4055</td>\n",
       "      <td>NaN</td>\n",
       "    </tr>\n",
       "    <tr>\n",
       "      <th>49</th>\n",
       "      <td>4090</td>\n",
       "      <td>NaN</td>\n",
       "    </tr>\n",
       "    <tr>\n",
       "      <th>50</th>\n",
       "      <td>4092</td>\n",
       "      <td>NaN</td>\n",
       "    </tr>\n",
       "    <tr>\n",
       "      <th>119</th>\n",
       "      <td>4195</td>\n",
       "      <td>NaN</td>\n",
       "    </tr>\n",
       "    <tr>\n",
       "      <th>131</th>\n",
       "      <td>4209</td>\n",
       "      <td>NaN</td>\n",
       "    </tr>\n",
       "    <tr>\n",
       "      <th>...</th>\n",
       "      <td>...</td>\n",
       "      <td>...</td>\n",
       "    </tr>\n",
       "    <tr>\n",
       "      <th>817</th>\n",
       "      <td>7196</td>\n",
       "      <td>NaN</td>\n",
       "    </tr>\n",
       "    <tr>\n",
       "      <th>818</th>\n",
       "      <td>7200</td>\n",
       "      <td>NaN</td>\n",
       "    </tr>\n",
       "    <tr>\n",
       "      <th>819</th>\n",
       "      <td>7201</td>\n",
       "      <td>NaN</td>\n",
       "    </tr>\n",
       "    <tr>\n",
       "      <th>820</th>\n",
       "      <td>7203</td>\n",
       "      <td>NaN</td>\n",
       "    </tr>\n",
       "    <tr>\n",
       "      <th>821</th>\n",
       "      <td>7204</td>\n",
       "      <td>NaN</td>\n",
       "    </tr>\n",
       "  </tbody>\n",
       "</table>\n",
       "<p>91 rows × 2 columns</p>\n",
       "</div>"
      ],
      "text/plain": [
       "     id_produit  SKU\n",
       "19         4055  NaN\n",
       "49         4090  NaN\n",
       "50         4092  NaN\n",
       "119        4195  NaN\n",
       "131        4209  NaN\n",
       "..          ...  ...\n",
       "817        7196  NaN\n",
       "818        7200  NaN\n",
       "819        7201  NaN\n",
       "820        7203  NaN\n",
       "821        7204  NaN\n",
       "\n",
       "[91 rows x 2 columns]"
      ]
     },
     "execution_count": 57,
     "metadata": {},
     "output_type": "execute_result"
    }
   ],
   "source": [
    "# Affichage des doublons\n",
    "\n",
    "fichierLiaison.loc[fichierLiaison['SKU'].duplicated(keep=False),:]"
   ]
  },
  {
   "cell_type": "code",
   "execution_count": 58,
   "id": "d317c1d1",
   "metadata": {},
   "outputs": [],
   "source": [
    "# Suppression des doublons \n",
    "\n",
    "fichierLiaison.drop_duplicates(subset =['SKU'], inplace = True, ignore_index=True)"
   ]
  },
  {
   "cell_type": "code",
   "execution_count": 59,
   "id": "8b0e76b4",
   "metadata": {
    "scrolled": true
   },
   "outputs": [
    {
     "name": "stdout",
     "output_type": "stream",
     "text": [
      "0\n"
     ]
    }
   ],
   "source": [
    "# Vérification de l'unicité de la clé SKU\n",
    "\n",
    "print((fichierLiaison['SKU'].duplicated()).sum())"
   ]
  },
  {
   "cell_type": "code",
   "execution_count": 60,
   "id": "ce840b9a",
   "metadata": {
    "scrolled": true
   },
   "outputs": [
    {
     "data": {
      "text/plain": [
       "id_produit    0\n",
       "SKU           1\n",
       "dtype: int64"
      ]
     },
     "execution_count": 60,
     "metadata": {},
     "output_type": "execute_result"
    }
   ],
   "source": [
    "# Vérification des valeurs nulles\n",
    "\n",
    "fichierLiaison.isna().sum()"
   ]
  },
  {
   "cell_type": "code",
   "execution_count": 61,
   "id": "eec7bde4",
   "metadata": {},
   "outputs": [],
   "source": [
    "# Suppression des SKU manquants\n",
    "\n",
    "fichierLiaison=fichierLiaison.dropna(subset=['SKU'])"
   ]
  },
  {
   "cell_type": "code",
   "execution_count": 62,
   "id": "79a48102",
   "metadata": {
    "scrolled": true
   },
   "outputs": [
    {
     "data": {
      "text/html": [
       "<div>\n",
       "<style scoped>\n",
       "    .dataframe tbody tr th:only-of-type {\n",
       "        vertical-align: middle;\n",
       "    }\n",
       "\n",
       "    .dataframe tbody tr th {\n",
       "        vertical-align: top;\n",
       "    }\n",
       "\n",
       "    .dataframe thead th {\n",
       "        text-align: right;\n",
       "    }\n",
       "</style>\n",
       "<table border=\"1\" class=\"dataframe\">\n",
       "  <thead>\n",
       "    <tr style=\"text-align: right;\">\n",
       "      <th></th>\n",
       "      <th>id_produit</th>\n",
       "      <th>SKU</th>\n",
       "    </tr>\n",
       "  </thead>\n",
       "  <tbody>\n",
       "    <tr>\n",
       "      <th>0</th>\n",
       "      <td>3847</td>\n",
       "      <td>15298</td>\n",
       "    </tr>\n",
       "    <tr>\n",
       "      <th>1</th>\n",
       "      <td>3849</td>\n",
       "      <td>15296</td>\n",
       "    </tr>\n",
       "    <tr>\n",
       "      <th>2</th>\n",
       "      <td>3850</td>\n",
       "      <td>15300</td>\n",
       "    </tr>\n",
       "    <tr>\n",
       "      <th>3</th>\n",
       "      <td>4032</td>\n",
       "      <td>19814</td>\n",
       "    </tr>\n",
       "    <tr>\n",
       "      <th>4</th>\n",
       "      <td>4039</td>\n",
       "      <td>19815</td>\n",
       "    </tr>\n",
       "  </tbody>\n",
       "</table>\n",
       "</div>"
      ],
      "text/plain": [
       "   id_produit    SKU\n",
       "0        3847  15298\n",
       "1        3849  15296\n",
       "2        3850  15300\n",
       "3        4032  19814\n",
       "4        4039  19815"
      ]
     },
     "execution_count": 62,
     "metadata": {},
     "output_type": "execute_result"
    }
   ],
   "source": [
    "# Affichage des 5 premières lignes\n",
    "\n",
    "fichierLiaison.head()"
   ]
  },
  {
   "cell_type": "code",
   "execution_count": 63,
   "id": "179022af",
   "metadata": {},
   "outputs": [
    {
     "data": {
      "text/html": [
       "<div>\n",
       "<style scoped>\n",
       "    .dataframe tbody tr th:only-of-type {\n",
       "        vertical-align: middle;\n",
       "    }\n",
       "\n",
       "    .dataframe tbody tr th {\n",
       "        vertical-align: top;\n",
       "    }\n",
       "\n",
       "    .dataframe thead th {\n",
       "        text-align: right;\n",
       "    }\n",
       "</style>\n",
       "<table border=\"1\" class=\"dataframe\">\n",
       "  <thead>\n",
       "    <tr style=\"text-align: right;\">\n",
       "      <th></th>\n",
       "      <th>id_produit</th>\n",
       "      <th>SKU</th>\n",
       "    </tr>\n",
       "  </thead>\n",
       "  <tbody>\n",
       "    <tr>\n",
       "      <th>0</th>\n",
       "      <td>3847</td>\n",
       "      <td>15298</td>\n",
       "    </tr>\n",
       "    <tr>\n",
       "      <th>1</th>\n",
       "      <td>3849</td>\n",
       "      <td>15296</td>\n",
       "    </tr>\n",
       "    <tr>\n",
       "      <th>2</th>\n",
       "      <td>3850</td>\n",
       "      <td>15300</td>\n",
       "    </tr>\n",
       "    <tr>\n",
       "      <th>3</th>\n",
       "      <td>4032</td>\n",
       "      <td>19814</td>\n",
       "    </tr>\n",
       "    <tr>\n",
       "      <th>4</th>\n",
       "      <td>4039</td>\n",
       "      <td>19815</td>\n",
       "    </tr>\n",
       "    <tr>\n",
       "      <th>...</th>\n",
       "      <td>...</td>\n",
       "      <td>...</td>\n",
       "    </tr>\n",
       "    <tr>\n",
       "      <th>730</th>\n",
       "      <td>7023</td>\n",
       "      <td>15891</td>\n",
       "    </tr>\n",
       "    <tr>\n",
       "      <th>731</th>\n",
       "      <td>7025</td>\n",
       "      <td>15887</td>\n",
       "    </tr>\n",
       "    <tr>\n",
       "      <th>732</th>\n",
       "      <td>7247</td>\n",
       "      <td>13127-1</td>\n",
       "    </tr>\n",
       "    <tr>\n",
       "      <th>733</th>\n",
       "      <td>7329</td>\n",
       "      <td>14680-1</td>\n",
       "    </tr>\n",
       "    <tr>\n",
       "      <th>734</th>\n",
       "      <td>7338</td>\n",
       "      <td>16230</td>\n",
       "    </tr>\n",
       "  </tbody>\n",
       "</table>\n",
       "<p>734 rows × 2 columns</p>\n",
       "</div>"
      ],
      "text/plain": [
       "     id_produit      SKU\n",
       "0          3847    15298\n",
       "1          3849    15296\n",
       "2          3850    15300\n",
       "3          4032    19814\n",
       "4          4039    19815\n",
       "..          ...      ...\n",
       "730        7023    15891\n",
       "731        7025    15887\n",
       "732        7247  13127-1\n",
       "733        7329  14680-1\n",
       "734        7338    16230\n",
       "\n",
       "[734 rows x 2 columns]"
      ]
     },
     "execution_count": 63,
     "metadata": {},
     "output_type": "execute_result"
    }
   ],
   "source": [
    "# Affichage du dataset\n",
    "\n",
    "fichierLiaison"
   ]
  },
  {
   "cell_type": "code",
   "execution_count": 64,
   "id": "1f578b6a",
   "metadata": {},
   "outputs": [
    {
     "name": "stdout",
     "output_type": "stream",
     "text": [
      "<class 'pandas.core.frame.DataFrame'>\n",
      "Int64Index: 734 entries, 0 to 734\n",
      "Data columns (total 2 columns):\n",
      " #   Column      Non-Null Count  Dtype \n",
      "---  ------      --------------  ----- \n",
      " 0   id_produit  734 non-null    int64 \n",
      " 1   SKU         734 non-null    object\n",
      "dtypes: int64(1), object(1)\n",
      "memory usage: 17.2+ KB\n"
     ]
    }
   ],
   "source": [
    "# Affichage des infos du dataset\n",
    "\n",
    "fichierLiaison.info()"
   ]
  },
  {
   "cell_type": "markdown",
   "id": "de6293b2",
   "metadata": {},
   "source": [
    "<div style=\"background-color: RGB(173,40,59);\" >\n",
    "<h2 style=\"margin: auto; padding: 20px; color:#fff; \">Etape 3 - Jointures</h2>"
   ]
  },
  {
   "cell_type": "markdown",
   "id": "babd78a6",
   "metadata": {},
   "source": [
    "<div style=\"border: 1px solid RGB(173,40,59);\" >\n",
    "<h3 style=\"margin: auto; padding: 20px; color: RGB(173,40,59); \">3.1 - Jointure du fichier liaison au fichier ERP</h3>"
   ]
  },
  {
   "cell_type": "code",
   "execution_count": 65,
   "id": "dd0dcd0b",
   "metadata": {},
   "outputs": [],
   "source": [
    "# Création du dataframe\n",
    "\n",
    "df1 = fichierERPsite.merge(fichierLiaison, on='id_produit', how='inner')"
   ]
  },
  {
   "cell_type": "code",
   "execution_count": 66,
   "id": "ec983d62",
   "metadata": {
    "scrolled": false
   },
   "outputs": [
    {
     "data": {
      "text/html": [
       "<div>\n",
       "<style scoped>\n",
       "    .dataframe tbody tr th:only-of-type {\n",
       "        vertical-align: middle;\n",
       "    }\n",
       "\n",
       "    .dataframe tbody tr th {\n",
       "        vertical-align: top;\n",
       "    }\n",
       "\n",
       "    .dataframe thead th {\n",
       "        text-align: right;\n",
       "    }\n",
       "</style>\n",
       "<table border=\"1\" class=\"dataframe\">\n",
       "  <thead>\n",
       "    <tr style=\"text-align: right;\">\n",
       "      <th></th>\n",
       "      <th>id_produit</th>\n",
       "      <th>prix</th>\n",
       "      <th>SKU</th>\n",
       "    </tr>\n",
       "  </thead>\n",
       "  <tbody>\n",
       "    <tr>\n",
       "      <th>0</th>\n",
       "      <td>3847</td>\n",
       "      <td>24.2</td>\n",
       "      <td>15298</td>\n",
       "    </tr>\n",
       "    <tr>\n",
       "      <th>1</th>\n",
       "      <td>3849</td>\n",
       "      <td>34.3</td>\n",
       "      <td>15296</td>\n",
       "    </tr>\n",
       "    <tr>\n",
       "      <th>2</th>\n",
       "      <td>3850</td>\n",
       "      <td>20.8</td>\n",
       "      <td>15300</td>\n",
       "    </tr>\n",
       "    <tr>\n",
       "      <th>3</th>\n",
       "      <td>4032</td>\n",
       "      <td>14.1</td>\n",
       "      <td>19814</td>\n",
       "    </tr>\n",
       "    <tr>\n",
       "      <th>4</th>\n",
       "      <td>4039</td>\n",
       "      <td>46.0</td>\n",
       "      <td>19815</td>\n",
       "    </tr>\n",
       "    <tr>\n",
       "      <th>...</th>\n",
       "      <td>...</td>\n",
       "      <td>...</td>\n",
       "      <td>...</td>\n",
       "    </tr>\n",
       "    <tr>\n",
       "      <th>709</th>\n",
       "      <td>6930</td>\n",
       "      <td>8.4</td>\n",
       "      <td>16135</td>\n",
       "    </tr>\n",
       "    <tr>\n",
       "      <th>710</th>\n",
       "      <td>7023</td>\n",
       "      <td>27.5</td>\n",
       "      <td>15891</td>\n",
       "    </tr>\n",
       "    <tr>\n",
       "      <th>711</th>\n",
       "      <td>7025</td>\n",
       "      <td>69.0</td>\n",
       "      <td>15887</td>\n",
       "    </tr>\n",
       "    <tr>\n",
       "      <th>712</th>\n",
       "      <td>7247</td>\n",
       "      <td>54.8</td>\n",
       "      <td>13127-1</td>\n",
       "    </tr>\n",
       "    <tr>\n",
       "      <th>713</th>\n",
       "      <td>7338</td>\n",
       "      <td>16.3</td>\n",
       "      <td>16230</td>\n",
       "    </tr>\n",
       "  </tbody>\n",
       "</table>\n",
       "<p>714 rows × 3 columns</p>\n",
       "</div>"
      ],
      "text/plain": [
       "     id_produit  prix      SKU\n",
       "0          3847  24.2    15298\n",
       "1          3849  34.3    15296\n",
       "2          3850  20.8    15300\n",
       "3          4032  14.1    19814\n",
       "4          4039  46.0    19815\n",
       "..          ...   ...      ...\n",
       "709        6930   8.4    16135\n",
       "710        7023  27.5    15891\n",
       "711        7025  69.0    15887\n",
       "712        7247  54.8  13127-1\n",
       "713        7338  16.3    16230\n",
       "\n",
       "[714 rows x 3 columns]"
      ]
     },
     "execution_count": 66,
     "metadata": {},
     "output_type": "execute_result"
    }
   ],
   "source": [
    "# Affichage\n",
    "\n",
    "df1"
   ]
  },
  {
   "cell_type": "code",
   "execution_count": 67,
   "id": "3da69b08",
   "metadata": {},
   "outputs": [
    {
     "name": "stdout",
     "output_type": "stream",
     "text": [
      "<class 'pandas.core.frame.DataFrame'>\n",
      "Int64Index: 714 entries, 0 to 713\n",
      "Data columns (total 3 columns):\n",
      " #   Column      Non-Null Count  Dtype  \n",
      "---  ------      --------------  -----  \n",
      " 0   id_produit  714 non-null    int64  \n",
      " 1   prix        714 non-null    float64\n",
      " 2   SKU         714 non-null    object \n",
      "dtypes: float64(1), int64(1), object(1)\n",
      "memory usage: 22.3+ KB\n"
     ]
    }
   ],
   "source": [
    "# Affichage des infos du dataset\n",
    "\n",
    "df1.info()"
   ]
  },
  {
   "cell_type": "code",
   "execution_count": 68,
   "id": "b59de7d9",
   "metadata": {
    "scrolled": true
   },
   "outputs": [
    {
     "data": {
      "text/plain": [
       "714"
      ]
     },
     "execution_count": 68,
     "metadata": {},
     "output_type": "execute_result"
    }
   ],
   "source": [
    "# Comptage des valeurs uniques\n",
    "\n",
    "df1['SKU'].unique().shape[0]"
   ]
  },
  {
   "cell_type": "code",
   "execution_count": 69,
   "id": "8d7f54d3",
   "metadata": {},
   "outputs": [
    {
     "data": {
      "text/plain": [
       "714"
      ]
     },
     "execution_count": 69,
     "metadata": {},
     "output_type": "execute_result"
    }
   ],
   "source": [
    "# Comptage des valeurs uniques\n",
    "\n",
    "df1['id_produit'].unique().shape[0]"
   ]
  },
  {
   "cell_type": "code",
   "execution_count": 70,
   "id": "96aa9abf",
   "metadata": {},
   "outputs": [
    {
     "data": {
      "text/plain": [
       "<bound method DataFrame.info of      id_produit  prix      SKU\n",
       "0          3847  24.2    15298\n",
       "1          3849  34.3    15296\n",
       "2          3850  20.8    15300\n",
       "3          4032  14.1    19814\n",
       "4          4039  46.0    19815\n",
       "..          ...   ...      ...\n",
       "709        6930   8.4    16135\n",
       "710        7023  27.5    15891\n",
       "711        7025  69.0    15887\n",
       "712        7247  54.8  13127-1\n",
       "713        7338  16.3    16230\n",
       "\n",
       "[714 rows x 3 columns]>"
      ]
     },
     "execution_count": 70,
     "metadata": {},
     "output_type": "execute_result"
    }
   ],
   "source": [
    "# Affichage des infos du dataset\n",
    "\n",
    "df1.info"
   ]
  },
  {
   "cell_type": "markdown",
   "id": "4e73fecf",
   "metadata": {},
   "source": [
    "<div style=\"border: 1px solid RGB(173,40,59);\" >\n",
    "<h3 style=\"margin: auto; padding: 20px; color: RGB(173,40,59); \">3.2 - Jointure avec le fichier Web</h3>"
   ]
  },
  {
   "cell_type": "code",
   "execution_count": 71,
   "id": "dafbe863",
   "metadata": {},
   "outputs": [],
   "source": [
    "# Création du dataframe\n",
    "\n",
    "df2 = df1.merge(fichierWeb, on='SKU', how='inner')"
   ]
  },
  {
   "cell_type": "code",
   "execution_count": 72,
   "id": "701cebb9",
   "metadata": {},
   "outputs": [
    {
     "data": {
      "text/html": [
       "<div>\n",
       "<style scoped>\n",
       "    .dataframe tbody tr th:only-of-type {\n",
       "        vertical-align: middle;\n",
       "    }\n",
       "\n",
       "    .dataframe tbody tr th {\n",
       "        vertical-align: top;\n",
       "    }\n",
       "\n",
       "    .dataframe thead th {\n",
       "        text-align: right;\n",
       "    }\n",
       "</style>\n",
       "<table border=\"1\" class=\"dataframe\">\n",
       "  <thead>\n",
       "    <tr style=\"text-align: right;\">\n",
       "      <th></th>\n",
       "      <th>id_produit</th>\n",
       "      <th>prix</th>\n",
       "      <th>SKU</th>\n",
       "      <th>total_ventes</th>\n",
       "      <th>nom_produit</th>\n",
       "    </tr>\n",
       "  </thead>\n",
       "  <tbody>\n",
       "    <tr>\n",
       "      <th>0</th>\n",
       "      <td>3847</td>\n",
       "      <td>24.2</td>\n",
       "      <td>15298</td>\n",
       "      <td>6.0</td>\n",
       "      <td>Pierre Jean Villa Saint-Joseph Préface 2018</td>\n",
       "    </tr>\n",
       "    <tr>\n",
       "      <th>1</th>\n",
       "      <td>3849</td>\n",
       "      <td>34.3</td>\n",
       "      <td>15296</td>\n",
       "      <td>0.0</td>\n",
       "      <td>Pierre Jean Villa Saint-Joseph Rouge Tildé 2017</td>\n",
       "    </tr>\n",
       "    <tr>\n",
       "      <th>2</th>\n",
       "      <td>3850</td>\n",
       "      <td>20.8</td>\n",
       "      <td>15300</td>\n",
       "      <td>0.0</td>\n",
       "      <td>Pierre Jean Villa Crozes-Hermitage Accroche Co...</td>\n",
       "    </tr>\n",
       "    <tr>\n",
       "      <th>3</th>\n",
       "      <td>4032</td>\n",
       "      <td>14.1</td>\n",
       "      <td>19814</td>\n",
       "      <td>3.0</td>\n",
       "      <td>Pierre Jean Villa IGP Collines Rhodaniennes Ga...</td>\n",
       "    </tr>\n",
       "    <tr>\n",
       "      <th>4</th>\n",
       "      <td>4039</td>\n",
       "      <td>46.0</td>\n",
       "      <td>19815</td>\n",
       "      <td>0.0</td>\n",
       "      <td>Pierre Jean Villa Côte Rôtie Carmina 2017</td>\n",
       "    </tr>\n",
       "    <tr>\n",
       "      <th>...</th>\n",
       "      <td>...</td>\n",
       "      <td>...</td>\n",
       "      <td>...</td>\n",
       "      <td>...</td>\n",
       "      <td>...</td>\n",
       "    </tr>\n",
       "    <tr>\n",
       "      <th>709</th>\n",
       "      <td>6930</td>\n",
       "      <td>8.4</td>\n",
       "      <td>16135</td>\n",
       "      <td>5.0</td>\n",
       "      <td>Mouthes Le Bihan Côtes de Duras L'Aimé Chai 2015</td>\n",
       "    </tr>\n",
       "    <tr>\n",
       "      <th>710</th>\n",
       "      <td>7023</td>\n",
       "      <td>27.5</td>\n",
       "      <td>15891</td>\n",
       "      <td>0.0</td>\n",
       "      <td>Camin Larredya Jurançon Sec La Virada 2018</td>\n",
       "    </tr>\n",
       "    <tr>\n",
       "      <th>711</th>\n",
       "      <td>7025</td>\n",
       "      <td>69.0</td>\n",
       "      <td>15887</td>\n",
       "      <td>0.0</td>\n",
       "      <td>Domaine Jamet Côte Rôtie Fructus Voluptas 2018</td>\n",
       "    </tr>\n",
       "    <tr>\n",
       "      <th>712</th>\n",
       "      <td>7247</td>\n",
       "      <td>54.8</td>\n",
       "      <td>13127-1</td>\n",
       "      <td>0.0</td>\n",
       "      <td>Clos du Mont-Olivet Châteauneuf-du-Pape 2007</td>\n",
       "    </tr>\n",
       "    <tr>\n",
       "      <th>713</th>\n",
       "      <td>7338</td>\n",
       "      <td>16.3</td>\n",
       "      <td>16230</td>\n",
       "      <td>0.0</td>\n",
       "      <td>Domaine Saint-Nicolas Vin de France Blanc Les ...</td>\n",
       "    </tr>\n",
       "  </tbody>\n",
       "</table>\n",
       "<p>714 rows × 5 columns</p>\n",
       "</div>"
      ],
      "text/plain": [
       "     id_produit  prix      SKU  total_ventes  \\\n",
       "0          3847  24.2    15298           6.0   \n",
       "1          3849  34.3    15296           0.0   \n",
       "2          3850  20.8    15300           0.0   \n",
       "3          4032  14.1    19814           3.0   \n",
       "4          4039  46.0    19815           0.0   \n",
       "..          ...   ...      ...           ...   \n",
       "709        6930   8.4    16135           5.0   \n",
       "710        7023  27.5    15891           0.0   \n",
       "711        7025  69.0    15887           0.0   \n",
       "712        7247  54.8  13127-1           0.0   \n",
       "713        7338  16.3    16230           0.0   \n",
       "\n",
       "                                           nom_produit  \n",
       "0          Pierre Jean Villa Saint-Joseph Préface 2018  \n",
       "1      Pierre Jean Villa Saint-Joseph Rouge Tildé 2017  \n",
       "2    Pierre Jean Villa Crozes-Hermitage Accroche Co...  \n",
       "3    Pierre Jean Villa IGP Collines Rhodaniennes Ga...  \n",
       "4            Pierre Jean Villa Côte Rôtie Carmina 2017  \n",
       "..                                                 ...  \n",
       "709   Mouthes Le Bihan Côtes de Duras L'Aimé Chai 2015  \n",
       "710         Camin Larredya Jurançon Sec La Virada 2018  \n",
       "711     Domaine Jamet Côte Rôtie Fructus Voluptas 2018  \n",
       "712       Clos du Mont-Olivet Châteauneuf-du-Pape 2007  \n",
       "713  Domaine Saint-Nicolas Vin de France Blanc Les ...  \n",
       "\n",
       "[714 rows x 5 columns]"
      ]
     },
     "execution_count": 72,
     "metadata": {},
     "output_type": "execute_result"
    }
   ],
   "source": [
    "# Affichage\n",
    "\n",
    "df2"
   ]
  },
  {
   "cell_type": "code",
   "execution_count": 73,
   "id": "8b6b6090",
   "metadata": {},
   "outputs": [
    {
     "name": "stdout",
     "output_type": "stream",
     "text": [
      "<class 'pandas.core.frame.DataFrame'>\n",
      "Int64Index: 714 entries, 0 to 713\n",
      "Data columns (total 5 columns):\n",
      " #   Column        Non-Null Count  Dtype  \n",
      "---  ------        --------------  -----  \n",
      " 0   id_produit    714 non-null    int64  \n",
      " 1   prix          714 non-null    float64\n",
      " 2   SKU           714 non-null    object \n",
      " 3   total_ventes  714 non-null    float64\n",
      " 4   nom_produit   714 non-null    object \n",
      "dtypes: float64(2), int64(1), object(2)\n",
      "memory usage: 33.5+ KB\n"
     ]
    }
   ],
   "source": [
    "# Affichage des infos du dataset\n",
    "\n",
    "df2.info()"
   ]
  },
  {
   "cell_type": "code",
   "execution_count": 74,
   "id": "35349ea7",
   "metadata": {
    "scrolled": true
   },
   "outputs": [
    {
     "data": {
      "text/plain": [
       "714"
      ]
     },
     "execution_count": 74,
     "metadata": {},
     "output_type": "execute_result"
    }
   ],
   "source": [
    "# Comptage des valeurs uniques\n",
    "\n",
    "df2['id_produit'].unique().shape[0]"
   ]
  },
  {
   "cell_type": "code",
   "execution_count": 75,
   "id": "8fde59ae",
   "metadata": {
    "scrolled": false
   },
   "outputs": [
    {
     "data": {
      "text/plain": [
       "714"
      ]
     },
     "execution_count": 75,
     "metadata": {},
     "output_type": "execute_result"
    }
   ],
   "source": [
    "# Comptage des valeurs uniques\n",
    "\n",
    "df2['SKU'].unique().shape[0]"
   ]
  },
  {
   "cell_type": "code",
   "execution_count": 76,
   "id": "44f328b5",
   "metadata": {
    "scrolled": false
   },
   "outputs": [
    {
     "data": {
      "text/plain": [
       "id_produit      0\n",
       "prix            0\n",
       "SKU             0\n",
       "total_ventes    0\n",
       "nom_produit     0\n",
       "dtype: int64"
      ]
     },
     "execution_count": 76,
     "metadata": {},
     "output_type": "execute_result"
    }
   ],
   "source": [
    "# Vérification des valeurs nulles\n",
    "\n",
    "df2.isna().sum()"
   ]
  },
  {
   "cell_type": "markdown",
   "id": "a76bcf8e",
   "metadata": {},
   "source": [
    "<div style=\"background-color: RGB(173,40,59);\" >\n",
    "<h2 style=\"margin: auto; padding: 20px; color:#fff; \">Etape 4 - Calcul des chiffres d'affaires</h2>"
   ]
  },
  {
   "cell_type": "code",
   "execution_count": 77,
   "id": "f6a2ccf1",
   "metadata": {},
   "outputs": [
    {
     "data": {
      "text/html": [
       "<div>\n",
       "<style scoped>\n",
       "    .dataframe tbody tr th:only-of-type {\n",
       "        vertical-align: middle;\n",
       "    }\n",
       "\n",
       "    .dataframe tbody tr th {\n",
       "        vertical-align: top;\n",
       "    }\n",
       "\n",
       "    .dataframe thead th {\n",
       "        text-align: right;\n",
       "    }\n",
       "</style>\n",
       "<table border=\"1\" class=\"dataframe\">\n",
       "  <thead>\n",
       "    <tr style=\"text-align: right;\">\n",
       "      <th></th>\n",
       "      <th>id_produit</th>\n",
       "      <th>prix</th>\n",
       "      <th>SKU</th>\n",
       "      <th>total_ventes</th>\n",
       "      <th>nom_produit</th>\n",
       "      <th>CA_total_produit</th>\n",
       "    </tr>\n",
       "  </thead>\n",
       "  <tbody>\n",
       "    <tr>\n",
       "      <th>0</th>\n",
       "      <td>3847</td>\n",
       "      <td>24.2</td>\n",
       "      <td>15298</td>\n",
       "      <td>6.0</td>\n",
       "      <td>Pierre Jean Villa Saint-Joseph Préface 2018</td>\n",
       "      <td>145.2</td>\n",
       "    </tr>\n",
       "    <tr>\n",
       "      <th>1</th>\n",
       "      <td>3849</td>\n",
       "      <td>34.3</td>\n",
       "      <td>15296</td>\n",
       "      <td>0.0</td>\n",
       "      <td>Pierre Jean Villa Saint-Joseph Rouge Tildé 2017</td>\n",
       "      <td>0.0</td>\n",
       "    </tr>\n",
       "    <tr>\n",
       "      <th>2</th>\n",
       "      <td>3850</td>\n",
       "      <td>20.8</td>\n",
       "      <td>15300</td>\n",
       "      <td>0.0</td>\n",
       "      <td>Pierre Jean Villa Crozes-Hermitage Accroche Co...</td>\n",
       "      <td>0.0</td>\n",
       "    </tr>\n",
       "    <tr>\n",
       "      <th>3</th>\n",
       "      <td>4032</td>\n",
       "      <td>14.1</td>\n",
       "      <td>19814</td>\n",
       "      <td>3.0</td>\n",
       "      <td>Pierre Jean Villa IGP Collines Rhodaniennes Ga...</td>\n",
       "      <td>42.3</td>\n",
       "    </tr>\n",
       "    <tr>\n",
       "      <th>4</th>\n",
       "      <td>4039</td>\n",
       "      <td>46.0</td>\n",
       "      <td>19815</td>\n",
       "      <td>0.0</td>\n",
       "      <td>Pierre Jean Villa Côte Rôtie Carmina 2017</td>\n",
       "      <td>0.0</td>\n",
       "    </tr>\n",
       "  </tbody>\n",
       "</table>\n",
       "</div>"
      ],
      "text/plain": [
       "   id_produit  prix    SKU  total_ventes  \\\n",
       "0        3847  24.2  15298           6.0   \n",
       "1        3849  34.3  15296           0.0   \n",
       "2        3850  20.8  15300           0.0   \n",
       "3        4032  14.1  19814           3.0   \n",
       "4        4039  46.0  19815           0.0   \n",
       "\n",
       "                                         nom_produit  CA_total_produit  \n",
       "0        Pierre Jean Villa Saint-Joseph Préface 2018             145.2  \n",
       "1    Pierre Jean Villa Saint-Joseph Rouge Tildé 2017               0.0  \n",
       "2  Pierre Jean Villa Crozes-Hermitage Accroche Co...               0.0  \n",
       "3  Pierre Jean Villa IGP Collines Rhodaniennes Ga...              42.3  \n",
       "4          Pierre Jean Villa Côte Rôtie Carmina 2017               0.0  "
      ]
     },
     "execution_count": 77,
     "metadata": {},
     "output_type": "execute_result"
    }
   ],
   "source": [
    "# Calcul du CA par produit\n",
    "\n",
    "df2['CA_total_produit'] = df2['total_ventes']*df2['prix']\n",
    "df2.head()"
   ]
  },
  {
   "cell_type": "code",
   "execution_count": 78,
   "id": "488a45cd",
   "metadata": {},
   "outputs": [
    {
     "name": "stdout",
     "output_type": "stream",
     "text": [
      "Le chiffre d'affaires total réalisé en ligne est de 70,568.6 € \n"
     ]
    }
   ],
   "source": [
    "# Calcul du CA en ligne\n",
    "\n",
    "CA_total_en_ligne = sum(df2['CA_total_produit'])\n",
    "print(\"Le chiffre d'affaires total réalisé en ligne est de {:,} € \".format(CA_total_en_ligne))"
   ]
  },
  {
   "cell_type": "code",
   "execution_count": 79,
   "id": "3c1dbd96",
   "metadata": {},
   "outputs": [
    {
     "name": "stdout",
     "output_type": "stream",
     "text": [
      "2865.0\n"
     ]
    }
   ],
   "source": [
    "# Nombre de ventes\n",
    "\n",
    "total_ventes_web = sum(df2['total_ventes'])\n",
    "print(total_ventes_web)"
   ]
  },
  {
   "cell_type": "code",
   "execution_count": 80,
   "id": "6fd3f7a8",
   "metadata": {
    "scrolled": true
   },
   "outputs": [
    {
     "name": "stdout",
     "output_type": "stream",
     "text": [
      "     id_produit  prix    SKU  total_ventes  \\\n",
      "0          3847  24.2  15298           6.0   \n",
      "3          4032  14.1  19814           3.0   \n",
      "7          4042  31.2  16042           7.0   \n",
      "8          4043  60.0  14980           3.0   \n",
      "9          4045  42.6  16041          14.0   \n",
      "..          ...   ...    ...           ...   \n",
      "698        6665  27.7  16068           1.0   \n",
      "700        6738  15.4   8193           3.0   \n",
      "707        6926  49.9  15845           1.0   \n",
      "708        6928  19.0  15741           2.0   \n",
      "709        6930   8.4  16135           5.0   \n",
      "\n",
      "                                           nom_produit  CA_total_produit  \n",
      "0          Pierre Jean Villa Saint-Joseph Préface 2018             145.2  \n",
      "3    Pierre Jean Villa IGP Collines Rhodaniennes Ga...              42.3  \n",
      "7                          Pierre Gaillard Cornas 2017             218.4  \n",
      "8     Pierre Gaillard Côte Rôtie Esprit de Blonde 2017             180.0  \n",
      "9                      Pierre Gaillard Côte Rôtie 2018             596.4  \n",
      "..                                                 ...               ...  \n",
      "698           Domaine Hauvette IGP Alpilles Jaspe 2017              27.7  \n",
      "700   Emile Boeckel Crémant Chardonnay Extra Brut 2016              46.2  \n",
      "707    Château Jean Faure Saint-Emilion Grand Cru 2016              49.9  \n",
      "708          Le Cèdre de Jean Faure Saint-Emilion 2016              38.0  \n",
      "709   Mouthes Le Bihan Côtes de Duras L'Aimé Chai 2015              42.0  \n",
      "\n",
      "[385 rows x 6 columns]\n"
     ]
    }
   ],
   "source": [
    "# Création d'un dataframe pour exportation sur excel\n",
    "\n",
    "Ventes_en_ligne = df2[df2['total_ventes']>0]\n",
    "\n",
    "print(Ventes_en_ligne)"
   ]
  },
  {
   "cell_type": "code",
   "execution_count": 81,
   "id": "ede4b6a0",
   "metadata": {},
   "outputs": [],
   "source": [
    "# Exportation sur Excel \n",
    "\n",
    "file_name = 'Ventes_en_ligne.xlsx' \n",
    "Ventes_en_ligne.to_excel(file_name)\n"
   ]
  },
  {
   "cell_type": "code",
   "execution_count": 82,
   "id": "d73018f0",
   "metadata": {
    "scrolled": true
   },
   "outputs": [
    {
     "data": {
      "text/html": [
       "<div>\n",
       "<style scoped>\n",
       "    .dataframe tbody tr th:only-of-type {\n",
       "        vertical-align: middle;\n",
       "    }\n",
       "\n",
       "    .dataframe tbody tr th {\n",
       "        vertical-align: top;\n",
       "    }\n",
       "\n",
       "    .dataframe thead th {\n",
       "        text-align: right;\n",
       "    }\n",
       "</style>\n",
       "<table border=\"1\" class=\"dataframe\">\n",
       "  <thead>\n",
       "    <tr style=\"text-align: right;\">\n",
       "      <th></th>\n",
       "      <th>id_produit</th>\n",
       "      <th>prix</th>\n",
       "      <th>SKU</th>\n",
       "      <th>total_ventes</th>\n",
       "      <th>nom_produit</th>\n",
       "      <th>CA_total_produit</th>\n",
       "    </tr>\n",
       "  </thead>\n",
       "  <tbody>\n",
       "    <tr>\n",
       "      <th>194</th>\n",
       "      <td>4334</td>\n",
       "      <td>49.0</td>\n",
       "      <td>7818</td>\n",
       "      <td>96.0</td>\n",
       "      <td>Champagne Gosset Grand Blanc de Blancs</td>\n",
       "      <td>4704.0</td>\n",
       "    </tr>\n",
       "    <tr>\n",
       "      <th>71</th>\n",
       "      <td>4144</td>\n",
       "      <td>49.0</td>\n",
       "      <td>1662</td>\n",
       "      <td>87.0</td>\n",
       "      <td>Champagne Gosset Grand Rosé</td>\n",
       "      <td>4263.0</td>\n",
       "    </tr>\n",
       "    <tr>\n",
       "      <th>218</th>\n",
       "      <td>4402</td>\n",
       "      <td>176.0</td>\n",
       "      <td>3510</td>\n",
       "      <td>13.0</td>\n",
       "      <td>Cognac Frapin VIP XO</td>\n",
       "      <td>2288.0</td>\n",
       "    </tr>\n",
       "    <tr>\n",
       "      <th>70</th>\n",
       "      <td>4142</td>\n",
       "      <td>53.0</td>\n",
       "      <td>11641</td>\n",
       "      <td>30.0</td>\n",
       "      <td>Champagne Gosset Grand Millésime 2006</td>\n",
       "      <td>1590.0</td>\n",
       "    </tr>\n",
       "    <tr>\n",
       "      <th>69</th>\n",
       "      <td>4141</td>\n",
       "      <td>39.0</td>\n",
       "      <td>304</td>\n",
       "      <td>40.0</td>\n",
       "      <td>Champagne Gosset Grande Réserve</td>\n",
       "      <td>1560.0</td>\n",
       "    </tr>\n",
       "    <tr>\n",
       "      <th>201</th>\n",
       "      <td>4355</td>\n",
       "      <td>126.5</td>\n",
       "      <td>12589</td>\n",
       "      <td>11.0</td>\n",
       "      <td>Champagne Egly-Ouriet Grand Cru Blanc de Noirs</td>\n",
       "      <td>1391.5</td>\n",
       "    </tr>\n",
       "    <tr>\n",
       "      <th>199</th>\n",
       "      <td>4352</td>\n",
       "      <td>225.0</td>\n",
       "      <td>15940</td>\n",
       "      <td>5.0</td>\n",
       "      <td>Champagne Egly-Ouriet Grand Cru Millésimé 2008</td>\n",
       "      <td>1125.0</td>\n",
       "    </tr>\n",
       "    <tr>\n",
       "      <th>79</th>\n",
       "      <td>4153</td>\n",
       "      <td>29.0</td>\n",
       "      <td>16237</td>\n",
       "      <td>36.0</td>\n",
       "      <td>Elian Daros Côtes du Marmandais Clos Baquey 2015</td>\n",
       "      <td>1044.0</td>\n",
       "    </tr>\n",
       "    <tr>\n",
       "      <th>651</th>\n",
       "      <td>6206</td>\n",
       "      <td>25.2</td>\n",
       "      <td>16580</td>\n",
       "      <td>41.0</td>\n",
       "      <td>Domaine Giudicelli Patrimonio Blanc 2019</td>\n",
       "      <td>1033.2</td>\n",
       "    </tr>\n",
       "    <tr>\n",
       "      <th>30</th>\n",
       "      <td>4068</td>\n",
       "      <td>16.6</td>\n",
       "      <td>16416</td>\n",
       "      <td>62.0</td>\n",
       "      <td>Gilles Robin Crozes-Hermitage Rouge Papillon 2019</td>\n",
       "      <td>1029.2</td>\n",
       "    </tr>\n",
       "  </tbody>\n",
       "</table>\n",
       "</div>"
      ],
      "text/plain": [
       "     id_produit   prix    SKU  total_ventes  \\\n",
       "194        4334   49.0   7818          96.0   \n",
       "71         4144   49.0   1662          87.0   \n",
       "218        4402  176.0   3510          13.0   \n",
       "70         4142   53.0  11641          30.0   \n",
       "69         4141   39.0    304          40.0   \n",
       "201        4355  126.5  12589          11.0   \n",
       "199        4352  225.0  15940           5.0   \n",
       "79         4153   29.0  16237          36.0   \n",
       "651        6206   25.2  16580          41.0   \n",
       "30         4068   16.6  16416          62.0   \n",
       "\n",
       "                                           nom_produit  CA_total_produit  \n",
       "194             Champagne Gosset Grand Blanc de Blancs            4704.0  \n",
       "71                         Champagne Gosset Grand Rosé            4263.0  \n",
       "218                               Cognac Frapin VIP XO            2288.0  \n",
       "70               Champagne Gosset Grand Millésime 2006            1590.0  \n",
       "69                     Champagne Gosset Grande Réserve            1560.0  \n",
       "201     Champagne Egly-Ouriet Grand Cru Blanc de Noirs            1391.5  \n",
       "199     Champagne Egly-Ouriet Grand Cru Millésimé 2008            1125.0  \n",
       "79    Elian Daros Côtes du Marmandais Clos Baquey 2015            1044.0  \n",
       "651           Domaine Giudicelli Patrimonio Blanc 2019            1033.2  \n",
       "30   Gilles Robin Crozes-Hermitage Rouge Papillon 2019            1029.2  "
      ]
     },
     "execution_count": 82,
     "metadata": {},
     "output_type": "execute_result"
    }
   ],
   "source": [
    "# Affichage du top 10\n",
    "\n",
    "df2.sort_values('CA_total_produit',ascending=False).head(10)"
   ]
  },
  {
   "cell_type": "code",
   "execution_count": 83,
   "id": "1618e747",
   "metadata": {
    "scrolled": false
   },
   "outputs": [
    {
     "data": {
      "text/html": [
       "<div>\n",
       "<style scoped>\n",
       "    .dataframe tbody tr th:only-of-type {\n",
       "        vertical-align: middle;\n",
       "    }\n",
       "\n",
       "    .dataframe tbody tr th {\n",
       "        vertical-align: top;\n",
       "    }\n",
       "\n",
       "    .dataframe thead th {\n",
       "        text-align: right;\n",
       "    }\n",
       "</style>\n",
       "<table border=\"1\" class=\"dataframe\">\n",
       "  <thead>\n",
       "    <tr style=\"text-align: right;\">\n",
       "      <th></th>\n",
       "      <th>id_produit</th>\n",
       "      <th>prix</th>\n",
       "      <th>SKU</th>\n",
       "      <th>total_ventes</th>\n",
       "      <th>nom_produit</th>\n",
       "      <th>CA_total_produit</th>\n",
       "    </tr>\n",
       "  </thead>\n",
       "  <tbody>\n",
       "    <tr>\n",
       "      <th>194</th>\n",
       "      <td>4334</td>\n",
       "      <td>49.0</td>\n",
       "      <td>7818</td>\n",
       "      <td>96.0</td>\n",
       "      <td>Champagne Gosset Grand Blanc de Blancs</td>\n",
       "      <td>4704.0</td>\n",
       "    </tr>\n",
       "    <tr>\n",
       "      <th>71</th>\n",
       "      <td>4144</td>\n",
       "      <td>49.0</td>\n",
       "      <td>1662</td>\n",
       "      <td>87.0</td>\n",
       "      <td>Champagne Gosset Grand Rosé</td>\n",
       "      <td>4263.0</td>\n",
       "    </tr>\n",
       "    <tr>\n",
       "      <th>30</th>\n",
       "      <td>4068</td>\n",
       "      <td>16.6</td>\n",
       "      <td>16416</td>\n",
       "      <td>62.0</td>\n",
       "      <td>Gilles Robin Crozes-Hermitage Rouge Papillon 2019</td>\n",
       "      <td>1029.2</td>\n",
       "    </tr>\n",
       "    <tr>\n",
       "      <th>119</th>\n",
       "      <td>4200</td>\n",
       "      <td>5.8</td>\n",
       "      <td>16295</td>\n",
       "      <td>46.0</td>\n",
       "      <td>Moulin de Gassac IGP Pays d'Hérault Guilhem Ro...</td>\n",
       "      <td>266.8</td>\n",
       "    </tr>\n",
       "    <tr>\n",
       "      <th>97</th>\n",
       "      <td>4172</td>\n",
       "      <td>5.7</td>\n",
       "      <td>16210</td>\n",
       "      <td>43.0</td>\n",
       "      <td>Maurel Pays d'Oc Chardonnay 2019</td>\n",
       "      <td>245.1</td>\n",
       "    </tr>\n",
       "    <tr>\n",
       "      <th>109</th>\n",
       "      <td>4187</td>\n",
       "      <td>13.3</td>\n",
       "      <td>16189</td>\n",
       "      <td>42.0</td>\n",
       "      <td>Le Pas de l'Escalette Languedoc Les Petits Pas...</td>\n",
       "      <td>558.6</td>\n",
       "    </tr>\n",
       "    <tr>\n",
       "      <th>651</th>\n",
       "      <td>6206</td>\n",
       "      <td>25.2</td>\n",
       "      <td>16580</td>\n",
       "      <td>41.0</td>\n",
       "      <td>Domaine Giudicelli Patrimonio Blanc 2019</td>\n",
       "      <td>1033.2</td>\n",
       "    </tr>\n",
       "    <tr>\n",
       "      <th>69</th>\n",
       "      <td>4141</td>\n",
       "      <td>39.0</td>\n",
       "      <td>304</td>\n",
       "      <td>40.0</td>\n",
       "      <td>Champagne Gosset Grande Réserve</td>\n",
       "      <td>1560.0</td>\n",
       "    </tr>\n",
       "    <tr>\n",
       "      <th>625</th>\n",
       "      <td>6047</td>\n",
       "      <td>10.9</td>\n",
       "      <td>16264</td>\n",
       "      <td>38.0</td>\n",
       "      <td>Château de La Liquière Faugères L'Ampoule 2019</td>\n",
       "      <td>414.2</td>\n",
       "    </tr>\n",
       "    <tr>\n",
       "      <th>324</th>\n",
       "      <td>4729</td>\n",
       "      <td>8.6</td>\n",
       "      <td>38</td>\n",
       "      <td>38.0</td>\n",
       "      <td>Emile Boeckel Crémant Brut Blanc de Blancs</td>\n",
       "      <td>326.8</td>\n",
       "    </tr>\n",
       "  </tbody>\n",
       "</table>\n",
       "</div>"
      ],
      "text/plain": [
       "     id_produit  prix    SKU  total_ventes  \\\n",
       "194        4334  49.0   7818          96.0   \n",
       "71         4144  49.0   1662          87.0   \n",
       "30         4068  16.6  16416          62.0   \n",
       "119        4200   5.8  16295          46.0   \n",
       "97         4172   5.7  16210          43.0   \n",
       "109        4187  13.3  16189          42.0   \n",
       "651        6206  25.2  16580          41.0   \n",
       "69         4141  39.0    304          40.0   \n",
       "625        6047  10.9  16264          38.0   \n",
       "324        4729   8.6     38          38.0   \n",
       "\n",
       "                                           nom_produit  CA_total_produit  \n",
       "194             Champagne Gosset Grand Blanc de Blancs            4704.0  \n",
       "71                         Champagne Gosset Grand Rosé            4263.0  \n",
       "30   Gilles Robin Crozes-Hermitage Rouge Papillon 2019            1029.2  \n",
       "119  Moulin de Gassac IGP Pays d'Hérault Guilhem Ro...             266.8  \n",
       "97                    Maurel Pays d'Oc Chardonnay 2019             245.1  \n",
       "109  Le Pas de l'Escalette Languedoc Les Petits Pas...             558.6  \n",
       "651           Domaine Giudicelli Patrimonio Blanc 2019            1033.2  \n",
       "69                     Champagne Gosset Grande Réserve            1560.0  \n",
       "625     Château de La Liquière Faugères L'Ampoule 2019             414.2  \n",
       "324         Emile Boeckel Crémant Brut Blanc de Blancs             326.8  "
      ]
     },
     "execution_count": 83,
     "metadata": {},
     "output_type": "execute_result"
    }
   ],
   "source": [
    "# Affichage des 10 + vendus\n",
    "\n",
    "df2.sort_values('total_ventes',ascending=False).head(10)"
   ]
  },
  {
   "cell_type": "markdown",
   "id": "4f9c3e15",
   "metadata": {},
   "source": [
    "<div style=\"background-color: RGB(173,40,59);\" >\n",
    "<h2 style=\"margin: auto; padding: 20px; color:#fff; \">Etape 5 - Analyse de la variable prix</h2>"
   ]
  },
  {
   "cell_type": "markdown",
   "id": "4fab9ce3",
   "metadata": {},
   "source": [
    "<div style=\"border: 1px solid RGB(173,40,59);\" >\n",
    "<h3 style=\"margin: auto; padding: 20px; color: RGB(173,40,59); \">5.1 - Analyse exploratoire</h3>"
   ]
  },
  {
   "cell_type": "code",
   "execution_count": 84,
   "id": "162d6c19",
   "metadata": {
    "scrolled": true
   },
   "outputs": [
    {
     "data": {
      "text/html": [
       "<div>\n",
       "<style scoped>\n",
       "    .dataframe tbody tr th:only-of-type {\n",
       "        vertical-align: middle;\n",
       "    }\n",
       "\n",
       "    .dataframe tbody tr th {\n",
       "        vertical-align: top;\n",
       "    }\n",
       "\n",
       "    .dataframe thead th {\n",
       "        text-align: right;\n",
       "    }\n",
       "</style>\n",
       "<table border=\"1\" class=\"dataframe\">\n",
       "  <thead>\n",
       "    <tr style=\"text-align: right;\">\n",
       "      <th></th>\n",
       "      <th>id_produit</th>\n",
       "      <th>vente_en_ligne</th>\n",
       "      <th>prix</th>\n",
       "      <th>qte_en_stock</th>\n",
       "    </tr>\n",
       "  </thead>\n",
       "  <tbody>\n",
       "    <tr>\n",
       "      <th>count</th>\n",
       "      <td>825.000000</td>\n",
       "      <td>825.000000</td>\n",
       "      <td>825.000000</td>\n",
       "      <td>825.000000</td>\n",
       "    </tr>\n",
       "    <tr>\n",
       "      <th>mean</th>\n",
       "      <td>5162.597576</td>\n",
       "      <td>0.869091</td>\n",
       "      <td>32.384000</td>\n",
       "      <td>26.583030</td>\n",
       "    </tr>\n",
       "    <tr>\n",
       "      <th>std</th>\n",
       "      <td>902.644635</td>\n",
       "      <td>0.337506</td>\n",
       "      <td>26.832271</td>\n",
       "      <td>45.875948</td>\n",
       "    </tr>\n",
       "    <tr>\n",
       "      <th>min</th>\n",
       "      <td>3847.000000</td>\n",
       "      <td>0.000000</td>\n",
       "      <td>-8.000000</td>\n",
       "      <td>-1.000000</td>\n",
       "    </tr>\n",
       "    <tr>\n",
       "      <th>25%</th>\n",
       "      <td>4348.000000</td>\n",
       "      <td>1.000000</td>\n",
       "      <td>14.600000</td>\n",
       "      <td>1.000000</td>\n",
       "    </tr>\n",
       "    <tr>\n",
       "      <th>50%</th>\n",
       "      <td>4907.000000</td>\n",
       "      <td>1.000000</td>\n",
       "      <td>24.400000</td>\n",
       "      <td>11.000000</td>\n",
       "    </tr>\n",
       "    <tr>\n",
       "      <th>75%</th>\n",
       "      <td>5805.000000</td>\n",
       "      <td>1.000000</td>\n",
       "      <td>42.000000</td>\n",
       "      <td>34.000000</td>\n",
       "    </tr>\n",
       "    <tr>\n",
       "      <th>max</th>\n",
       "      <td>7338.000000</td>\n",
       "      <td>1.000000</td>\n",
       "      <td>225.000000</td>\n",
       "      <td>578.000000</td>\n",
       "    </tr>\n",
       "  </tbody>\n",
       "</table>\n",
       "</div>"
      ],
      "text/plain": [
       "        id_produit  vente_en_ligne        prix  qte_en_stock\n",
       "count   825.000000      825.000000  825.000000    825.000000\n",
       "mean   5162.597576        0.869091   32.384000     26.583030\n",
       "std     902.644635        0.337506   26.832271     45.875948\n",
       "min    3847.000000        0.000000   -8.000000     -1.000000\n",
       "25%    4348.000000        1.000000   14.600000      1.000000\n",
       "50%    4907.000000        1.000000   24.400000     11.000000\n",
       "75%    5805.000000        1.000000   42.000000     34.000000\n",
       "max    7338.000000        1.000000  225.000000    578.000000"
      ]
     },
     "execution_count": 84,
     "metadata": {},
     "output_type": "execute_result"
    }
   ],
   "source": [
    "# Recherche de valeurs aberrantes\n",
    "\n",
    "fichierERP.describe()"
   ]
  },
  {
   "cell_type": "code",
   "execution_count": 85,
   "id": "010ba1c1",
   "metadata": {
    "scrolled": true
   },
   "outputs": [
    {
     "data": {
      "text/html": [
       "<div>\n",
       "<style scoped>\n",
       "    .dataframe tbody tr th:only-of-type {\n",
       "        vertical-align: middle;\n",
       "    }\n",
       "\n",
       "    .dataframe tbody tr th {\n",
       "        vertical-align: top;\n",
       "    }\n",
       "\n",
       "    .dataframe thead th {\n",
       "        text-align: right;\n",
       "    }\n",
       "</style>\n",
       "<table border=\"1\" class=\"dataframe\">\n",
       "  <thead>\n",
       "    <tr style=\"text-align: right;\">\n",
       "      <th></th>\n",
       "      <th>id_produit</th>\n",
       "      <th>prix</th>\n",
       "    </tr>\n",
       "  </thead>\n",
       "  <tbody>\n",
       "    <tr>\n",
       "      <th>469</th>\n",
       "      <td>5017</td>\n",
       "      <td>-8.0</td>\n",
       "    </tr>\n",
       "    <tr>\n",
       "      <th>739</th>\n",
       "      <td>6594</td>\n",
       "      <td>-1.0</td>\n",
       "    </tr>\n",
       "  </tbody>\n",
       "</table>\n",
       "</div>"
      ],
      "text/plain": [
       "     id_produit  prix\n",
       "469        5017  -8.0\n",
       "739        6594  -1.0"
      ]
     },
     "execution_count": 85,
     "metadata": {},
     "output_type": "execute_result"
    }
   ],
   "source": [
    "# Création d'un dataframe pour les prix <= 0 \n",
    "\n",
    "dfnegatif = fichierERP.loc[fichierERP['prix'] <= 0 ,('id_produit', 'prix')]\n",
    "dfnegatif.head()"
   ]
  },
  {
   "cell_type": "markdown",
   "id": "1d1f4cf6",
   "metadata": {},
   "source": [
    "<div style=\"border: 1px solid RGB(173,40,59);\" >\n",
    "<h3 style=\"margin: auto; padding: 20px; color: RGB(173,40,59); \">5.2 - Analyse de la distribution et mesure de la tendance centrale</h3>"
   ]
  },
  {
   "cell_type": "code",
   "execution_count": 86,
   "id": "14462912",
   "metadata": {},
   "outputs": [],
   "source": [
    "# Récupération des prix sans les valeurs négatives\n",
    "\n",
    "df3 = fichierERP.loc[fichierERP['prix'] > 0 ,('id_produit', 'prix')]"
   ]
  },
  {
   "cell_type": "code",
   "execution_count": 87,
   "id": "063937be",
   "metadata": {
    "scrolled": true
   },
   "outputs": [
    {
     "data": {
      "text/plain": [
       "45.0    15\n",
       "31.0    13\n",
       "19.0     9\n",
       "13.5     8\n",
       "40.0     8\n",
       "Name: prix, dtype: int64"
      ]
     },
     "execution_count": 87,
     "metadata": {},
     "output_type": "execute_result"
    }
   ],
   "source": [
    "# Comptage des valeurs\n",
    "\n",
    "prix = df3['prix']\n",
    "effectifs = prix.value_counts()\n",
    "modalites = effectifs.index\n",
    "effectifs.head()"
   ]
  },
  {
   "cell_type": "code",
   "execution_count": 88,
   "id": "5625bcfa",
   "metadata": {},
   "outputs": [
    {
     "data": {
      "text/html": [
       "<div>\n",
       "<style scoped>\n",
       "    .dataframe tbody tr th:only-of-type {\n",
       "        vertical-align: middle;\n",
       "    }\n",
       "\n",
       "    .dataframe tbody tr th {\n",
       "        vertical-align: top;\n",
       "    }\n",
       "\n",
       "    .dataframe thead th {\n",
       "        text-align: right;\n",
       "    }\n",
       "</style>\n",
       "<table border=\"1\" class=\"dataframe\">\n",
       "  <thead>\n",
       "    <tr style=\"text-align: right;\">\n",
       "      <th></th>\n",
       "      <th>prix</th>\n",
       "    </tr>\n",
       "  </thead>\n",
       "  <tbody>\n",
       "    <tr>\n",
       "      <th>0</th>\n",
       "      <td>45.0</td>\n",
       "    </tr>\n",
       "    <tr>\n",
       "      <th>1</th>\n",
       "      <td>31.0</td>\n",
       "    </tr>\n",
       "    <tr>\n",
       "      <th>2</th>\n",
       "      <td>19.0</td>\n",
       "    </tr>\n",
       "    <tr>\n",
       "      <th>3</th>\n",
       "      <td>13.5</td>\n",
       "    </tr>\n",
       "    <tr>\n",
       "      <th>4</th>\n",
       "      <td>40.0</td>\n",
       "    </tr>\n",
       "  </tbody>\n",
       "</table>\n",
       "</div>"
      ],
      "text/plain": [
       "   prix\n",
       "0  45.0\n",
       "1  31.0\n",
       "2  19.0\n",
       "3  13.5\n",
       "4  40.0"
      ]
     },
     "execution_count": 88,
     "metadata": {},
     "output_type": "execute_result"
    }
   ],
   "source": [
    "# Création d'un dataframe \n",
    "\n",
    "df4 = pd.DataFrame(modalites, columns = ['prix'])\n",
    "df4.head()"
   ]
  },
  {
   "cell_type": "code",
   "execution_count": 89,
   "id": "870df50c",
   "metadata": {
    "scrolled": true
   },
   "outputs": [
    {
     "data": {
      "text/plain": [
       "<bound method DataFrame.info of      prix\n",
       "0    45.0\n",
       "1    31.0\n",
       "2    19.0\n",
       "3    13.5\n",
       "4    40.0\n",
       "..    ...\n",
       "375  17.3\n",
       "376  37.2\n",
       "377   9.4\n",
       "378  27.2\n",
       "379   8.4\n",
       "\n",
       "[380 rows x 1 columns]>"
      ]
     },
     "execution_count": 89,
     "metadata": {},
     "output_type": "execute_result"
    }
   ],
   "source": [
    "# Affichage des infos\n",
    "\n",
    "df4.info"
   ]
  },
  {
   "cell_type": "code",
   "execution_count": 90,
   "id": "91172da0",
   "metadata": {},
   "outputs": [
    {
     "data": {
      "text/html": [
       "<div>\n",
       "<style scoped>\n",
       "    .dataframe tbody tr th:only-of-type {\n",
       "        vertical-align: middle;\n",
       "    }\n",
       "\n",
       "    .dataframe tbody tr th {\n",
       "        vertical-align: top;\n",
       "    }\n",
       "\n",
       "    .dataframe thead th {\n",
       "        text-align: right;\n",
       "    }\n",
       "</style>\n",
       "<table border=\"1\" class=\"dataframe\">\n",
       "  <thead>\n",
       "    <tr style=\"text-align: right;\">\n",
       "      <th></th>\n",
       "      <th>prix</th>\n",
       "      <th>effectifs</th>\n",
       "    </tr>\n",
       "  </thead>\n",
       "  <tbody>\n",
       "    <tr>\n",
       "      <th>0</th>\n",
       "      <td>45.0</td>\n",
       "      <td>15</td>\n",
       "    </tr>\n",
       "    <tr>\n",
       "      <th>1</th>\n",
       "      <td>31.0</td>\n",
       "      <td>13</td>\n",
       "    </tr>\n",
       "    <tr>\n",
       "      <th>2</th>\n",
       "      <td>19.0</td>\n",
       "      <td>9</td>\n",
       "    </tr>\n",
       "    <tr>\n",
       "      <th>3</th>\n",
       "      <td>13.5</td>\n",
       "      <td>8</td>\n",
       "    </tr>\n",
       "    <tr>\n",
       "      <th>4</th>\n",
       "      <td>40.0</td>\n",
       "      <td>8</td>\n",
       "    </tr>\n",
       "  </tbody>\n",
       "</table>\n",
       "</div>"
      ],
      "text/plain": [
       "   prix  effectifs\n",
       "0  45.0         15\n",
       "1  31.0         13\n",
       "2  19.0          9\n",
       "3  13.5          8\n",
       "4  40.0          8"
      ]
     },
     "execution_count": 90,
     "metadata": {},
     "output_type": "execute_result"
    }
   ],
   "source": [
    "# Ajout des effectifs dans le DF\n",
    "\n",
    "df4['effectifs'] = effectifs.values\n",
    "df4.head()"
   ]
  },
  {
   "cell_type": "code",
   "execution_count": 91,
   "id": "5034315c",
   "metadata": {},
   "outputs": [
    {
     "data": {
      "text/html": [
       "<div>\n",
       "<style scoped>\n",
       "    .dataframe tbody tr th:only-of-type {\n",
       "        vertical-align: middle;\n",
       "    }\n",
       "\n",
       "    .dataframe tbody tr th {\n",
       "        vertical-align: top;\n",
       "    }\n",
       "\n",
       "    .dataframe thead th {\n",
       "        text-align: right;\n",
       "    }\n",
       "</style>\n",
       "<table border=\"1\" class=\"dataframe\">\n",
       "  <thead>\n",
       "    <tr style=\"text-align: right;\">\n",
       "      <th></th>\n",
       "      <th>prix</th>\n",
       "      <th>effectifs</th>\n",
       "      <th>frequence</th>\n",
       "    </tr>\n",
       "  </thead>\n",
       "  <tbody>\n",
       "    <tr>\n",
       "      <th>0</th>\n",
       "      <td>45.0</td>\n",
       "      <td>15</td>\n",
       "      <td>0.018226</td>\n",
       "    </tr>\n",
       "    <tr>\n",
       "      <th>1</th>\n",
       "      <td>31.0</td>\n",
       "      <td>13</td>\n",
       "      <td>0.015796</td>\n",
       "    </tr>\n",
       "    <tr>\n",
       "      <th>2</th>\n",
       "      <td>19.0</td>\n",
       "      <td>9</td>\n",
       "      <td>0.010936</td>\n",
       "    </tr>\n",
       "    <tr>\n",
       "      <th>3</th>\n",
       "      <td>13.5</td>\n",
       "      <td>8</td>\n",
       "      <td>0.009721</td>\n",
       "    </tr>\n",
       "    <tr>\n",
       "      <th>4</th>\n",
       "      <td>40.0</td>\n",
       "      <td>8</td>\n",
       "      <td>0.009721</td>\n",
       "    </tr>\n",
       "  </tbody>\n",
       "</table>\n",
       "</div>"
      ],
      "text/plain": [
       "   prix  effectifs  frequence\n",
       "0  45.0         15   0.018226\n",
       "1  31.0         13   0.015796\n",
       "2  19.0          9   0.010936\n",
       "3  13.5          8   0.009721\n",
       "4  40.0          8   0.009721"
      ]
     },
     "execution_count": 91,
     "metadata": {},
     "output_type": "execute_result"
    }
   ],
   "source": [
    "# Calcul et ajout de la fréquence\n",
    "\n",
    "df4['frequence'] = df4['effectifs'] / len(prix)\n",
    "df4.head()"
   ]
  },
  {
   "cell_type": "code",
   "execution_count": 92,
   "id": "fed6b9a8",
   "metadata": {
    "scrolled": true
   },
   "outputs": [
    {
     "data": {
      "text/html": [
       "<div>\n",
       "<style scoped>\n",
       "    .dataframe tbody tr th:only-of-type {\n",
       "        vertical-align: middle;\n",
       "    }\n",
       "\n",
       "    .dataframe tbody tr th {\n",
       "        vertical-align: top;\n",
       "    }\n",
       "\n",
       "    .dataframe thead th {\n",
       "        text-align: right;\n",
       "    }\n",
       "</style>\n",
       "<table border=\"1\" class=\"dataframe\">\n",
       "  <thead>\n",
       "    <tr style=\"text-align: right;\">\n",
       "      <th></th>\n",
       "      <th>prix</th>\n",
       "      <th>effectifs</th>\n",
       "      <th>frequence</th>\n",
       "    </tr>\n",
       "  </thead>\n",
       "  <tbody>\n",
       "    <tr>\n",
       "      <th>0</th>\n",
       "      <td>45.0</td>\n",
       "      <td>15</td>\n",
       "      <td>0.018226</td>\n",
       "    </tr>\n",
       "    <tr>\n",
       "      <th>1</th>\n",
       "      <td>31.0</td>\n",
       "      <td>13</td>\n",
       "      <td>0.015796</td>\n",
       "    </tr>\n",
       "    <tr>\n",
       "      <th>2</th>\n",
       "      <td>19.0</td>\n",
       "      <td>9</td>\n",
       "      <td>0.010936</td>\n",
       "    </tr>\n",
       "    <tr>\n",
       "      <th>3</th>\n",
       "      <td>13.5</td>\n",
       "      <td>8</td>\n",
       "      <td>0.009721</td>\n",
       "    </tr>\n",
       "    <tr>\n",
       "      <th>4</th>\n",
       "      <td>40.0</td>\n",
       "      <td>8</td>\n",
       "      <td>0.009721</td>\n",
       "    </tr>\n",
       "  </tbody>\n",
       "</table>\n",
       "</div>"
      ],
      "text/plain": [
       "   prix  effectifs  frequence\n",
       "0  45.0         15   0.018226\n",
       "1  31.0         13   0.015796\n",
       "2  19.0          9   0.010936\n",
       "3  13.5          8   0.009721\n",
       "4  40.0          8   0.009721"
      ]
     },
     "execution_count": 92,
     "metadata": {},
     "output_type": "execute_result"
    }
   ],
   "source": [
    "# Affichage du mode (prix le plus fréquent)\n",
    "\n",
    "df4.sort_values('effectifs',ascending=False).head()"
   ]
  },
  {
   "cell_type": "code",
   "execution_count": 93,
   "id": "78d5c834",
   "metadata": {
    "scrolled": true
   },
   "outputs": [
    {
     "data": {
      "text/html": [
       "<div>\n",
       "<style scoped>\n",
       "    .dataframe tbody tr th:only-of-type {\n",
       "        vertical-align: middle;\n",
       "    }\n",
       "\n",
       "    .dataframe tbody tr th {\n",
       "        vertical-align: top;\n",
       "    }\n",
       "\n",
       "    .dataframe thead th {\n",
       "        text-align: right;\n",
       "    }\n",
       "</style>\n",
       "<table border=\"1\" class=\"dataframe\">\n",
       "  <thead>\n",
       "    <tr style=\"text-align: right;\">\n",
       "      <th></th>\n",
       "      <th>prix</th>\n",
       "      <th>effectifs</th>\n",
       "      <th>frequence</th>\n",
       "    </tr>\n",
       "  </thead>\n",
       "  <tbody>\n",
       "    <tr>\n",
       "      <th>0</th>\n",
       "      <td>45.0</td>\n",
       "      <td>15</td>\n",
       "      <td>0.018226</td>\n",
       "    </tr>\n",
       "    <tr>\n",
       "      <th>1</th>\n",
       "      <td>31.0</td>\n",
       "      <td>13</td>\n",
       "      <td>0.015796</td>\n",
       "    </tr>\n",
       "    <tr>\n",
       "      <th>2</th>\n",
       "      <td>19.0</td>\n",
       "      <td>9</td>\n",
       "      <td>0.010936</td>\n",
       "    </tr>\n",
       "    <tr>\n",
       "      <th>3</th>\n",
       "      <td>13.5</td>\n",
       "      <td>8</td>\n",
       "      <td>0.009721</td>\n",
       "    </tr>\n",
       "    <tr>\n",
       "      <th>4</th>\n",
       "      <td>40.0</td>\n",
       "      <td>8</td>\n",
       "      <td>0.009721</td>\n",
       "    </tr>\n",
       "    <tr>\n",
       "      <th>...</th>\n",
       "      <td>...</td>\n",
       "      <td>...</td>\n",
       "      <td>...</td>\n",
       "    </tr>\n",
       "    <tr>\n",
       "      <th>375</th>\n",
       "      <td>17.3</td>\n",
       "      <td>1</td>\n",
       "      <td>0.001215</td>\n",
       "    </tr>\n",
       "    <tr>\n",
       "      <th>376</th>\n",
       "      <td>37.2</td>\n",
       "      <td>1</td>\n",
       "      <td>0.001215</td>\n",
       "    </tr>\n",
       "    <tr>\n",
       "      <th>377</th>\n",
       "      <td>9.4</td>\n",
       "      <td>1</td>\n",
       "      <td>0.001215</td>\n",
       "    </tr>\n",
       "    <tr>\n",
       "      <th>378</th>\n",
       "      <td>27.2</td>\n",
       "      <td>1</td>\n",
       "      <td>0.001215</td>\n",
       "    </tr>\n",
       "    <tr>\n",
       "      <th>379</th>\n",
       "      <td>8.4</td>\n",
       "      <td>1</td>\n",
       "      <td>0.001215</td>\n",
       "    </tr>\n",
       "  </tbody>\n",
       "</table>\n",
       "<p>380 rows × 3 columns</p>\n",
       "</div>"
      ],
      "text/plain": [
       "     prix  effectifs  frequence\n",
       "0    45.0         15   0.018226\n",
       "1    31.0         13   0.015796\n",
       "2    19.0          9   0.010936\n",
       "3    13.5          8   0.009721\n",
       "4    40.0          8   0.009721\n",
       "..    ...        ...        ...\n",
       "375  17.3          1   0.001215\n",
       "376  37.2          1   0.001215\n",
       "377   9.4          1   0.001215\n",
       "378  27.2          1   0.001215\n",
       "379   8.4          1   0.001215\n",
       "\n",
       "[380 rows x 3 columns]"
      ]
     },
     "execution_count": 93,
     "metadata": {},
     "output_type": "execute_result"
    }
   ],
   "source": [
    "# Affichage du dataset\n",
    "\n",
    "df4"
   ]
  },
  {
   "cell_type": "code",
   "execution_count": 94,
   "id": "410830a6",
   "metadata": {},
   "outputs": [
    {
     "data": {
      "text/plain": [
       "0    45.0\n",
       "Name: prix, dtype: float64"
      ]
     },
     "execution_count": 94,
     "metadata": {},
     "output_type": "execute_result"
    }
   ],
   "source": [
    "# Vérification et calcul du mode (prix le plus fréquent)\n",
    "\n",
    "df3['prix'].mode()"
   ]
  },
  {
   "cell_type": "code",
   "execution_count": 95,
   "id": "4f642445",
   "metadata": {},
   "outputs": [
    {
     "data": {
      "text/plain": [
       "32.47363304981774"
      ]
     },
     "execution_count": 95,
     "metadata": {},
     "output_type": "execute_result"
    }
   ],
   "source": [
    "# Calcul de la moyenne\n",
    "\n",
    "df3['prix'].mean()"
   ]
  },
  {
   "cell_type": "code",
   "execution_count": 96,
   "id": "e7dcfebb",
   "metadata": {
    "scrolled": true
   },
   "outputs": [
    {
     "data": {
      "text/html": [
       "<div>\n",
       "<style scoped>\n",
       "    .dataframe tbody tr th:only-of-type {\n",
       "        vertical-align: middle;\n",
       "    }\n",
       "\n",
       "    .dataframe tbody tr th {\n",
       "        vertical-align: top;\n",
       "    }\n",
       "\n",
       "    .dataframe thead th {\n",
       "        text-align: right;\n",
       "    }\n",
       "</style>\n",
       "<table border=\"1\" class=\"dataframe\">\n",
       "  <thead>\n",
       "    <tr style=\"text-align: right;\">\n",
       "      <th></th>\n",
       "      <th>id_produit</th>\n",
       "      <th>prix</th>\n",
       "    </tr>\n",
       "  </thead>\n",
       "  <tbody>\n",
       "    <tr>\n",
       "      <th>0</th>\n",
       "      <td>6129</td>\n",
       "      <td>5.2</td>\n",
       "    </tr>\n",
       "    <tr>\n",
       "      <th>1</th>\n",
       "      <td>4173</td>\n",
       "      <td>5.7</td>\n",
       "    </tr>\n",
       "    <tr>\n",
       "      <th>2</th>\n",
       "      <td>5777</td>\n",
       "      <td>5.7</td>\n",
       "    </tr>\n",
       "    <tr>\n",
       "      <th>3</th>\n",
       "      <td>4172</td>\n",
       "      <td>5.7</td>\n",
       "    </tr>\n",
       "    <tr>\n",
       "      <th>4</th>\n",
       "      <td>4174</td>\n",
       "      <td>5.7</td>\n",
       "    </tr>\n",
       "    <tr>\n",
       "      <th>...</th>\n",
       "      <td>...</td>\n",
       "      <td>...</td>\n",
       "    </tr>\n",
       "    <tr>\n",
       "      <th>818</th>\n",
       "      <td>5767</td>\n",
       "      <td>175.0</td>\n",
       "    </tr>\n",
       "    <tr>\n",
       "      <th>819</th>\n",
       "      <td>4402</td>\n",
       "      <td>176.0</td>\n",
       "    </tr>\n",
       "    <tr>\n",
       "      <th>820</th>\n",
       "      <td>5892</td>\n",
       "      <td>191.3</td>\n",
       "    </tr>\n",
       "    <tr>\n",
       "      <th>821</th>\n",
       "      <td>5001</td>\n",
       "      <td>217.5</td>\n",
       "    </tr>\n",
       "    <tr>\n",
       "      <th>822</th>\n",
       "      <td>4352</td>\n",
       "      <td>225.0</td>\n",
       "    </tr>\n",
       "  </tbody>\n",
       "</table>\n",
       "<p>823 rows × 2 columns</p>\n",
       "</div>"
      ],
      "text/plain": [
       "     id_produit   prix\n",
       "0          6129    5.2\n",
       "1          4173    5.7\n",
       "2          5777    5.7\n",
       "3          4172    5.7\n",
       "4          4174    5.7\n",
       "..          ...    ...\n",
       "818        5767  175.0\n",
       "819        4402  176.0\n",
       "820        5892  191.3\n",
       "821        5001  217.5\n",
       "822        4352  225.0\n",
       "\n",
       "[823 rows x 2 columns]"
      ]
     },
     "metadata": {},
     "output_type": "display_data"
    }
   ],
   "source": [
    "# Tri pour calcul de la médiane\n",
    "\n",
    "df3 = df3.sort_values(['prix'],ascending=True)\n",
    "df3 = df3.reset_index(drop=True)\n",
    "display(df3)"
   ]
  },
  {
   "cell_type": "code",
   "execution_count": 97,
   "id": "1235d7fb",
   "metadata": {
    "scrolled": true
   },
   "outputs": [
    {
     "data": {
      "text/plain": [
       "24.4"
      ]
     },
     "execution_count": 97,
     "metadata": {},
     "output_type": "execute_result"
    }
   ],
   "source": [
    "# Calcul de la médiane \n",
    "\n",
    "df3['prix'].median()"
   ]
  },
  {
   "cell_type": "code",
   "execution_count": 98,
   "id": "eb638dfb",
   "metadata": {},
   "outputs": [
    {
     "data": {
      "text/plain": [
       "id_produit    4920.0\n",
       "prix            24.4\n",
       "Name: 412, dtype: float64"
      ]
     },
     "execution_count": 98,
     "metadata": {},
     "output_type": "execute_result"
    }
   ],
   "source": [
    "# Vérification\n",
    "\n",
    "df3.loc[412]"
   ]
  },
  {
   "cell_type": "code",
   "execution_count": 99,
   "id": "23a631a3",
   "metadata": {
    "scrolled": false
   },
   "outputs": [
    {
     "data": {
      "text/plain": [
       "<seaborn.axisgrid.FacetGrid at 0x1fcfa550f10>"
      ]
     },
     "execution_count": 99,
     "metadata": {},
     "output_type": "execute_result"
    },
    {
     "data": {
      "image/png": "[encoded data removed]",
      "text/plain": [
       "<Figure size 1000x500 with 1 Axes>"
      ]
     },
     "metadata": {},
     "output_type": "display_data"
    }
   ],
   "source": [
    "# Visualisation de la distribution avec un histogramme\n",
    "\n",
    "sns.displot(df3['prix'], color = 'blue', kind = 'hist', binwidth = 2.5, aspect = 2)"
   ]
  },
  {
   "cell_type": "markdown",
   "id": "7fcb52b4",
   "metadata": {},
   "source": [
    "Ici, on n'a qu'un seul pic : distribution unimodale\n",
    "\n",
    "La médiane est de 24.4 et la moyenne est de 32.47"
   ]
  },
  {
   "cell_type": "markdown",
   "id": "e8ce7e48",
   "metadata": {},
   "source": [
    "<div style=\"border: 1px solid RGB(173,40,59);\" >\n",
    "<h3 style=\"margin: auto; padding: 20px; color: RGB(173,40,59); \">5.3 - Mesures de forme de la distribution</h3>"
   ]
  },
  {
   "cell_type": "code",
   "execution_count": 100,
   "id": "0a9f03b4",
   "metadata": {
    "scrolled": true
   },
   "outputs": [
    {
     "data": {
      "text/plain": [
       "2.6224515414240686"
      ]
     },
     "execution_count": 100,
     "metadata": {},
     "output_type": "execute_result"
    }
   ],
   "source": [
    "# Mesure d'asymétrie avec le calcul du skewness empirique\n",
    "\n",
    "df3['prix'].skew()"
   ]
  },
  {
   "cell_type": "markdown",
   "id": "db810310",
   "metadata": {},
   "source": [
    "->  supérieur à 0 donc la distribution est biaisée sur la droite"
   ]
  },
  {
   "cell_type": "markdown",
   "id": "c978ba0c",
   "metadata": {},
   "source": [
    "Grâce à ce calcul, nous savons que la majeure partie des valeurs se trouvent sur la gauche et les outliers sont à droite"
   ]
  },
  {
   "cell_type": "markdown",
   "id": "b462c3ed",
   "metadata": {},
   "source": [
    "<div style=\"border: 1px solid RGB(173,40,59);\" >\n",
    "<h3 style=\"margin: auto; padding: 20px; color: RGB(173,40,59); \">5.4 - Mesures de dispersion</h3>"
   ]
  },
  {
   "cell_type": "code",
   "execution_count": 101,
   "id": "a6b16803",
   "metadata": {},
   "outputs": [
    {
     "data": {
      "text/plain": [
       "32.47363304981774"
      ]
     },
     "execution_count": 101,
     "metadata": {},
     "output_type": "execute_result"
    }
   ],
   "source": [
    "# Rappel de la moyenne\n",
    "\n",
    "df3['prix'].mean()"
   ]
  },
  {
   "cell_type": "code",
   "execution_count": 102,
   "id": "c1b27c85",
   "metadata": {},
   "outputs": [
    {
     "data": {
      "text/plain": [
       "718.3746202398797"
      ]
     },
     "execution_count": 102,
     "metadata": {},
     "output_type": "execute_result"
    }
   ],
   "source": [
    "# Calcul de la variance empirique\n",
    "\n",
    "df3['prix'].var()"
   ]
  },
  {
   "cell_type": "code",
   "execution_count": 103,
   "id": "458a1082",
   "metadata": {},
   "outputs": [
    {
     "data": {
      "text/plain": [
       "717.5017470682639"
      ]
     },
     "execution_count": 103,
     "metadata": {},
     "output_type": "execute_result"
    }
   ],
   "source": [
    "# Calcul de la variance empirique sans biais\n",
    "\n",
    "df3['prix'].var(ddof=0)"
   ]
  },
  {
   "cell_type": "code",
   "execution_count": 104,
   "id": "a6fcef7d",
   "metadata": {
    "scrolled": true
   },
   "outputs": [
    {
     "data": {
      "text/plain": [
       "26.802511453964154"
      ]
     },
     "execution_count": 104,
     "metadata": {},
     "output_type": "execute_result"
    }
   ],
   "source": [
    "# Calcul de l'écart-type empirique\n",
    "\n",
    "df3['prix'].std()"
   ]
  },
  {
   "cell_type": "code",
   "execution_count": 105,
   "id": "1da8906d",
   "metadata": {},
   "outputs": [
    {
     "data": {
      "text/plain": [
       "0.825362268916646"
      ]
     },
     "execution_count": 105,
     "metadata": {},
     "output_type": "execute_result"
    }
   ],
   "source": [
    "# Coefficient de variation \n",
    "\n",
    "df3['prix'].std()/df3['prix'].mean()"
   ]
  },
  {
   "cell_type": "markdown",
   "id": "5a86f901",
   "metadata": {},
   "source": [
    "Méthode non gardée pour détecter les valeurs aberrantes, car dépendante de la moyenne, qui est elle-même influencée par les valeurs extrèmes"
   ]
  },
  {
   "cell_type": "code",
   "execution_count": 106,
   "id": "6c7803f2",
   "metadata": {
    "scrolled": true
   },
   "outputs": [
    {
     "data": {
      "text/html": [
       "<div>\n",
       "<style scoped>\n",
       "    .dataframe tbody tr th:only-of-type {\n",
       "        vertical-align: middle;\n",
       "    }\n",
       "\n",
       "    .dataframe tbody tr th {\n",
       "        vertical-align: top;\n",
       "    }\n",
       "\n",
       "    .dataframe thead th {\n",
       "        text-align: right;\n",
       "    }\n",
       "</style>\n",
       "<table border=\"1\" class=\"dataframe\">\n",
       "  <thead>\n",
       "    <tr style=\"text-align: right;\">\n",
       "      <th></th>\n",
       "      <th>id_produit</th>\n",
       "      <th>prix</th>\n",
       "    </tr>\n",
       "  </thead>\n",
       "  <tbody>\n",
       "    <tr>\n",
       "      <th>count</th>\n",
       "      <td>823.000000</td>\n",
       "      <td>823.000000</td>\n",
       "    </tr>\n",
       "    <tr>\n",
       "      <th>mean</th>\n",
       "      <td>5161.035237</td>\n",
       "      <td>32.473633</td>\n",
       "    </tr>\n",
       "    <tr>\n",
       "      <th>std</th>\n",
       "      <td>902.346337</td>\n",
       "      <td>26.802511</td>\n",
       "    </tr>\n",
       "    <tr>\n",
       "      <th>min</th>\n",
       "      <td>3847.000000</td>\n",
       "      <td>5.200000</td>\n",
       "    </tr>\n",
       "    <tr>\n",
       "      <th>25%</th>\n",
       "      <td>4342.500000</td>\n",
       "      <td>14.650000</td>\n",
       "    </tr>\n",
       "    <tr>\n",
       "      <th>50%</th>\n",
       "      <td>4904.000000</td>\n",
       "      <td>24.400000</td>\n",
       "    </tr>\n",
       "    <tr>\n",
       "      <th>75%</th>\n",
       "      <td>5804.500000</td>\n",
       "      <td>42.050000</td>\n",
       "    </tr>\n",
       "    <tr>\n",
       "      <th>max</th>\n",
       "      <td>7338.000000</td>\n",
       "      <td>225.000000</td>\n",
       "    </tr>\n",
       "  </tbody>\n",
       "</table>\n",
       "</div>"
      ],
      "text/plain": [
       "        id_produit        prix\n",
       "count   823.000000  823.000000\n",
       "mean   5161.035237   32.473633\n",
       "std     902.346337   26.802511\n",
       "min    3847.000000    5.200000\n",
       "25%    4342.500000   14.650000\n",
       "50%    4904.000000   24.400000\n",
       "75%    5804.500000   42.050000\n",
       "max    7338.000000  225.000000"
      ]
     },
     "execution_count": 106,
     "metadata": {},
     "output_type": "execute_result"
    }
   ],
   "source": [
    "# Affichage des infos du dataset\n",
    "\n",
    "df3.describe()"
   ]
  },
  {
   "cell_type": "code",
   "execution_count": 107,
   "id": "4ce52398",
   "metadata": {
    "scrolled": false
   },
   "outputs": [
    {
     "data": {
      "image/png": "[encoded data removed]",
      "text/plain": [
       "<Figure size 640x480 with 1 Axes>"
      ]
     },
     "metadata": {},
     "output_type": "display_data"
    }
   ],
   "source": [
    "# Visualisation de la distribution avec la boîte à moustache \n",
    "\n",
    "\n",
    "df3.boxplot(column='prix', vert=False,)\n",
    "plt.show()"
   ]
  },
  {
   "cell_type": "markdown",
   "id": "44bf9db0",
   "metadata": {},
   "source": [
    "Ici, nous pouvons constater que les données sur les prix sont faussées sur la droite, donc il existe beaucoup de valeurs extrêmes, dont certaines sont probablement aberrantes."
   ]
  },
  {
   "cell_type": "code",
   "execution_count": 108,
   "id": "c0bcd0c3",
   "metadata": {},
   "outputs": [],
   "source": [
    "# Calcul des quantiles\n",
    "\n",
    "q1=df3['prix'].quantile(q=0.25)\n",
    "q3=df3['prix'].quantile(q=0.75)"
   ]
  },
  {
   "cell_type": "code",
   "execution_count": 109,
   "id": "74d6c757",
   "metadata": {},
   "outputs": [
    {
     "data": {
      "text/plain": [
       "14.649999999999999"
      ]
     },
     "execution_count": 109,
     "metadata": {},
     "output_type": "execute_result"
    }
   ],
   "source": [
    "q1"
   ]
  },
  {
   "cell_type": "code",
   "execution_count": 110,
   "id": "17f2b650",
   "metadata": {},
   "outputs": [
    {
     "data": {
      "text/plain": [
       "42.05"
      ]
     },
     "execution_count": 110,
     "metadata": {},
     "output_type": "execute_result"
    }
   ],
   "source": [
    "q3"
   ]
  },
  {
   "cell_type": "code",
   "execution_count": 111,
   "id": "95a1b682",
   "metadata": {},
   "outputs": [],
   "source": [
    "# Calcul de l'écart inter-quartile\n",
    "\n",
    "IQR = q3-q1"
   ]
  },
  {
   "cell_type": "code",
   "execution_count": 112,
   "id": "d06feaa3",
   "metadata": {},
   "outputs": [
    {
     "data": {
      "text/plain": [
       "27.4"
      ]
     },
     "execution_count": 112,
     "metadata": {},
     "output_type": "execute_result"
    }
   ],
   "source": [
    "IQR"
   ]
  },
  {
   "cell_type": "code",
   "execution_count": 113,
   "id": "add2a824",
   "metadata": {},
   "outputs": [],
   "source": [
    "# Calcul des bornes inférieure et supérieure\n",
    "\n",
    "borne_inf = q1-1.5*IQR\n",
    "borne_sup = q3+1.5*IQR"
   ]
  },
  {
   "cell_type": "code",
   "execution_count": 114,
   "id": "f68e4625",
   "metadata": {
    "scrolled": true
   },
   "outputs": [
    {
     "data": {
      "text/plain": [
       "83.14999999999999"
      ]
     },
     "execution_count": 114,
     "metadata": {},
     "output_type": "execute_result"
    }
   ],
   "source": [
    "borne_sup"
   ]
  },
  {
   "cell_type": "code",
   "execution_count": 115,
   "id": "c19bee8e",
   "metadata": {},
   "outputs": [
    {
     "data": {
      "text/html": [
       "<div>\n",
       "<style scoped>\n",
       "    .dataframe tbody tr th:only-of-type {\n",
       "        vertical-align: middle;\n",
       "    }\n",
       "\n",
       "    .dataframe tbody tr th {\n",
       "        vertical-align: top;\n",
       "    }\n",
       "\n",
       "    .dataframe thead th {\n",
       "        text-align: right;\n",
       "    }\n",
       "</style>\n",
       "<table border=\"1\" class=\"dataframe\">\n",
       "  <thead>\n",
       "    <tr style=\"text-align: right;\">\n",
       "      <th></th>\n",
       "      <th>id_produit</th>\n",
       "      <th>prix</th>\n",
       "    </tr>\n",
       "  </thead>\n",
       "  <tbody>\n",
       "    <tr>\n",
       "      <th>0</th>\n",
       "      <td>6129</td>\n",
       "      <td>5.2</td>\n",
       "    </tr>\n",
       "    <tr>\n",
       "      <th>1</th>\n",
       "      <td>4173</td>\n",
       "      <td>5.7</td>\n",
       "    </tr>\n",
       "    <tr>\n",
       "      <th>2</th>\n",
       "      <td>5777</td>\n",
       "      <td>5.7</td>\n",
       "    </tr>\n",
       "    <tr>\n",
       "      <th>3</th>\n",
       "      <td>4172</td>\n",
       "      <td>5.7</td>\n",
       "    </tr>\n",
       "    <tr>\n",
       "      <th>4</th>\n",
       "      <td>4174</td>\n",
       "      <td>5.7</td>\n",
       "    </tr>\n",
       "    <tr>\n",
       "      <th>...</th>\n",
       "      <td>...</td>\n",
       "      <td>...</td>\n",
       "    </tr>\n",
       "    <tr>\n",
       "      <th>781</th>\n",
       "      <td>4350</td>\n",
       "      <td>79.5</td>\n",
       "    </tr>\n",
       "    <tr>\n",
       "      <th>782</th>\n",
       "      <td>4353</td>\n",
       "      <td>79.5</td>\n",
       "    </tr>\n",
       "    <tr>\n",
       "      <th>783</th>\n",
       "      <td>4210</td>\n",
       "      <td>79.8</td>\n",
       "    </tr>\n",
       "    <tr>\n",
       "      <th>784</th>\n",
       "      <td>4046</td>\n",
       "      <td>80.0</td>\n",
       "    </tr>\n",
       "    <tr>\n",
       "      <th>785</th>\n",
       "      <td>4337</td>\n",
       "      <td>83.0</td>\n",
       "    </tr>\n",
       "  </tbody>\n",
       "</table>\n",
       "<p>786 rows × 2 columns</p>\n",
       "</div>"
      ],
      "text/plain": [
       "     id_produit  prix\n",
       "0          6129   5.2\n",
       "1          4173   5.7\n",
       "2          5777   5.7\n",
       "3          4172   5.7\n",
       "4          4174   5.7\n",
       "..          ...   ...\n",
       "781        4350  79.5\n",
       "782        4353  79.5\n",
       "783        4210  79.8\n",
       "784        4046  80.0\n",
       "785        4337  83.0\n",
       "\n",
       "[786 rows x 2 columns]"
      ]
     },
     "execution_count": 115,
     "metadata": {},
     "output_type": "execute_result"
    }
   ],
   "source": [
    "# Tri des valeurs entre les bornes\n",
    "\n",
    "dfbox = df3[(df3['prix']<borne_sup) & (df3['prix']>borne_inf)]\n",
    "\n",
    "dfbox"
   ]
  },
  {
   "cell_type": "code",
   "execution_count": 116,
   "id": "dc0e6eee",
   "metadata": {},
   "outputs": [
    {
     "data": {
      "text/html": [
       "<div>\n",
       "<style scoped>\n",
       "    .dataframe tbody tr th:only-of-type {\n",
       "        vertical-align: middle;\n",
       "    }\n",
       "\n",
       "    .dataframe tbody tr th {\n",
       "        vertical-align: top;\n",
       "    }\n",
       "\n",
       "    .dataframe thead th {\n",
       "        text-align: right;\n",
       "    }\n",
       "</style>\n",
       "<table border=\"1\" class=\"dataframe\">\n",
       "  <thead>\n",
       "    <tr style=\"text-align: right;\">\n",
       "      <th></th>\n",
       "      <th>id_produit</th>\n",
       "      <th>prix</th>\n",
       "    </tr>\n",
       "  </thead>\n",
       "  <tbody>\n",
       "    <tr>\n",
       "      <th>469</th>\n",
       "      <td>5017</td>\n",
       "      <td>-8.0</td>\n",
       "    </tr>\n",
       "    <tr>\n",
       "      <th>739</th>\n",
       "      <td>6594</td>\n",
       "      <td>-1.0</td>\n",
       "    </tr>\n",
       "    <tr>\n",
       "      <th>786</th>\n",
       "      <td>5580</td>\n",
       "      <td>83.7</td>\n",
       "    </tr>\n",
       "    <tr>\n",
       "      <th>787</th>\n",
       "      <td>5070</td>\n",
       "      <td>84.7</td>\n",
       "    </tr>\n",
       "    <tr>\n",
       "      <th>788</th>\n",
       "      <td>4359</td>\n",
       "      <td>85.6</td>\n",
       "    </tr>\n",
       "  </tbody>\n",
       "</table>\n",
       "</div>"
      ],
      "text/plain": [
       "     id_produit  prix\n",
       "469        5017  -8.0\n",
       "739        6594  -1.0\n",
       "786        5580  83.7\n",
       "787        5070  84.7\n",
       "788        4359  85.6"
      ]
     },
     "execution_count": 116,
     "metadata": {},
     "output_type": "execute_result"
    }
   ],
   "source": [
    "# Création d'un dataframe des valeurs aberrantes avec ajout des 2 prix négatifs\n",
    "\n",
    "dfextremes = df3[(df3['prix']>borne_sup) | (df3['prix']<borne_inf)]\n",
    "dfoutliers = pd.concat([dfnegatif, dfextremes], axis=0)\n",
    "\n",
    "dfoutliers.head()"
   ]
  },
  {
   "cell_type": "code",
   "execution_count": 117,
   "id": "d95a1b6d",
   "metadata": {},
   "outputs": [
    {
     "data": {
      "text/html": [
       "<div>\n",
       "<style scoped>\n",
       "    .dataframe tbody tr th:only-of-type {\n",
       "        vertical-align: middle;\n",
       "    }\n",
       "\n",
       "    .dataframe tbody tr th {\n",
       "        vertical-align: top;\n",
       "    }\n",
       "\n",
       "    .dataframe thead th {\n",
       "        text-align: right;\n",
       "    }\n",
       "</style>\n",
       "<table border=\"1\" class=\"dataframe\">\n",
       "  <thead>\n",
       "    <tr style=\"text-align: right;\">\n",
       "      <th></th>\n",
       "      <th>id_produit</th>\n",
       "      <th>prix</th>\n",
       "    </tr>\n",
       "  </thead>\n",
       "  <tbody>\n",
       "    <tr>\n",
       "      <th>469</th>\n",
       "      <td>5017</td>\n",
       "      <td>-8.0</td>\n",
       "    </tr>\n",
       "    <tr>\n",
       "      <th>739</th>\n",
       "      <td>6594</td>\n",
       "      <td>-1.0</td>\n",
       "    </tr>\n",
       "    <tr>\n",
       "      <th>786</th>\n",
       "      <td>5580</td>\n",
       "      <td>83.7</td>\n",
       "    </tr>\n",
       "    <tr>\n",
       "      <th>787</th>\n",
       "      <td>5070</td>\n",
       "      <td>84.7</td>\n",
       "    </tr>\n",
       "    <tr>\n",
       "      <th>788</th>\n",
       "      <td>4359</td>\n",
       "      <td>85.6</td>\n",
       "    </tr>\n",
       "    <tr>\n",
       "      <th>789</th>\n",
       "      <td>4055</td>\n",
       "      <td>86.1</td>\n",
       "    </tr>\n",
       "    <tr>\n",
       "      <th>790</th>\n",
       "      <td>5026</td>\n",
       "      <td>86.8</td>\n",
       "    </tr>\n",
       "    <tr>\n",
       "      <th>791</th>\n",
       "      <td>4132</td>\n",
       "      <td>88.4</td>\n",
       "    </tr>\n",
       "    <tr>\n",
       "      <th>793</th>\n",
       "      <td>6324</td>\n",
       "      <td>92.0</td>\n",
       "    </tr>\n",
       "    <tr>\n",
       "      <th>792</th>\n",
       "      <td>5565</td>\n",
       "      <td>92.0</td>\n",
       "    </tr>\n",
       "    <tr>\n",
       "      <th>794</th>\n",
       "      <td>5916</td>\n",
       "      <td>93.0</td>\n",
       "    </tr>\n",
       "    <tr>\n",
       "      <th>795</th>\n",
       "      <td>6214</td>\n",
       "      <td>99.0</td>\n",
       "    </tr>\n",
       "    <tr>\n",
       "      <th>796</th>\n",
       "      <td>4115</td>\n",
       "      <td>100.0</td>\n",
       "    </tr>\n",
       "    <tr>\n",
       "      <th>797</th>\n",
       "      <td>4903</td>\n",
       "      <td>102.3</td>\n",
       "    </tr>\n",
       "    <tr>\n",
       "      <th>798</th>\n",
       "      <td>4407</td>\n",
       "      <td>104.0</td>\n",
       "    </tr>\n",
       "    <tr>\n",
       "      <th>799</th>\n",
       "      <td>5008</td>\n",
       "      <td>105.0</td>\n",
       "    </tr>\n",
       "    <tr>\n",
       "      <th>800</th>\n",
       "      <td>5007</td>\n",
       "      <td>105.0</td>\n",
       "    </tr>\n",
       "    <tr>\n",
       "      <th>801</th>\n",
       "      <td>6201</td>\n",
       "      <td>105.6</td>\n",
       "    </tr>\n",
       "    <tr>\n",
       "      <th>802</th>\n",
       "      <td>4404</td>\n",
       "      <td>108.5</td>\n",
       "    </tr>\n",
       "    <tr>\n",
       "      <th>803</th>\n",
       "      <td>4582</td>\n",
       "      <td>109.6</td>\n",
       "    </tr>\n",
       "    <tr>\n",
       "      <th>804</th>\n",
       "      <td>5025</td>\n",
       "      <td>112.0</td>\n",
       "    </tr>\n",
       "    <tr>\n",
       "      <th>805</th>\n",
       "      <td>5918</td>\n",
       "      <td>114.0</td>\n",
       "    </tr>\n",
       "    <tr>\n",
       "      <th>806</th>\n",
       "      <td>6215</td>\n",
       "      <td>115.0</td>\n",
       "    </tr>\n",
       "    <tr>\n",
       "      <th>807</th>\n",
       "      <td>6212</td>\n",
       "      <td>115.0</td>\n",
       "    </tr>\n",
       "    <tr>\n",
       "      <th>808</th>\n",
       "      <td>6202</td>\n",
       "      <td>116.4</td>\n",
       "    </tr>\n",
       "    <tr>\n",
       "      <th>809</th>\n",
       "      <td>6216</td>\n",
       "      <td>121.0</td>\n",
       "    </tr>\n",
       "    <tr>\n",
       "      <th>810</th>\n",
       "      <td>6213</td>\n",
       "      <td>121.0</td>\n",
       "    </tr>\n",
       "    <tr>\n",
       "      <th>811</th>\n",
       "      <td>5917</td>\n",
       "      <td>122.0</td>\n",
       "    </tr>\n",
       "    <tr>\n",
       "      <th>812</th>\n",
       "      <td>5612</td>\n",
       "      <td>124.8</td>\n",
       "    </tr>\n",
       "    <tr>\n",
       "      <th>813</th>\n",
       "      <td>4355</td>\n",
       "      <td>126.5</td>\n",
       "    </tr>\n",
       "    <tr>\n",
       "      <th>814</th>\n",
       "      <td>6126</td>\n",
       "      <td>135.0</td>\n",
       "    </tr>\n",
       "    <tr>\n",
       "      <th>815</th>\n",
       "      <td>4904</td>\n",
       "      <td>137.0</td>\n",
       "    </tr>\n",
       "    <tr>\n",
       "      <th>816</th>\n",
       "      <td>4594</td>\n",
       "      <td>144.0</td>\n",
       "    </tr>\n",
       "    <tr>\n",
       "      <th>817</th>\n",
       "      <td>4406</td>\n",
       "      <td>157.0</td>\n",
       "    </tr>\n",
       "    <tr>\n",
       "      <th>818</th>\n",
       "      <td>5767</td>\n",
       "      <td>175.0</td>\n",
       "    </tr>\n",
       "    <tr>\n",
       "      <th>819</th>\n",
       "      <td>4402</td>\n",
       "      <td>176.0</td>\n",
       "    </tr>\n",
       "    <tr>\n",
       "      <th>820</th>\n",
       "      <td>5892</td>\n",
       "      <td>191.3</td>\n",
       "    </tr>\n",
       "    <tr>\n",
       "      <th>821</th>\n",
       "      <td>5001</td>\n",
       "      <td>217.5</td>\n",
       "    </tr>\n",
       "    <tr>\n",
       "      <th>822</th>\n",
       "      <td>4352</td>\n",
       "      <td>225.0</td>\n",
       "    </tr>\n",
       "  </tbody>\n",
       "</table>\n",
       "</div>"
      ],
      "text/plain": [
       "     id_produit   prix\n",
       "469        5017   -8.0\n",
       "739        6594   -1.0\n",
       "786        5580   83.7\n",
       "787        5070   84.7\n",
       "788        4359   85.6\n",
       "789        4055   86.1\n",
       "790        5026   86.8\n",
       "791        4132   88.4\n",
       "793        6324   92.0\n",
       "792        5565   92.0\n",
       "794        5916   93.0\n",
       "795        6214   99.0\n",
       "796        4115  100.0\n",
       "797        4903  102.3\n",
       "798        4407  104.0\n",
       "799        5008  105.0\n",
       "800        5007  105.0\n",
       "801        6201  105.6\n",
       "802        4404  108.5\n",
       "803        4582  109.6\n",
       "804        5025  112.0\n",
       "805        5918  114.0\n",
       "806        6215  115.0\n",
       "807        6212  115.0\n",
       "808        6202  116.4\n",
       "809        6216  121.0\n",
       "810        6213  121.0\n",
       "811        5917  122.0\n",
       "812        5612  124.8\n",
       "813        4355  126.5\n",
       "814        6126  135.0\n",
       "815        4904  137.0\n",
       "816        4594  144.0\n",
       "817        4406  157.0\n",
       "818        5767  175.0\n",
       "819        4402  176.0\n",
       "820        5892  191.3\n",
       "821        5001  217.5\n",
       "822        4352  225.0"
      ]
     },
     "execution_count": 117,
     "metadata": {},
     "output_type": "execute_result"
    }
   ],
   "source": [
    "# Tri des valeurs aberrantes et affichage du df\n",
    "\n",
    "dfoutliers.sort_values('prix',ascending=True)"
   ]
  },
  {
   "cell_type": "code",
   "execution_count": 118,
   "id": "afc32dc0",
   "metadata": {
    "scrolled": true
   },
   "outputs": [
    {
     "name": "stdout",
     "output_type": "stream",
     "text": [
      "<class 'pandas.core.frame.DataFrame'>\n",
      "Int64Index: 39 entries, 469 to 822\n",
      "Data columns (total 2 columns):\n",
      " #   Column      Non-Null Count  Dtype  \n",
      "---  ------      --------------  -----  \n",
      " 0   id_produit  39 non-null     int64  \n",
      " 1   prix        39 non-null     float64\n",
      "dtypes: float64(1), int64(1)\n",
      "memory usage: 936.0 bytes\n"
     ]
    }
   ],
   "source": [
    "# Affichage des infos\n",
    "\n",
    "dfoutliers.info()"
   ]
  },
  {
   "cell_type": "code",
   "execution_count": 119,
   "id": "374bfde7",
   "metadata": {
    "scrolled": false
   },
   "outputs": [
    {
     "data": {
      "text/plain": [
       "<Axes: >"
      ]
     },
     "execution_count": 119,
     "metadata": {},
     "output_type": "execute_result"
    },
    {
     "data": {
      "image/png": "[encoded data removed]",
      "text/plain": [
       "<Figure size 640x480 with 1 Axes>"
      ]
     },
     "metadata": {},
     "output_type": "display_data"
    }
   ],
   "source": [
    "# Diagramme en bâtons des valeurs aberrantes avec value counts\n",
    "\n",
    "dfoutliers.prix.value_counts()[dfoutliers.prix.unique()].plot(kind='bar')"
   ]
  },
  {
   "cell_type": "markdown",
   "id": "6275e484",
   "metadata": {},
   "source": [
    "<div style=\"background-color: RGB(173,40,59);\" >\n",
    "<h2 style=\"margin: auto; padding: 20px; color:#fff; \">Etape 6 - Conclusion </h2>"
   ]
  },
  {
   "cell_type": "code",
   "execution_count": 120,
   "id": "7b019005",
   "metadata": {
    "scrolled": false
   },
   "outputs": [
    {
     "data": {
      "text/html": [
       "<div>\n",
       "<style scoped>\n",
       "    .dataframe tbody tr th:only-of-type {\n",
       "        vertical-align: middle;\n",
       "    }\n",
       "\n",
       "    .dataframe tbody tr th {\n",
       "        vertical-align: top;\n",
       "    }\n",
       "\n",
       "    .dataframe thead th {\n",
       "        text-align: right;\n",
       "    }\n",
       "</style>\n",
       "<table border=\"1\" class=\"dataframe\">\n",
       "  <thead>\n",
       "    <tr style=\"text-align: right;\">\n",
       "      <th></th>\n",
       "      <th>id_produit</th>\n",
       "      <th>prix</th>\n",
       "    </tr>\n",
       "  </thead>\n",
       "  <tbody>\n",
       "    <tr>\n",
       "      <th>469</th>\n",
       "      <td>5017</td>\n",
       "      <td>-8.0</td>\n",
       "    </tr>\n",
       "    <tr>\n",
       "      <th>739</th>\n",
       "      <td>6594</td>\n",
       "      <td>-1.0</td>\n",
       "    </tr>\n",
       "    <tr>\n",
       "      <th>786</th>\n",
       "      <td>5580</td>\n",
       "      <td>83.7</td>\n",
       "    </tr>\n",
       "    <tr>\n",
       "      <th>787</th>\n",
       "      <td>5070</td>\n",
       "      <td>84.7</td>\n",
       "    </tr>\n",
       "    <tr>\n",
       "      <th>788</th>\n",
       "      <td>4359</td>\n",
       "      <td>85.6</td>\n",
       "    </tr>\n",
       "    <tr>\n",
       "      <th>789</th>\n",
       "      <td>4055</td>\n",
       "      <td>86.1</td>\n",
       "    </tr>\n",
       "    <tr>\n",
       "      <th>790</th>\n",
       "      <td>5026</td>\n",
       "      <td>86.8</td>\n",
       "    </tr>\n",
       "    <tr>\n",
       "      <th>791</th>\n",
       "      <td>4132</td>\n",
       "      <td>88.4</td>\n",
       "    </tr>\n",
       "    <tr>\n",
       "      <th>792</th>\n",
       "      <td>5565</td>\n",
       "      <td>92.0</td>\n",
       "    </tr>\n",
       "    <tr>\n",
       "      <th>793</th>\n",
       "      <td>6324</td>\n",
       "      <td>92.0</td>\n",
       "    </tr>\n",
       "    <tr>\n",
       "      <th>794</th>\n",
       "      <td>5916</td>\n",
       "      <td>93.0</td>\n",
       "    </tr>\n",
       "    <tr>\n",
       "      <th>795</th>\n",
       "      <td>6214</td>\n",
       "      <td>99.0</td>\n",
       "    </tr>\n",
       "    <tr>\n",
       "      <th>796</th>\n",
       "      <td>4115</td>\n",
       "      <td>100.0</td>\n",
       "    </tr>\n",
       "    <tr>\n",
       "      <th>797</th>\n",
       "      <td>4903</td>\n",
       "      <td>102.3</td>\n",
       "    </tr>\n",
       "    <tr>\n",
       "      <th>798</th>\n",
       "      <td>4407</td>\n",
       "      <td>104.0</td>\n",
       "    </tr>\n",
       "    <tr>\n",
       "      <th>799</th>\n",
       "      <td>5008</td>\n",
       "      <td>105.0</td>\n",
       "    </tr>\n",
       "    <tr>\n",
       "      <th>800</th>\n",
       "      <td>5007</td>\n",
       "      <td>105.0</td>\n",
       "    </tr>\n",
       "    <tr>\n",
       "      <th>801</th>\n",
       "      <td>6201</td>\n",
       "      <td>105.6</td>\n",
       "    </tr>\n",
       "    <tr>\n",
       "      <th>802</th>\n",
       "      <td>4404</td>\n",
       "      <td>108.5</td>\n",
       "    </tr>\n",
       "    <tr>\n",
       "      <th>803</th>\n",
       "      <td>4582</td>\n",
       "      <td>109.6</td>\n",
       "    </tr>\n",
       "    <tr>\n",
       "      <th>804</th>\n",
       "      <td>5025</td>\n",
       "      <td>112.0</td>\n",
       "    </tr>\n",
       "    <tr>\n",
       "      <th>805</th>\n",
       "      <td>5918</td>\n",
       "      <td>114.0</td>\n",
       "    </tr>\n",
       "    <tr>\n",
       "      <th>806</th>\n",
       "      <td>6215</td>\n",
       "      <td>115.0</td>\n",
       "    </tr>\n",
       "    <tr>\n",
       "      <th>807</th>\n",
       "      <td>6212</td>\n",
       "      <td>115.0</td>\n",
       "    </tr>\n",
       "    <tr>\n",
       "      <th>808</th>\n",
       "      <td>6202</td>\n",
       "      <td>116.4</td>\n",
       "    </tr>\n",
       "    <tr>\n",
       "      <th>809</th>\n",
       "      <td>6216</td>\n",
       "      <td>121.0</td>\n",
       "    </tr>\n",
       "    <tr>\n",
       "      <th>810</th>\n",
       "      <td>6213</td>\n",
       "      <td>121.0</td>\n",
       "    </tr>\n",
       "    <tr>\n",
       "      <th>811</th>\n",
       "      <td>5917</td>\n",
       "      <td>122.0</td>\n",
       "    </tr>\n",
       "    <tr>\n",
       "      <th>812</th>\n",
       "      <td>5612</td>\n",
       "      <td>124.8</td>\n",
       "    </tr>\n",
       "    <tr>\n",
       "      <th>813</th>\n",
       "      <td>4355</td>\n",
       "      <td>126.5</td>\n",
       "    </tr>\n",
       "    <tr>\n",
       "      <th>814</th>\n",
       "      <td>6126</td>\n",
       "      <td>135.0</td>\n",
       "    </tr>\n",
       "    <tr>\n",
       "      <th>815</th>\n",
       "      <td>4904</td>\n",
       "      <td>137.0</td>\n",
       "    </tr>\n",
       "    <tr>\n",
       "      <th>816</th>\n",
       "      <td>4594</td>\n",
       "      <td>144.0</td>\n",
       "    </tr>\n",
       "    <tr>\n",
       "      <th>817</th>\n",
       "      <td>4406</td>\n",
       "      <td>157.0</td>\n",
       "    </tr>\n",
       "    <tr>\n",
       "      <th>818</th>\n",
       "      <td>5767</td>\n",
       "      <td>175.0</td>\n",
       "    </tr>\n",
       "    <tr>\n",
       "      <th>819</th>\n",
       "      <td>4402</td>\n",
       "      <td>176.0</td>\n",
       "    </tr>\n",
       "    <tr>\n",
       "      <th>820</th>\n",
       "      <td>5892</td>\n",
       "      <td>191.3</td>\n",
       "    </tr>\n",
       "    <tr>\n",
       "      <th>821</th>\n",
       "      <td>5001</td>\n",
       "      <td>217.5</td>\n",
       "    </tr>\n",
       "    <tr>\n",
       "      <th>822</th>\n",
       "      <td>4352</td>\n",
       "      <td>225.0</td>\n",
       "    </tr>\n",
       "  </tbody>\n",
       "</table>\n",
       "</div>"
      ],
      "text/plain": [
       "     id_produit   prix\n",
       "469        5017   -8.0\n",
       "739        6594   -1.0\n",
       "786        5580   83.7\n",
       "787        5070   84.7\n",
       "788        4359   85.6\n",
       "789        4055   86.1\n",
       "790        5026   86.8\n",
       "791        4132   88.4\n",
       "792        5565   92.0\n",
       "793        6324   92.0\n",
       "794        5916   93.0\n",
       "795        6214   99.0\n",
       "796        4115  100.0\n",
       "797        4903  102.3\n",
       "798        4407  104.0\n",
       "799        5008  105.0\n",
       "800        5007  105.0\n",
       "801        6201  105.6\n",
       "802        4404  108.5\n",
       "803        4582  109.6\n",
       "804        5025  112.0\n",
       "805        5918  114.0\n",
       "806        6215  115.0\n",
       "807        6212  115.0\n",
       "808        6202  116.4\n",
       "809        6216  121.0\n",
       "810        6213  121.0\n",
       "811        5917  122.0\n",
       "812        5612  124.8\n",
       "813        4355  126.5\n",
       "814        6126  135.0\n",
       "815        4904  137.0\n",
       "816        4594  144.0\n",
       "817        4406  157.0\n",
       "818        5767  175.0\n",
       "819        4402  176.0\n",
       "820        5892  191.3\n",
       "821        5001  217.5\n",
       "822        4352  225.0"
      ]
     },
     "execution_count": 120,
     "metadata": {},
     "output_type": "execute_result"
    }
   ],
   "source": [
    "# Affichage des outliers\n",
    "\n",
    "dfoutliers"
   ]
  },
  {
   "cell_type": "markdown",
   "id": "5f5d81eb",
   "metadata": {},
   "source": [
    "39 valeurs aberrantes trouvées \n",
    "\n",
    "Il n'est bien sûr pas certain que ce sont bien toutes des erreurs, mais il faut le confirmer.\n",
    "\n",
    "Il serait intéressant de mettre en place une détection d'erreurs de saisie potentielle pour toute valeur <0€ ou >83.15€ dans la future solution centralisée. "
   ]
  }
 ],
 "metadata": {
  "kernelspec": {
   "display_name": "Python 3 (ipykernel)",
   "language": "python",
   "name": "python3"
  },
  "language_info": {
   "codemirror_mode": {
    "name": "ipython",
    "version": 3
   },
   "file_extension": ".py",
   "mimetype": "text/x-python",
   "name": "python",
   "nbconvert_exporter": "python",
   "pygments_lexer": "ipython3",
   "version": "3.10.9"
  }
 },
 "nbformat": 4,
 "nbformat_minor": 5
}
